{
 "cells": [
  {
   "cell_type": "markdown",
   "id": "930e97a2",
   "metadata": {
    "deletable": false,
    "editable": false,
    "id": "c81daeeb"
   },
   "source": [
    "# Исследование надежности заемщиков\n"
   ]
  },
  {
   "cell_type": "markdown",
   "id": "92f4c292",
   "metadata": {},
   "source": [
    "Заказчик — кредитный отдел банка. Нужно разобраться, влияет ли семейное положение и количество детей клиента на факт погашения кредита в срок. \n",
    "\n",
    "Входные данные от банка — статистика о платёжеспособности клиентов.\n",
    "Результаты исследования будут учтены при построении модели кредитного скоринга — специальной системы, которая оценивает способность потенциального заёмщика вернуть кредит банку."
   ]
  },
  {
   "cell_type": "markdown",
   "id": "915943b2",
   "metadata": {
    "deletable": false,
    "editable": false,
    "id": "827c20bf"
   },
   "source": [
    "Во второй части проекта вы выполните шаги 3 и 4. Их вручную проверит ревьюер.\n",
    "Чтобы вам не пришлось писать код заново для шагов 1 и 2, мы добавили авторские решения в ячейки с кодом. \n",
    "\n"
   ]
  },
  {
   "cell_type": "markdown",
   "id": "0a41fb5e",
   "metadata": {
    "deletable": false,
    "editable": false,
    "id": "744d7639"
   },
   "source": [
    "## Откройте таблицу и изучите общую информацию о данных"
   ]
  },
  {
   "cell_type": "markdown",
   "id": "80519d81",
   "metadata": {
    "deletable": false,
    "editable": false,
    "id": "e7a14c31"
   },
   "source": [
    "**Задание 1. Импортируйте библиотеку pandas. Считайте данные из csv-файла в датафрейм и сохраните в переменную `data`. Путь к файлу:**\n",
    "\n",
    "`/datasets/data.csv`"
   ]
  },
  {
   "cell_type": "code",
   "execution_count": 1,
   "id": "a06ff430",
   "metadata": {
    "deletable": false,
    "id": "7bcf75c9"
   },
   "outputs": [],
   "source": [
    "import pandas as pd\n",
    "import seaborn as sns\n",
    "import matplotlib as mpl\n",
    "import matplotlib.pyplot as plt\n",
    "%config InlineBackend.figure_format='retina'\n",
    "%matplotlib inline\n",
    "\n",
    "try:\n",
    "    data = pd.read_csv('/datasets/data.csv')\n",
    "except:\n",
    "    data = pd.read_csv('https://code.s3.yandex.net/datasets/data.csv')"
   ]
  },
  {
   "cell_type": "markdown",
   "id": "504f62ca",
   "metadata": {
    "deletable": false,
    "editable": false,
    "id": "b8038fe3"
   },
   "source": [
    "**Задание 2. Выведите первые 20 строчек датафрейма `data` на экран.**"
   ]
  },
  {
   "cell_type": "code",
   "execution_count": 2,
   "id": "046d2ffa",
   "metadata": {
    "deletable": false,
    "id": "2a7cab99",
    "outputId": "1a8f3ef2-d323-4ec2-ddf7-89670b5944c4"
   },
   "outputs": [
    {
     "data": {
      "text/html": [
       "<div>\n",
       "<style scoped>\n",
       "    .dataframe tbody tr th:only-of-type {\n",
       "        vertical-align: middle;\n",
       "    }\n",
       "\n",
       "    .dataframe tbody tr th {\n",
       "        vertical-align: top;\n",
       "    }\n",
       "\n",
       "    .dataframe thead th {\n",
       "        text-align: right;\n",
       "    }\n",
       "</style>\n",
       "<table border=\"1\" class=\"dataframe\">\n",
       "  <thead>\n",
       "    <tr style=\"text-align: right;\">\n",
       "      <th></th>\n",
       "      <th>children</th>\n",
       "      <th>days_employed</th>\n",
       "      <th>dob_years</th>\n",
       "      <th>education</th>\n",
       "      <th>education_id</th>\n",
       "      <th>family_status</th>\n",
       "      <th>family_status_id</th>\n",
       "      <th>gender</th>\n",
       "      <th>income_type</th>\n",
       "      <th>debt</th>\n",
       "      <th>total_income</th>\n",
       "      <th>purpose</th>\n",
       "    </tr>\n",
       "  </thead>\n",
       "  <tbody>\n",
       "    <tr>\n",
       "      <th>0</th>\n",
       "      <td>1</td>\n",
       "      <td>-8437.673028</td>\n",
       "      <td>42</td>\n",
       "      <td>высшее</td>\n",
       "      <td>0</td>\n",
       "      <td>женат / замужем</td>\n",
       "      <td>0</td>\n",
       "      <td>F</td>\n",
       "      <td>сотрудник</td>\n",
       "      <td>0</td>\n",
       "      <td>253875.639453</td>\n",
       "      <td>покупка жилья</td>\n",
       "    </tr>\n",
       "    <tr>\n",
       "      <th>1</th>\n",
       "      <td>1</td>\n",
       "      <td>-4024.803754</td>\n",
       "      <td>36</td>\n",
       "      <td>среднее</td>\n",
       "      <td>1</td>\n",
       "      <td>женат / замужем</td>\n",
       "      <td>0</td>\n",
       "      <td>F</td>\n",
       "      <td>сотрудник</td>\n",
       "      <td>0</td>\n",
       "      <td>112080.014102</td>\n",
       "      <td>приобретение автомобиля</td>\n",
       "    </tr>\n",
       "    <tr>\n",
       "      <th>2</th>\n",
       "      <td>0</td>\n",
       "      <td>-5623.422610</td>\n",
       "      <td>33</td>\n",
       "      <td>Среднее</td>\n",
       "      <td>1</td>\n",
       "      <td>женат / замужем</td>\n",
       "      <td>0</td>\n",
       "      <td>M</td>\n",
       "      <td>сотрудник</td>\n",
       "      <td>0</td>\n",
       "      <td>145885.952297</td>\n",
       "      <td>покупка жилья</td>\n",
       "    </tr>\n",
       "    <tr>\n",
       "      <th>3</th>\n",
       "      <td>3</td>\n",
       "      <td>-4124.747207</td>\n",
       "      <td>32</td>\n",
       "      <td>среднее</td>\n",
       "      <td>1</td>\n",
       "      <td>женат / замужем</td>\n",
       "      <td>0</td>\n",
       "      <td>M</td>\n",
       "      <td>сотрудник</td>\n",
       "      <td>0</td>\n",
       "      <td>267628.550329</td>\n",
       "      <td>дополнительное образование</td>\n",
       "    </tr>\n",
       "    <tr>\n",
       "      <th>4</th>\n",
       "      <td>0</td>\n",
       "      <td>340266.072047</td>\n",
       "      <td>53</td>\n",
       "      <td>среднее</td>\n",
       "      <td>1</td>\n",
       "      <td>гражданский брак</td>\n",
       "      <td>1</td>\n",
       "      <td>F</td>\n",
       "      <td>пенсионер</td>\n",
       "      <td>0</td>\n",
       "      <td>158616.077870</td>\n",
       "      <td>сыграть свадьбу</td>\n",
       "    </tr>\n",
       "    <tr>\n",
       "      <th>5</th>\n",
       "      <td>0</td>\n",
       "      <td>-926.185831</td>\n",
       "      <td>27</td>\n",
       "      <td>высшее</td>\n",
       "      <td>0</td>\n",
       "      <td>гражданский брак</td>\n",
       "      <td>1</td>\n",
       "      <td>M</td>\n",
       "      <td>компаньон</td>\n",
       "      <td>0</td>\n",
       "      <td>255763.565419</td>\n",
       "      <td>покупка жилья</td>\n",
       "    </tr>\n",
       "    <tr>\n",
       "      <th>6</th>\n",
       "      <td>0</td>\n",
       "      <td>-2879.202052</td>\n",
       "      <td>43</td>\n",
       "      <td>высшее</td>\n",
       "      <td>0</td>\n",
       "      <td>женат / замужем</td>\n",
       "      <td>0</td>\n",
       "      <td>F</td>\n",
       "      <td>компаньон</td>\n",
       "      <td>0</td>\n",
       "      <td>240525.971920</td>\n",
       "      <td>операции с жильем</td>\n",
       "    </tr>\n",
       "    <tr>\n",
       "      <th>7</th>\n",
       "      <td>0</td>\n",
       "      <td>-152.779569</td>\n",
       "      <td>50</td>\n",
       "      <td>СРЕДНЕЕ</td>\n",
       "      <td>1</td>\n",
       "      <td>женат / замужем</td>\n",
       "      <td>0</td>\n",
       "      <td>M</td>\n",
       "      <td>сотрудник</td>\n",
       "      <td>0</td>\n",
       "      <td>135823.934197</td>\n",
       "      <td>образование</td>\n",
       "    </tr>\n",
       "    <tr>\n",
       "      <th>8</th>\n",
       "      <td>2</td>\n",
       "      <td>-6929.865299</td>\n",
       "      <td>35</td>\n",
       "      <td>ВЫСШЕЕ</td>\n",
       "      <td>0</td>\n",
       "      <td>гражданский брак</td>\n",
       "      <td>1</td>\n",
       "      <td>F</td>\n",
       "      <td>сотрудник</td>\n",
       "      <td>0</td>\n",
       "      <td>95856.832424</td>\n",
       "      <td>на проведение свадьбы</td>\n",
       "    </tr>\n",
       "    <tr>\n",
       "      <th>9</th>\n",
       "      <td>0</td>\n",
       "      <td>-2188.756445</td>\n",
       "      <td>41</td>\n",
       "      <td>среднее</td>\n",
       "      <td>1</td>\n",
       "      <td>женат / замужем</td>\n",
       "      <td>0</td>\n",
       "      <td>M</td>\n",
       "      <td>сотрудник</td>\n",
       "      <td>0</td>\n",
       "      <td>144425.938277</td>\n",
       "      <td>покупка жилья для семьи</td>\n",
       "    </tr>\n",
       "    <tr>\n",
       "      <th>10</th>\n",
       "      <td>2</td>\n",
       "      <td>-4171.483647</td>\n",
       "      <td>36</td>\n",
       "      <td>высшее</td>\n",
       "      <td>0</td>\n",
       "      <td>женат / замужем</td>\n",
       "      <td>0</td>\n",
       "      <td>M</td>\n",
       "      <td>компаньон</td>\n",
       "      <td>0</td>\n",
       "      <td>113943.491460</td>\n",
       "      <td>покупка недвижимости</td>\n",
       "    </tr>\n",
       "    <tr>\n",
       "      <th>11</th>\n",
       "      <td>0</td>\n",
       "      <td>-792.701887</td>\n",
       "      <td>40</td>\n",
       "      <td>среднее</td>\n",
       "      <td>1</td>\n",
       "      <td>женат / замужем</td>\n",
       "      <td>0</td>\n",
       "      <td>F</td>\n",
       "      <td>сотрудник</td>\n",
       "      <td>0</td>\n",
       "      <td>77069.234271</td>\n",
       "      <td>покупка коммерческой недвижимости</td>\n",
       "    </tr>\n",
       "    <tr>\n",
       "      <th>12</th>\n",
       "      <td>0</td>\n",
       "      <td>NaN</td>\n",
       "      <td>65</td>\n",
       "      <td>среднее</td>\n",
       "      <td>1</td>\n",
       "      <td>гражданский брак</td>\n",
       "      <td>1</td>\n",
       "      <td>M</td>\n",
       "      <td>пенсионер</td>\n",
       "      <td>0</td>\n",
       "      <td>NaN</td>\n",
       "      <td>сыграть свадьбу</td>\n",
       "    </tr>\n",
       "    <tr>\n",
       "      <th>13</th>\n",
       "      <td>0</td>\n",
       "      <td>-1846.641941</td>\n",
       "      <td>54</td>\n",
       "      <td>неоконченное высшее</td>\n",
       "      <td>2</td>\n",
       "      <td>женат / замужем</td>\n",
       "      <td>0</td>\n",
       "      <td>F</td>\n",
       "      <td>сотрудник</td>\n",
       "      <td>0</td>\n",
       "      <td>130458.228857</td>\n",
       "      <td>приобретение автомобиля</td>\n",
       "    </tr>\n",
       "    <tr>\n",
       "      <th>14</th>\n",
       "      <td>0</td>\n",
       "      <td>-1844.956182</td>\n",
       "      <td>56</td>\n",
       "      <td>высшее</td>\n",
       "      <td>0</td>\n",
       "      <td>гражданский брак</td>\n",
       "      <td>1</td>\n",
       "      <td>F</td>\n",
       "      <td>компаньон</td>\n",
       "      <td>1</td>\n",
       "      <td>165127.911772</td>\n",
       "      <td>покупка жилой недвижимости</td>\n",
       "    </tr>\n",
       "    <tr>\n",
       "      <th>15</th>\n",
       "      <td>1</td>\n",
       "      <td>-972.364419</td>\n",
       "      <td>26</td>\n",
       "      <td>среднее</td>\n",
       "      <td>1</td>\n",
       "      <td>женат / замужем</td>\n",
       "      <td>0</td>\n",
       "      <td>F</td>\n",
       "      <td>сотрудник</td>\n",
       "      <td>0</td>\n",
       "      <td>116820.904450</td>\n",
       "      <td>строительство собственной недвижимости</td>\n",
       "    </tr>\n",
       "    <tr>\n",
       "      <th>16</th>\n",
       "      <td>0</td>\n",
       "      <td>-1719.934226</td>\n",
       "      <td>35</td>\n",
       "      <td>среднее</td>\n",
       "      <td>1</td>\n",
       "      <td>женат / замужем</td>\n",
       "      <td>0</td>\n",
       "      <td>F</td>\n",
       "      <td>сотрудник</td>\n",
       "      <td>0</td>\n",
       "      <td>289202.704229</td>\n",
       "      <td>недвижимость</td>\n",
       "    </tr>\n",
       "    <tr>\n",
       "      <th>17</th>\n",
       "      <td>0</td>\n",
       "      <td>-2369.999720</td>\n",
       "      <td>33</td>\n",
       "      <td>высшее</td>\n",
       "      <td>0</td>\n",
       "      <td>гражданский брак</td>\n",
       "      <td>1</td>\n",
       "      <td>M</td>\n",
       "      <td>сотрудник</td>\n",
       "      <td>0</td>\n",
       "      <td>90410.586745</td>\n",
       "      <td>строительство недвижимости</td>\n",
       "    </tr>\n",
       "    <tr>\n",
       "      <th>18</th>\n",
       "      <td>0</td>\n",
       "      <td>400281.136913</td>\n",
       "      <td>53</td>\n",
       "      <td>среднее</td>\n",
       "      <td>1</td>\n",
       "      <td>вдовец / вдова</td>\n",
       "      <td>2</td>\n",
       "      <td>F</td>\n",
       "      <td>пенсионер</td>\n",
       "      <td>0</td>\n",
       "      <td>56823.777243</td>\n",
       "      <td>на покупку подержанного автомобиля</td>\n",
       "    </tr>\n",
       "    <tr>\n",
       "      <th>19</th>\n",
       "      <td>0</td>\n",
       "      <td>-10038.818549</td>\n",
       "      <td>48</td>\n",
       "      <td>СРЕДНЕЕ</td>\n",
       "      <td>1</td>\n",
       "      <td>в разводе</td>\n",
       "      <td>3</td>\n",
       "      <td>F</td>\n",
       "      <td>сотрудник</td>\n",
       "      <td>0</td>\n",
       "      <td>242831.107982</td>\n",
       "      <td>на покупку своего автомобиля</td>\n",
       "    </tr>\n",
       "  </tbody>\n",
       "</table>\n",
       "</div>"
      ],
      "text/plain": [
       "    children  days_employed  dob_years            education  education_id  \\\n",
       "0          1   -8437.673028         42               высшее             0   \n",
       "1          1   -4024.803754         36              среднее             1   \n",
       "2          0   -5623.422610         33              Среднее             1   \n",
       "3          3   -4124.747207         32              среднее             1   \n",
       "4          0  340266.072047         53              среднее             1   \n",
       "5          0    -926.185831         27               высшее             0   \n",
       "6          0   -2879.202052         43               высшее             0   \n",
       "7          0    -152.779569         50              СРЕДНЕЕ             1   \n",
       "8          2   -6929.865299         35               ВЫСШЕЕ             0   \n",
       "9          0   -2188.756445         41              среднее             1   \n",
       "10         2   -4171.483647         36               высшее             0   \n",
       "11         0    -792.701887         40              среднее             1   \n",
       "12         0            NaN         65              среднее             1   \n",
       "13         0   -1846.641941         54  неоконченное высшее             2   \n",
       "14         0   -1844.956182         56               высшее             0   \n",
       "15         1    -972.364419         26              среднее             1   \n",
       "16         0   -1719.934226         35              среднее             1   \n",
       "17         0   -2369.999720         33               высшее             0   \n",
       "18         0  400281.136913         53              среднее             1   \n",
       "19         0  -10038.818549         48              СРЕДНЕЕ             1   \n",
       "\n",
       "       family_status  family_status_id gender income_type  debt  \\\n",
       "0    женат / замужем                 0      F   сотрудник     0   \n",
       "1    женат / замужем                 0      F   сотрудник     0   \n",
       "2    женат / замужем                 0      M   сотрудник     0   \n",
       "3    женат / замужем                 0      M   сотрудник     0   \n",
       "4   гражданский брак                 1      F   пенсионер     0   \n",
       "5   гражданский брак                 1      M   компаньон     0   \n",
       "6    женат / замужем                 0      F   компаньон     0   \n",
       "7    женат / замужем                 0      M   сотрудник     0   \n",
       "8   гражданский брак                 1      F   сотрудник     0   \n",
       "9    женат / замужем                 0      M   сотрудник     0   \n",
       "10   женат / замужем                 0      M   компаньон     0   \n",
       "11   женат / замужем                 0      F   сотрудник     0   \n",
       "12  гражданский брак                 1      M   пенсионер     0   \n",
       "13   женат / замужем                 0      F   сотрудник     0   \n",
       "14  гражданский брак                 1      F   компаньон     1   \n",
       "15   женат / замужем                 0      F   сотрудник     0   \n",
       "16   женат / замужем                 0      F   сотрудник     0   \n",
       "17  гражданский брак                 1      M   сотрудник     0   \n",
       "18    вдовец / вдова                 2      F   пенсионер     0   \n",
       "19         в разводе                 3      F   сотрудник     0   \n",
       "\n",
       "     total_income                                 purpose  \n",
       "0   253875.639453                           покупка жилья  \n",
       "1   112080.014102                 приобретение автомобиля  \n",
       "2   145885.952297                           покупка жилья  \n",
       "3   267628.550329              дополнительное образование  \n",
       "4   158616.077870                         сыграть свадьбу  \n",
       "5   255763.565419                           покупка жилья  \n",
       "6   240525.971920                       операции с жильем  \n",
       "7   135823.934197                             образование  \n",
       "8    95856.832424                   на проведение свадьбы  \n",
       "9   144425.938277                 покупка жилья для семьи  \n",
       "10  113943.491460                    покупка недвижимости  \n",
       "11   77069.234271       покупка коммерческой недвижимости  \n",
       "12            NaN                         сыграть свадьбу  \n",
       "13  130458.228857                 приобретение автомобиля  \n",
       "14  165127.911772              покупка жилой недвижимости  \n",
       "15  116820.904450  строительство собственной недвижимости  \n",
       "16  289202.704229                            недвижимость  \n",
       "17   90410.586745              строительство недвижимости  \n",
       "18   56823.777243      на покупку подержанного автомобиля  \n",
       "19  242831.107982            на покупку своего автомобиля  "
      ]
     },
     "execution_count": 2,
     "metadata": {},
     "output_type": "execute_result"
    }
   ],
   "source": [
    "data.head(20)"
   ]
  },
  {
   "cell_type": "markdown",
   "id": "1c709a4d",
   "metadata": {
    "deletable": false,
    "editable": false,
    "id": "1c12e233"
   },
   "source": [
    "**Задание 3. Выведите основную информацию о датафрейме с помощью метода `info()`.**"
   ]
  },
  {
   "cell_type": "code",
   "execution_count": 3,
   "id": "58a7cbcd",
   "metadata": {
    "deletable": false,
    "id": "2b757bca",
    "outputId": "15376089-8dad-46c9-b520-c05248d43158"
   },
   "outputs": [
    {
     "name": "stdout",
     "output_type": "stream",
     "text": [
      "<class 'pandas.core.frame.DataFrame'>\n",
      "RangeIndex: 21525 entries, 0 to 21524\n",
      "Data columns (total 12 columns):\n",
      " #   Column            Non-Null Count  Dtype  \n",
      "---  ------            --------------  -----  \n",
      " 0   children          21525 non-null  int64  \n",
      " 1   days_employed     19351 non-null  float64\n",
      " 2   dob_years         21525 non-null  int64  \n",
      " 3   education         21525 non-null  object \n",
      " 4   education_id      21525 non-null  int64  \n",
      " 5   family_status     21525 non-null  object \n",
      " 6   family_status_id  21525 non-null  int64  \n",
      " 7   gender            21525 non-null  object \n",
      " 8   income_type       21525 non-null  object \n",
      " 9   debt              21525 non-null  int64  \n",
      " 10  total_income      19351 non-null  float64\n",
      " 11  purpose           21525 non-null  object \n",
      "dtypes: float64(2), int64(5), object(5)\n",
      "memory usage: 2.0+ MB\n"
     ]
    }
   ],
   "source": [
    "data.info()"
   ]
  },
  {
   "cell_type": "markdown",
   "id": "5c9c14a0",
   "metadata": {
    "deletable": false,
    "editable": false,
    "id": "333ec665"
   },
   "source": [
    "## Предобработка данных"
   ]
  },
  {
   "cell_type": "markdown",
   "id": "f28e1ed7",
   "metadata": {
    "deletable": false,
    "editable": false,
    "id": "02d92d53"
   },
   "source": [
    "### Удаление пропусков"
   ]
  },
  {
   "cell_type": "markdown",
   "id": "632bb11a",
   "metadata": {
    "deletable": false,
    "editable": false,
    "id": "cd84967c"
   },
   "source": [
    "**Задание 4. Выведите количество пропущенных значений для каждого столбца. Используйте комбинацию двух методов.**"
   ]
  },
  {
   "cell_type": "code",
   "execution_count": 4,
   "id": "1c45b3bd",
   "metadata": {
    "deletable": false,
    "id": "7f9b2309",
    "outputId": "81f4d817-781c-465c-ed15-91ce4446810d"
   },
   "outputs": [
    {
     "data": {
      "text/plain": [
       "children               0\n",
       "days_employed       2174\n",
       "dob_years              0\n",
       "education              0\n",
       "education_id           0\n",
       "family_status          0\n",
       "family_status_id       0\n",
       "gender                 0\n",
       "income_type            0\n",
       "debt                   0\n",
       "total_income        2174\n",
       "purpose                0\n",
       "dtype: int64"
      ]
     },
     "execution_count": 4,
     "metadata": {},
     "output_type": "execute_result"
    }
   ],
   "source": [
    "data.isna().sum()"
   ]
  },
  {
   "cell_type": "markdown",
   "id": "747c4a76",
   "metadata": {
    "deletable": false,
    "editable": false,
    "id": "db86e27b"
   },
   "source": [
    "**Задание 5. В двух столбцах есть пропущенные значения. Один из них — `days_employed`. Пропуски в этом столбце вы обработаете на следующем этапе. Другой столбец с пропущенными значениями — `total_income` — хранит данные о доходах. На сумму дохода сильнее всего влияет тип занятости, поэтому заполнить пропуски в этом столбце нужно медианным значением по каждому типу из столбца `income_type`. Например, у человека с типом занятости `сотрудник` пропуск в столбце `total_income` должен быть заполнен медианным доходом среди всех записей с тем же типом.**"
   ]
  },
  {
   "cell_type": "code",
   "execution_count": 5,
   "id": "95aa56cf",
   "metadata": {
    "deletable": false,
    "id": "42006a93"
   },
   "outputs": [],
   "source": [
    "for t in data['income_type'].unique():\n",
    "    data.loc[(data['income_type'] == t) & (data['total_income'].isna()), 'total_income'] = \\\n",
    "    data.loc[(data['income_type'] == t), 'total_income'].median()"
   ]
  },
  {
   "cell_type": "markdown",
   "id": "aecb264f",
   "metadata": {
    "deletable": false,
    "editable": false,
    "id": "89da5ece"
   },
   "source": [
    "### Обработка аномальных значений"
   ]
  },
  {
   "cell_type": "markdown",
   "id": "ba4a5876",
   "metadata": {
    "deletable": false,
    "editable": false,
    "id": "57964554"
   },
   "source": [
    "**Задание 6. В данных могут встречаться артефакты (аномалии) — значения, которые не отражают действительность и появились по какой-то ошибке. таким артефактом будет отрицательное количество дней трудового стажа в столбце `days_employed`. Для реальных данных это нормально. Обработайте значения в этом столбце: замените все отрицательные значения положительными с помощью метода `abs()`.**"
   ]
  },
  {
   "cell_type": "code",
   "execution_count": 6,
   "id": "a9c8f534",
   "metadata": {
    "deletable": false,
    "id": "f6f055bf"
   },
   "outputs": [],
   "source": [
    "data['days_employed'] = data['days_employed'].abs()"
   ]
  },
  {
   "cell_type": "markdown",
   "id": "6b19182b",
   "metadata": {
    "deletable": false,
    "editable": false,
    "id": "6107dd2f"
   },
   "source": [
    "**Задание 7. Для каждого типа занятости выведите медианное значение трудового стажа `days_employed` в днях.**"
   ]
  },
  {
   "cell_type": "code",
   "execution_count": 7,
   "id": "91f82466",
   "metadata": {
    "deletable": false,
    "id": "85a5faf6",
    "outputId": "801ef80e-522b-4668-f34e-565af7432bcf"
   },
   "outputs": [
    {
     "data": {
      "text/plain": [
       "income_type\n",
       "безработный        366413.652744\n",
       "в декрете            3296.759962\n",
       "госслужащий          2689.368353\n",
       "компаньон            1547.382223\n",
       "пенсионер          365213.306266\n",
       "предприниматель       520.848083\n",
       "сотрудник            1574.202821\n",
       "студент               578.751554\n",
       "Name: days_employed, dtype: float64"
      ]
     },
     "execution_count": 7,
     "metadata": {},
     "output_type": "execute_result"
    }
   ],
   "source": [
    "data.groupby('income_type')['days_employed'].agg('median')"
   ]
  },
  {
   "cell_type": "markdown",
   "id": "8e6ab1e7",
   "metadata": {
    "deletable": false,
    "editable": false,
    "id": "38d1a030"
   },
   "source": [
    "У двух типов (безработные и пенсионеры) получатся аномально большие значения. Исправить такие значения сложно, поэтому оставьте их как есть. Тем более этот столбец не понадобится вам для исследования."
   ]
  },
  {
   "cell_type": "markdown",
   "id": "20a81d8b",
   "metadata": {
    "deletable": false,
    "editable": false,
    "id": "d8a9f147"
   },
   "source": [
    "**Задание 8. Выведите перечень уникальных значений столбца `children`.**"
   ]
  },
  {
   "cell_type": "code",
   "execution_count": 8,
   "id": "235deb8c",
   "metadata": {
    "deletable": false,
    "id": "ef5056eb",
    "outputId": "6975b15c-7f95-4697-d16d-a0c79b657b03"
   },
   "outputs": [
    {
     "data": {
      "text/plain": [
       "array([ 1,  0,  3,  2, -1,  4, 20,  5])"
      ]
     },
     "execution_count": 8,
     "metadata": {},
     "output_type": "execute_result"
    }
   ],
   "source": [
    "data['children'].unique()"
   ]
  },
  {
   "cell_type": "markdown",
   "id": "512c8e5c",
   "metadata": {
    "deletable": false,
    "editable": false,
    "id": "40b9ebf2"
   },
   "source": [
    "**Задание 9. В столбце `children` есть два аномальных значения. Удалите строки, в которых встречаются такие аномальные значения из датафрейма `data`.**"
   ]
  },
  {
   "cell_type": "code",
   "execution_count": 9,
   "id": "fb8d7723",
   "metadata": {
    "deletable": false,
    "id": "3ff9801d"
   },
   "outputs": [],
   "source": [
    "data = data[(data['children'] != -1) & (data['children'] != 20)]"
   ]
  },
  {
   "cell_type": "markdown",
   "id": "925cc987",
   "metadata": {
    "deletable": false,
    "editable": false,
    "id": "bbc4d0ce"
   },
   "source": [
    "**Задание 10. Ещё раз выведите перечень уникальных значений столбца `children`, чтобы убедиться, что артефакты удалены.**"
   ]
  },
  {
   "cell_type": "code",
   "execution_count": 10,
   "id": "bd2e18b6",
   "metadata": {
    "deletable": false,
    "id": "ad4fa8b7",
    "outputId": "b2097101-d49d-44d9-901b-32a65c9463d1"
   },
   "outputs": [
    {
     "data": {
      "text/plain": [
       "array([1, 0, 3, 2, 4, 5])"
      ]
     },
     "execution_count": 10,
     "metadata": {},
     "output_type": "execute_result"
    }
   ],
   "source": [
    "data['children'].unique()"
   ]
  },
  {
   "cell_type": "markdown",
   "id": "bf280ac7",
   "metadata": {
    "deletable": false,
    "editable": false,
    "id": "75440b63"
   },
   "source": [
    "### Удаление пропусков (продолжение)"
   ]
  },
  {
   "cell_type": "markdown",
   "id": "5d80c26b",
   "metadata": {
    "deletable": false,
    "editable": false,
    "id": "f4ea573f"
   },
   "source": [
    "**Задание 11. Заполните пропуски в столбце `days_employed` медианными значениями по каждого типа занятости `income_type`.**"
   ]
  },
  {
   "cell_type": "code",
   "execution_count": 11,
   "id": "07f2a19e",
   "metadata": {
    "deletable": false,
    "id": "af6b1a7e"
   },
   "outputs": [],
   "source": [
    "for t in data['income_type'].unique():\n",
    "    data.loc[(data['income_type'] == t) & (data['days_employed'].isna()), 'days_employed'] = \\\n",
    "    data.loc[(data['income_type'] == t), 'days_employed'].median()"
   ]
  },
  {
   "cell_type": "markdown",
   "id": "867e3ee2",
   "metadata": {
    "deletable": false,
    "editable": false,
    "id": "2753f40d"
   },
   "source": [
    "**Задание 12. Убедитесь, что все пропуски заполнены. Проверьте себя и ещё раз выведите количество пропущенных значений для каждого столбца с помощью двух методов.**"
   ]
  },
  {
   "cell_type": "code",
   "execution_count": 12,
   "id": "99e3eafd",
   "metadata": {
    "deletable": false,
    "id": "55f78bc2",
    "outputId": "8da1e4e1-358e-4e87-98c9-f261bce0a7b2"
   },
   "outputs": [
    {
     "data": {
      "text/plain": [
       "children            0\n",
       "days_employed       0\n",
       "dob_years           0\n",
       "education           0\n",
       "education_id        0\n",
       "family_status       0\n",
       "family_status_id    0\n",
       "gender              0\n",
       "income_type         0\n",
       "debt                0\n",
       "total_income        0\n",
       "purpose             0\n",
       "dtype: int64"
      ]
     },
     "execution_count": 12,
     "metadata": {},
     "output_type": "execute_result"
    }
   ],
   "source": [
    "data.isna().sum()"
   ]
  },
  {
   "cell_type": "markdown",
   "id": "8210cd70",
   "metadata": {
    "deletable": false,
    "editable": false,
    "id": "ddc81e43"
   },
   "source": [
    "### Изменение типов данных"
   ]
  },
  {
   "cell_type": "markdown",
   "id": "1e236fa7",
   "metadata": {
    "deletable": false,
    "editable": false,
    "id": "42d19d24"
   },
   "source": [
    "**Задание 13. Замените вещественный тип данных в столбце `total_income` на целочисленный с помощью метода `astype()`.**"
   ]
  },
  {
   "cell_type": "code",
   "execution_count": 13,
   "id": "f1e74072",
   "metadata": {
    "deletable": false,
    "id": "920b65ad"
   },
   "outputs": [],
   "source": [
    "data['total_income'] = data['total_income'].astype(int)"
   ]
  },
  {
   "cell_type": "markdown",
   "id": "93a02f51",
   "metadata": {
    "deletable": false,
    "editable": false,
    "id": "80c420ba"
   },
   "source": [
    "### Обработка дубликатов"
   ]
  },
  {
   "cell_type": "markdown",
   "id": "ac02eb24",
   "metadata": {
    "deletable": false,
    "editable": false
   },
   "source": [
    "**Задание 14. Обработайте неявные дубликаты в столбце `education`. В этом столбце есть одни и те же значения, но записанные по-разному: с использованием заглавных и строчных букв. Приведите их к нижнему регистру. Проверьте остальные столбцы.**"
   ]
  },
  {
   "cell_type": "code",
   "execution_count": 14,
   "id": "a4cab351",
   "metadata": {
    "deletable": false
   },
   "outputs": [],
   "source": [
    "data['education'] = data['education'].str.lower()"
   ]
  },
  {
   "cell_type": "markdown",
   "id": "7ae675b3",
   "metadata": {
    "deletable": false,
    "editable": false,
    "id": "dc587695"
   },
   "source": [
    "**Задание 15. Выведите на экран количество строк-дубликатов в данных. Если такие строки присутствуют, удалите их.**"
   ]
  },
  {
   "cell_type": "code",
   "execution_count": 15,
   "id": "e2742aea",
   "metadata": {
    "deletable": false,
    "id": "3ee445e4",
    "outputId": "9684deba-1934-42d1-99e1-cda61740f822"
   },
   "outputs": [
    {
     "data": {
      "text/plain": [
       "71"
      ]
     },
     "execution_count": 15,
     "metadata": {},
     "output_type": "execute_result"
    }
   ],
   "source": [
    "data.duplicated().sum()"
   ]
  },
  {
   "cell_type": "code",
   "execution_count": 16,
   "id": "10f27344",
   "metadata": {
    "deletable": false,
    "id": "8575fe05"
   },
   "outputs": [],
   "source": [
    "data = data.drop_duplicates()"
   ]
  },
  {
   "cell_type": "markdown",
   "id": "256e4915",
   "metadata": {
    "deletable": false,
    "editable": false,
    "id": "9904cf55"
   },
   "source": [
    "### Категоризация данных"
   ]
  },
  {
   "cell_type": "markdown",
   "id": "51b3210c",
   "metadata": {
    "deletable": false,
    "editable": false,
    "id": "72fcc8a2"
   },
   "source": [
    "**Задание 16. На основании диапазонов, указанных ниже, создайте в датафрейме `data` столбец `total_income_category` с категориями:**\n",
    "\n",
    "- 0–30000 — `'E'`;\n",
    "- 30001–50000 — `'D'`;\n",
    "- 50001–200000 — `'C'`;\n",
    "- 200001–1000000 — `'B'`;\n",
    "- 1000001 и выше — `'A'`.\n",
    "\n",
    "\n",
    "**Например, кредитополучателю с доходом 25000 нужно назначить категорию `'E'`, а клиенту, получающему 235000, — `'B'`. Используйте собственную функцию с именем `categorize_income()` и метод `apply()`.**"
   ]
  },
  {
   "cell_type": "code",
   "execution_count": 17,
   "id": "918603b7",
   "metadata": {
    "deletable": false,
    "id": "e1771346"
   },
   "outputs": [],
   "source": [
    "def categorize_income(income):\n",
    "    try:\n",
    "        if 0 <= income <= 30000:\n",
    "            return 'E'\n",
    "        elif 30001 <= income <= 50000:\n",
    "            return 'D'\n",
    "        elif 50001 <= income <= 200000:\n",
    "            return 'C'\n",
    "        elif 200001 <= income <= 1000000:\n",
    "            return 'B'\n",
    "        elif income >= 1000001:\n",
    "            return 'A'\n",
    "    except:\n",
    "        pass"
   ]
  },
  {
   "cell_type": "code",
   "execution_count": 18,
   "id": "30211f14",
   "metadata": {
    "deletable": false,
    "id": "d5f3586d"
   },
   "outputs": [],
   "source": [
    "data['total_income_category'] = data['total_income'].apply(categorize_income)"
   ]
  },
  {
   "cell_type": "markdown",
   "id": "764ba60d",
   "metadata": {
    "deletable": false,
    "editable": false,
    "id": "dde49b5c"
   },
   "source": [
    "**Задание 17. Выведите на экран перечень уникальных целей взятия кредита из столбца `purpose`.**"
   ]
  },
  {
   "cell_type": "code",
   "execution_count": 19,
   "id": "774b8284",
   "metadata": {
    "deletable": false,
    "id": "f67ce9b3",
    "outputId": "673c12d9-7d7e-4ae0-9812-c622c89dd244"
   },
   "outputs": [
    {
     "data": {
      "text/plain": [
       "array(['покупка жилья', 'приобретение автомобиля',\n",
       "       'дополнительное образование', 'сыграть свадьбу',\n",
       "       'операции с жильем', 'образование', 'на проведение свадьбы',\n",
       "       'покупка жилья для семьи', 'покупка недвижимости',\n",
       "       'покупка коммерческой недвижимости', 'покупка жилой недвижимости',\n",
       "       'строительство собственной недвижимости', 'недвижимость',\n",
       "       'строительство недвижимости', 'на покупку подержанного автомобиля',\n",
       "       'на покупку своего автомобиля',\n",
       "       'операции с коммерческой недвижимостью',\n",
       "       'строительство жилой недвижимости', 'жилье',\n",
       "       'операции со своей недвижимостью', 'автомобили',\n",
       "       'заняться образованием', 'сделка с подержанным автомобилем',\n",
       "       'получение образования', 'автомобиль', 'свадьба',\n",
       "       'получение дополнительного образования', 'покупка своего жилья',\n",
       "       'операции с недвижимостью', 'получение высшего образования',\n",
       "       'свой автомобиль', 'сделка с автомобилем',\n",
       "       'профильное образование', 'высшее образование',\n",
       "       'покупка жилья для сдачи', 'на покупку автомобиля', 'ремонт жилью',\n",
       "       'заняться высшим образованием'], dtype=object)"
      ]
     },
     "execution_count": 19,
     "metadata": {},
     "output_type": "execute_result"
    }
   ],
   "source": [
    "data['purpose'].unique()"
   ]
  },
  {
   "cell_type": "markdown",
   "id": "9f3a90ab",
   "metadata": {
    "deletable": false,
    "editable": false,
    "id": "85d0aef0"
   },
   "source": [
    "**Задание 18. Создайте функцию, которая на основании данных из столбца `purpose` сформирует новый столбец `purpose_category`, в который войдут следующие категории:**\n",
    "\n",
    "- `'операции с автомобилем'`,\n",
    "- `'операции с недвижимостью'`,\n",
    "- `'проведение свадьбы'`,\n",
    "- `'получение образования'`.\n",
    "\n",
    "**Например, если в столбце `purpose` находится подстрока `'на покупку автомобиля'`, то в столбце `purpose_category` должна появиться строка `'операции с автомобилем'`.**\n",
    "\n",
    "**Используйте собственную функцию с именем `categorize_purpose()` и метод `apply()`. Изучите данные в столбце `purpose` и определите, какие подстроки помогут вам правильно определить категорию.**"
   ]
  },
  {
   "cell_type": "code",
   "execution_count": 20,
   "id": "a65d1c42",
   "metadata": {
    "deletable": false,
    "id": "e149fab4"
   },
   "outputs": [],
   "source": [
    "def categorize_purpose(row):\n",
    "    try:\n",
    "        if 'автом' in row:\n",
    "            return 'операции с автомобилем'\n",
    "        elif 'жил' in row or 'недвиж' in row:\n",
    "            return 'операции с недвижимостью'\n",
    "        elif 'свад' in row:\n",
    "            return 'проведение свадьбы'\n",
    "        elif 'образов' in row:\n",
    "            return 'получение образования'\n",
    "    except:\n",
    "        return 'нет категории'"
   ]
  },
  {
   "cell_type": "code",
   "execution_count": 21,
   "id": "dcc202b8",
   "metadata": {
    "deletable": false,
    "id": "bf36e69b"
   },
   "outputs": [],
   "source": [
    "data['purpose_category'] = data['purpose'].apply(categorize_purpose)"
   ]
  },
  {
   "cell_type": "markdown",
   "id": "7e02bb9f",
   "metadata": {
    "deletable": false,
    "editable": false,
    "id": "09b242bf"
   },
   "source": [
    "### Шаг 3. Исследуйте данные и ответьте на вопросы"
   ]
  },
  {
   "cell_type": "markdown",
   "id": "c4dcbe69",
   "metadata": {
    "deletable": false,
    "editable": false,
    "id": "c5d66278"
   },
   "source": [
    "#### 3.1 Есть ли зависимость между количеством детей и возвратом кредита в срок?"
   ]
  },
  {
   "cell_type": "code",
   "execution_count": 22,
   "id": "c45850f6",
   "metadata": {
    "deletable": false,
    "id": "2cacfc4a"
   },
   "outputs": [
    {
     "data": {
      "text/html": [
       "<div>\n",
       "<style scoped>\n",
       "    .dataframe tbody tr th:only-of-type {\n",
       "        vertical-align: middle;\n",
       "    }\n",
       "\n",
       "    .dataframe tbody tr th {\n",
       "        vertical-align: top;\n",
       "    }\n",
       "\n",
       "    .dataframe thead th {\n",
       "        text-align: right;\n",
       "    }\n",
       "</style>\n",
       "<table border=\"1\" class=\"dataframe\">\n",
       "  <thead>\n",
       "    <tr style=\"text-align: right;\">\n",
       "      <th></th>\n",
       "      <th>debt</th>\n",
       "    </tr>\n",
       "    <tr>\n",
       "      <th>children</th>\n",
       "      <th></th>\n",
       "    </tr>\n",
       "  </thead>\n",
       "  <tbody>\n",
       "    <tr>\n",
       "      <th>0</th>\n",
       "      <td>14091</td>\n",
       "    </tr>\n",
       "    <tr>\n",
       "      <th>1</th>\n",
       "      <td>4808</td>\n",
       "    </tr>\n",
       "    <tr>\n",
       "      <th>2</th>\n",
       "      <td>2052</td>\n",
       "    </tr>\n",
       "    <tr>\n",
       "      <th>3</th>\n",
       "      <td>330</td>\n",
       "    </tr>\n",
       "    <tr>\n",
       "      <th>4</th>\n",
       "      <td>41</td>\n",
       "    </tr>\n",
       "    <tr>\n",
       "      <th>5</th>\n",
       "      <td>9</td>\n",
       "    </tr>\n",
       "  </tbody>\n",
       "</table>\n",
       "</div>"
      ],
      "text/plain": [
       "           debt\n",
       "children       \n",
       "0         14091\n",
       "1          4808\n",
       "2          2052\n",
       "3           330\n",
       "4            41\n",
       "5             9"
      ]
     },
     "execution_count": 22,
     "metadata": {},
     "output_type": "execute_result"
    }
   ],
   "source": [
    "data.pivot_table(index='children', values='debt', aggfunc='count')\n",
    "# создание сводной таблицы методом pivot_table()"
   ]
  },
  {
   "cell_type": "markdown",
   "id": "e58a09ff",
   "metadata": {},
   "source": [
    "В данной выборке очень мало клиентов с тремя и более детьми. Для корректного сравнения показателей между группами можно объединить семьи с одним ребёнком в одну категорию с многодетными семьями. Разделим всех клиентов на *2 группы (с детьми и без детей)*."
   ]
  },
  {
   "cell_type": "code",
   "execution_count": 23,
   "id": "1032aab6",
   "metadata": {},
   "outputs": [],
   "source": [
    "data['children_category'] = data['children'].apply(lambda x: 'нет детей' if (x == 0) else 'есть дети')\n",
    "# применение лямбда-функции для категоризации "
   ]
  },
  {
   "cell_type": "code",
   "execution_count": 24,
   "id": "96052cec",
   "metadata": {},
   "outputs": [
    {
     "data": {
      "text/html": [
       "<div>\n",
       "<style scoped>\n",
       "    .dataframe tbody tr th:only-of-type {\n",
       "        vertical-align: middle;\n",
       "    }\n",
       "\n",
       "    .dataframe tbody tr th {\n",
       "        vertical-align: top;\n",
       "    }\n",
       "\n",
       "    .dataframe thead tr th {\n",
       "        text-align: left;\n",
       "    }\n",
       "\n",
       "    .dataframe thead tr:last-of-type th {\n",
       "        text-align: right;\n",
       "    }\n",
       "</style>\n",
       "<table border=\"1\" class=\"dataframe\">\n",
       "  <thead>\n",
       "    <tr>\n",
       "      <th></th>\n",
       "      <th>count</th>\n",
       "      <th>sum</th>\n",
       "      <th>mean</th>\n",
       "    </tr>\n",
       "    <tr>\n",
       "      <th></th>\n",
       "      <th>debt</th>\n",
       "      <th>debt</th>\n",
       "      <th>debt</th>\n",
       "    </tr>\n",
       "    <tr>\n",
       "      <th>children_category</th>\n",
       "      <th></th>\n",
       "      <th></th>\n",
       "      <th></th>\n",
       "    </tr>\n",
       "  </thead>\n",
       "  <tbody>\n",
       "    <tr>\n",
       "      <th>есть дети</th>\n",
       "      <td>7240</td>\n",
       "      <td>669</td>\n",
       "      <td>0.092</td>\n",
       "    </tr>\n",
       "    <tr>\n",
       "      <th>нет детей</th>\n",
       "      <td>14091</td>\n",
       "      <td>1063</td>\n",
       "      <td>0.075</td>\n",
       "    </tr>\n",
       "  </tbody>\n",
       "</table>\n",
       "</div>"
      ],
      "text/plain": [
       "                   count   sum   mean\n",
       "                    debt  debt   debt\n",
       "children_category                    \n",
       "есть дети           7240   669  0.092\n",
       "нет детей          14091  1063  0.075"
      ]
     },
     "execution_count": 24,
     "metadata": {},
     "output_type": "execute_result"
    }
   ],
   "source": [
    "children_category_data = data.pivot_table(index='children_category', values='debt', aggfunc=['count', 'sum', 'mean'])\n",
    "# создание сводной таблицы методом pivot_table()\n",
    "children_category_data = children_category_data.round(3)\n",
    "# округление количественных переменных в таблице children_category_data\n",
    "children_category_data"
   ]
  },
  {
   "cell_type": "code",
   "execution_count": 25,
   "id": "320f8500",
   "metadata": {},
   "outputs": [
    {
     "data": {
      "text/plain": [
       "Text(0.5, 1.0, 'Доля клиентов с задолженностью по кредитам')"
      ]
     },
     "execution_count": 25,
     "metadata": {},
     "output_type": "execute_result"
    },
    {
     "data": {
      "image/png": "[encoded data removed]",
      "text/plain": [
       "<Figure size 640x480 with 1 Axes>"
      ]
     },
     "metadata": {
      "image/png": {
       "height": 459,
       "width": 597
      }
     },
     "output_type": "display_data"
    }
   ],
   "source": [
    "sns.set_style(style='whitegrid')\n",
    "sns.set_context(context='notebook')\n",
    "# настройка стиля и контекста графиков\n",
    "sns.barplot(y=children_category_data.index, x=children_category_data['mean']['debt'], orient='h', palette='viridis')\n",
    "plt.ylabel(None)\n",
    "plt.title('Доля клиентов с задолженностью по кредитам', fontsize=13)\n",
    "# построение столбчатой диаграммы"
   ]
  },
  {
   "cell_type": "markdown",
   "id": "bcddfc80",
   "metadata": {
    "deletable": false,
    "id": "3a6b99ec"
   },
   "source": [
    "**Вывод:** "
   ]
  },
  {
   "cell_type": "markdown",
   "id": "02ab5675",
   "metadata": {},
   "source": [
    "Клиенты банка, у которых в семье **нет детей**, возвращают кредиты чаще, чем семьи с детьми. Доля должников среди них составляет всего **0.075**. Чем больше детей людям приходится обеспечивать, тем выше вероятность наличия у них в будущем задолженности по возврату кредитов."
   ]
  },
  {
   "cell_type": "markdown",
   "id": "8ea40ebe",
   "metadata": {
    "deletable": false,
    "editable": false,
    "id": "97be82ca"
   },
   "source": [
    "#### 3.2 Есть ли зависимость между семейным положением и возвратом кредита в срок?"
   ]
  },
  {
   "cell_type": "code",
   "execution_count": 26,
   "id": "4c6ea078",
   "metadata": {
    "deletable": false,
    "id": "dc3f7ee8"
   },
   "outputs": [
    {
     "data": {
      "text/html": [
       "<div>\n",
       "<style scoped>\n",
       "    .dataframe tbody tr th:only-of-type {\n",
       "        vertical-align: middle;\n",
       "    }\n",
       "\n",
       "    .dataframe tbody tr th {\n",
       "        vertical-align: top;\n",
       "    }\n",
       "\n",
       "    .dataframe thead tr th {\n",
       "        text-align: left;\n",
       "    }\n",
       "\n",
       "    .dataframe thead tr:last-of-type th {\n",
       "        text-align: right;\n",
       "    }\n",
       "</style>\n",
       "<table border=\"1\" class=\"dataframe\">\n",
       "  <thead>\n",
       "    <tr>\n",
       "      <th></th>\n",
       "      <th>count</th>\n",
       "      <th>sum</th>\n",
       "      <th>mean</th>\n",
       "    </tr>\n",
       "    <tr>\n",
       "      <th></th>\n",
       "      <th>debt</th>\n",
       "      <th>debt</th>\n",
       "      <th>debt</th>\n",
       "    </tr>\n",
       "    <tr>\n",
       "      <th>family_status</th>\n",
       "      <th></th>\n",
       "      <th></th>\n",
       "      <th></th>\n",
       "    </tr>\n",
       "  </thead>\n",
       "  <tbody>\n",
       "    <tr>\n",
       "      <th>Не женат / не замужем</th>\n",
       "      <td>2796</td>\n",
       "      <td>273</td>\n",
       "      <td>0.098</td>\n",
       "    </tr>\n",
       "    <tr>\n",
       "      <th>в разводе</th>\n",
       "      <td>1189</td>\n",
       "      <td>84</td>\n",
       "      <td>0.071</td>\n",
       "    </tr>\n",
       "    <tr>\n",
       "      <th>вдовец / вдова</th>\n",
       "      <td>951</td>\n",
       "      <td>63</td>\n",
       "      <td>0.066</td>\n",
       "    </tr>\n",
       "    <tr>\n",
       "      <th>гражданский брак</th>\n",
       "      <td>4134</td>\n",
       "      <td>385</td>\n",
       "      <td>0.093</td>\n",
       "    </tr>\n",
       "    <tr>\n",
       "      <th>женат / замужем</th>\n",
       "      <td>12261</td>\n",
       "      <td>927</td>\n",
       "      <td>0.076</td>\n",
       "    </tr>\n",
       "  </tbody>\n",
       "</table>\n",
       "</div>"
      ],
      "text/plain": [
       "                       count  sum   mean\n",
       "                        debt debt   debt\n",
       "family_status                           \n",
       "Не женат / не замужем   2796  273  0.098\n",
       "в разводе               1189   84  0.071\n",
       "вдовец / вдова           951   63  0.066\n",
       "гражданский брак        4134  385  0.093\n",
       "женат / замужем        12261  927  0.076"
      ]
     },
     "execution_count": 26,
     "metadata": {},
     "output_type": "execute_result"
    }
   ],
   "source": [
    "family_status_data = data.pivot_table(index='family_status', values='debt', aggfunc=['count', 'sum', 'mean'])\n",
    "# создание сводной таблицы методом pivot_table()\n",
    "family_status_data = family_status_data.round(3)\n",
    "# округление количественных переменных в таблице family_status_data\n",
    "family_status_data"
   ]
  },
  {
   "cell_type": "code",
   "execution_count": 27,
   "id": "804c7cf6",
   "metadata": {},
   "outputs": [
    {
     "data": {
      "text/plain": [
       "Text(0.5, 1.0, 'Доля клиентов с задолженностью по кредитам')"
      ]
     },
     "execution_count": 27,
     "metadata": {},
     "output_type": "execute_result"
    },
    {
     "data": {
      "image/png": "[encoded data removed]",
      "text/plain": [
       "<Figure size 1000x500 with 1 Axes>"
      ]
     },
     "metadata": {
      "image/png": {
       "height": 511,
       "width": 1011
      }
     },
     "output_type": "display_data"
    }
   ],
   "source": [
    "fg = plt.figure(figsize=(10,5), constrained_layout=True)\n",
    "# создание объекта Figure\n",
    "sns.barplot(x=family_status_data.index, y=family_status_data['mean']['debt'], palette='viridis')\n",
    "plt.xlabel(None)\n",
    "plt.title('Доля клиентов с задолженностью по кредитам', fontsize=16)\n",
    "# построение столбчатой диаграммы"
   ]
  },
  {
   "cell_type": "markdown",
   "id": "d00c9ac1",
   "metadata": {
    "deletable": false,
    "id": "1cef7837"
   },
   "source": [
    "**Вывод:** "
   ]
  },
  {
   "cell_type": "markdown",
   "id": "c54fc06b",
   "metadata": {},
   "source": [
    "Клиенты банка, состоящие **в официальном браке**, выплачивают кредиты лучше не женатых/не замужних людей, а также тех, кто находится в гражданском браке. Семейные пары скорее всего не станут рисковать и брать неподъёмный для себя кредит, ответственно расчитывая свой бюджет заранее. Доля **вдовцов/вдов** и людей **в разводе** как должников тоже низка и составляет **0.065 и 0.071** соответственно. Также можно предположить неявную зависимость с возрастом: молодые люди чаще находятся в гражданском браке либо не женаты/не замужем. "
   ]
  },
  {
   "cell_type": "markdown",
   "id": "d25808c8",
   "metadata": {
    "deletable": false,
    "editable": false,
    "id": "1e8b2fca"
   },
   "source": [
    "#### 3.3 Есть ли зависимость между уровнем дохода и возвратом кредита в срок?"
   ]
  },
  {
   "cell_type": "code",
   "execution_count": 28,
   "id": "d885b745",
   "metadata": {
    "deletable": false,
    "id": "cd7e3720"
   },
   "outputs": [
    {
     "data": {
      "text/html": [
       "<div>\n",
       "<style scoped>\n",
       "    .dataframe tbody tr th:only-of-type {\n",
       "        vertical-align: middle;\n",
       "    }\n",
       "\n",
       "    .dataframe tbody tr th {\n",
       "        vertical-align: top;\n",
       "    }\n",
       "\n",
       "    .dataframe thead tr th {\n",
       "        text-align: left;\n",
       "    }\n",
       "\n",
       "    .dataframe thead tr:last-of-type th {\n",
       "        text-align: right;\n",
       "    }\n",
       "</style>\n",
       "<table border=\"1\" class=\"dataframe\">\n",
       "  <thead>\n",
       "    <tr>\n",
       "      <th></th>\n",
       "      <th>count</th>\n",
       "      <th>sum</th>\n",
       "      <th>mean</th>\n",
       "    </tr>\n",
       "    <tr>\n",
       "      <th></th>\n",
       "      <th>debt</th>\n",
       "      <th>debt</th>\n",
       "      <th>debt</th>\n",
       "    </tr>\n",
       "    <tr>\n",
       "      <th>total_income_category</th>\n",
       "      <th></th>\n",
       "      <th></th>\n",
       "      <th></th>\n",
       "    </tr>\n",
       "  </thead>\n",
       "  <tbody>\n",
       "    <tr>\n",
       "      <th>A</th>\n",
       "      <td>25</td>\n",
       "      <td>2</td>\n",
       "      <td>0.080</td>\n",
       "    </tr>\n",
       "    <tr>\n",
       "      <th>B</th>\n",
       "      <td>5014</td>\n",
       "      <td>354</td>\n",
       "      <td>0.071</td>\n",
       "    </tr>\n",
       "    <tr>\n",
       "      <th>C</th>\n",
       "      <td>15921</td>\n",
       "      <td>1353</td>\n",
       "      <td>0.085</td>\n",
       "    </tr>\n",
       "    <tr>\n",
       "      <th>D</th>\n",
       "      <td>349</td>\n",
       "      <td>21</td>\n",
       "      <td>0.060</td>\n",
       "    </tr>\n",
       "    <tr>\n",
       "      <th>E</th>\n",
       "      <td>22</td>\n",
       "      <td>2</td>\n",
       "      <td>0.091</td>\n",
       "    </tr>\n",
       "  </tbody>\n",
       "</table>\n",
       "</div>"
      ],
      "text/plain": [
       "                       count   sum   mean\n",
       "                        debt  debt   debt\n",
       "total_income_category                    \n",
       "A                         25     2  0.080\n",
       "B                       5014   354  0.071\n",
       "C                      15921  1353  0.085\n",
       "D                        349    21  0.060\n",
       "E                         22     2  0.091"
      ]
     },
     "execution_count": 28,
     "metadata": {},
     "output_type": "execute_result"
    }
   ],
   "source": [
    "total_income_data = data.pivot_table(index='total_income_category', values='debt', aggfunc=['count', 'sum', 'mean'])\n",
    "# создание сводной таблицы методом pivot_table()\n",
    "total_income_data = total_income_data.round(3)\n",
    "# округление количественных переменных в таблице total_income_data\n",
    "total_income_data"
   ]
  },
  {
   "cell_type": "markdown",
   "id": "c684c2ea",
   "metadata": {},
   "source": [
    "Категории 'A', 'D' и 'E' содержат очень мало значений относительно других уровней дохода. Для выявления зависимости оставим в таблице только две категории 'B' и 'C' с достаточным числом клиентов. Категория 'C' включает клиентов с ежемесячным доходом от 50001 до 200000 руб., категория 'B' - от 200001 до 1000000 руб."
   ]
  },
  {
   "cell_type": "code",
   "execution_count": 29,
   "id": "7cb5ef4e",
   "metadata": {},
   "outputs": [
    {
     "data": {
      "text/html": [
       "<div>\n",
       "<style scoped>\n",
       "    .dataframe tbody tr th:only-of-type {\n",
       "        vertical-align: middle;\n",
       "    }\n",
       "\n",
       "    .dataframe tbody tr th {\n",
       "        vertical-align: top;\n",
       "    }\n",
       "\n",
       "    .dataframe thead tr th {\n",
       "        text-align: left;\n",
       "    }\n",
       "\n",
       "    .dataframe thead tr:last-of-type th {\n",
       "        text-align: right;\n",
       "    }\n",
       "</style>\n",
       "<table border=\"1\" class=\"dataframe\">\n",
       "  <thead>\n",
       "    <tr>\n",
       "      <th></th>\n",
       "      <th>count</th>\n",
       "      <th>sum</th>\n",
       "      <th>mean</th>\n",
       "    </tr>\n",
       "    <tr>\n",
       "      <th></th>\n",
       "      <th>debt</th>\n",
       "      <th>debt</th>\n",
       "      <th>debt</th>\n",
       "    </tr>\n",
       "    <tr>\n",
       "      <th>total_income_category</th>\n",
       "      <th></th>\n",
       "      <th></th>\n",
       "      <th></th>\n",
       "    </tr>\n",
       "  </thead>\n",
       "  <tbody>\n",
       "    <tr>\n",
       "      <th>B</th>\n",
       "      <td>5014</td>\n",
       "      <td>354</td>\n",
       "      <td>0.071</td>\n",
       "    </tr>\n",
       "    <tr>\n",
       "      <th>C</th>\n",
       "      <td>15921</td>\n",
       "      <td>1353</td>\n",
       "      <td>0.085</td>\n",
       "    </tr>\n",
       "  </tbody>\n",
       "</table>\n",
       "</div>"
      ],
      "text/plain": [
       "                       count   sum   mean\n",
       "                        debt  debt   debt\n",
       "total_income_category                    \n",
       "B                       5014   354  0.071\n",
       "C                      15921  1353  0.085"
      ]
     },
     "execution_count": 29,
     "metadata": {},
     "output_type": "execute_result"
    }
   ],
   "source": [
    "total_income_data = (data\n",
    "                     .query('total_income_category not in [\"A\", \"D\", \"E\"]')\n",
    "                     .pivot_table(index='total_income_category', values='debt', aggfunc=['count', 'sum', 'mean'])\n",
    "                    ) \n",
    "# создание сводной таблицы методом pivot_table()\n",
    "total_income_data = total_income_data.round(3)\n",
    "# округление количественных переменных в таблице total_income_data\n",
    "total_income_data"
   ]
  },
  {
   "cell_type": "code",
   "execution_count": 30,
   "id": "4d32ff57",
   "metadata": {},
   "outputs": [
    {
     "data": {
      "text/plain": [
       "Text(0.5, 1.0, 'Доля клиентов с задолженностью по кредитам')"
      ]
     },
     "execution_count": 30,
     "metadata": {},
     "output_type": "execute_result"
    },
    {
     "data": {
      "image/png": "[encoded data removed]",
      "text/plain": [
       "<Figure size 600x500 with 1 Axes>"
      ]
     },
     "metadata": {
      "image/png": {
       "height": 511,
       "width": 611
      }
     },
     "output_type": "display_data"
    }
   ],
   "source": [
    "fg = plt.figure(figsize=(6,5), constrained_layout=True)\n",
    "sns.barplot(x=total_income_data.index, y=total_income_data['mean']['debt'], palette='viridis')\n",
    "plt.xlabel(None)\n",
    "plt.title('Доля клиентов с задолженностью по кредитам', fontsize=15)\n",
    "# построение столбчатой диаграммы"
   ]
  },
  {
   "cell_type": "markdown",
   "id": "add9a438",
   "metadata": {},
   "source": [
    "**Вывод:**"
   ]
  },
  {
   "cell_type": "markdown",
   "id": "66751b78",
   "metadata": {},
   "source": [
    "Чаще других задолженность по возврату кредитов имеют клиенты из категории 'C'. Самая низкая доля должников относится к **категории 'B' - 0.071**. Из графика выше следует, что группа клиентов с более высоким ежемесячным доходом имеет возможность чаще выплачивать свои кредиты. Однако, говорить о прямой зависимости между ежемесячным доходом и возвратом кредита в срок нельзя, так как в выборке не хватает данных по другим категориям."
   ]
  },
  {
   "cell_type": "markdown",
   "id": "ed6ef3ec",
   "metadata": {},
   "source": [
    "Посмотрим как доля должников зависит от типа занятости на разных уровнях доходов, добавим в таблицу группировку по столбцу `income_type`."
   ]
  },
  {
   "cell_type": "code",
   "execution_count": 31,
   "id": "495df382",
   "metadata": {},
   "outputs": [
    {
     "data": {
      "text/html": [
       "<div>\n",
       "<style scoped>\n",
       "    .dataframe tbody tr th:only-of-type {\n",
       "        vertical-align: middle;\n",
       "    }\n",
       "\n",
       "    .dataframe tbody tr th {\n",
       "        vertical-align: top;\n",
       "    }\n",
       "\n",
       "    .dataframe thead th {\n",
       "        text-align: right;\n",
       "    }\n",
       "</style>\n",
       "<table border=\"1\" class=\"dataframe\">\n",
       "  <thead>\n",
       "    <tr style=\"text-align: right;\">\n",
       "      <th></th>\n",
       "      <th>total_income_category</th>\n",
       "      <th>income_type</th>\n",
       "      <th>debt</th>\n",
       "    </tr>\n",
       "  </thead>\n",
       "  <tbody>\n",
       "    <tr>\n",
       "      <th>0</th>\n",
       "      <td>B</td>\n",
       "      <td>безработный</td>\n",
       "      <td>0.000000</td>\n",
       "    </tr>\n",
       "    <tr>\n",
       "      <th>1</th>\n",
       "      <td>B</td>\n",
       "      <td>госслужащий</td>\n",
       "      <td>0.049180</td>\n",
       "    </tr>\n",
       "    <tr>\n",
       "      <th>2</th>\n",
       "      <td>B</td>\n",
       "      <td>компаньон</td>\n",
       "      <td>0.062897</td>\n",
       "    </tr>\n",
       "    <tr>\n",
       "      <th>3</th>\n",
       "      <td>B</td>\n",
       "      <td>пенсионер</td>\n",
       "      <td>0.056159</td>\n",
       "    </tr>\n",
       "    <tr>\n",
       "      <th>4</th>\n",
       "      <td>B</td>\n",
       "      <td>предприниматель</td>\n",
       "      <td>0.000000</td>\n",
       "    </tr>\n",
       "    <tr>\n",
       "      <th>5</th>\n",
       "      <td>B</td>\n",
       "      <td>сотрудник</td>\n",
       "      <td>0.083051</td>\n",
       "    </tr>\n",
       "    <tr>\n",
       "      <th>6</th>\n",
       "      <td>C</td>\n",
       "      <td>безработный</td>\n",
       "      <td>1.000000</td>\n",
       "    </tr>\n",
       "    <tr>\n",
       "      <th>7</th>\n",
       "      <td>C</td>\n",
       "      <td>в декрете</td>\n",
       "      <td>1.000000</td>\n",
       "    </tr>\n",
       "    <tr>\n",
       "      <th>8</th>\n",
       "      <td>C</td>\n",
       "      <td>госслужащий</td>\n",
       "      <td>0.063208</td>\n",
       "    </tr>\n",
       "    <tr>\n",
       "      <th>9</th>\n",
       "      <td>C</td>\n",
       "      <td>компаньон</td>\n",
       "      <td>0.080049</td>\n",
       "    </tr>\n",
       "    <tr>\n",
       "      <th>10</th>\n",
       "      <td>C</td>\n",
       "      <td>пенсионер</td>\n",
       "      <td>0.057124</td>\n",
       "    </tr>\n",
       "    <tr>\n",
       "      <th>11</th>\n",
       "      <td>C</td>\n",
       "      <td>сотрудник</td>\n",
       "      <td>0.099483</td>\n",
       "    </tr>\n",
       "    <tr>\n",
       "      <th>12</th>\n",
       "      <td>C</td>\n",
       "      <td>студент</td>\n",
       "      <td>0.000000</td>\n",
       "    </tr>\n",
       "  </tbody>\n",
       "</table>\n",
       "</div>"
      ],
      "text/plain": [
       "   total_income_category      income_type      debt\n",
       "0                      B      безработный  0.000000\n",
       "1                      B      госслужащий  0.049180\n",
       "2                      B        компаньон  0.062897\n",
       "3                      B        пенсионер  0.056159\n",
       "4                      B  предприниматель  0.000000\n",
       "5                      B        сотрудник  0.083051\n",
       "6                      C      безработный  1.000000\n",
       "7                      C        в декрете  1.000000\n",
       "8                      C      госслужащий  0.063208\n",
       "9                      C        компаньон  0.080049\n",
       "10                     C        пенсионер  0.057124\n",
       "11                     C        сотрудник  0.099483\n",
       "12                     C          студент  0.000000"
      ]
     },
     "execution_count": 31,
     "metadata": {},
     "output_type": "execute_result"
    }
   ],
   "source": [
    "income_type_data = (data\n",
    "                    .query('total_income_category not in [\"A\", \"D\", \"E\"]')\n",
    "                    .groupby(by=['total_income_category', 'income_type'])['debt'].mean().reset_index()\n",
    "                   )\n",
    "# группировка данных\n",
    "income_type_data"
   ]
  },
  {
   "cell_type": "code",
   "execution_count": 32,
   "id": "3b9a8074",
   "metadata": {},
   "outputs": [
    {
     "data": {
      "text/plain": [
       "сотрудник          11015\n",
       "компаньон           5047\n",
       "пенсионер           3812\n",
       "госслужащий         1451\n",
       "безработный            2\n",
       "предприниматель        2\n",
       "студент                1\n",
       "в декрете              1\n",
       "Name: income_type, dtype: int64"
      ]
     },
     "execution_count": 32,
     "metadata": {},
     "output_type": "execute_result"
    }
   ],
   "source": [
    "data['income_type'].value_counts()\n",
    "# количество уникальных совпадений в колонке 'income_type'"
   ]
  },
  {
   "cell_type": "code",
   "execution_count": 33,
   "id": "15e70e8a",
   "metadata": {},
   "outputs": [
    {
     "data": {
      "text/plain": [
       "Text(0.5, 1.0, 'Доля клиентов с задолженностью по кредитам')"
      ]
     },
     "execution_count": 33,
     "metadata": {},
     "output_type": "execute_result"
    },
    {
     "data": {
      "image/png": "[encoded data removed]",
      "text/plain": [
       "<Figure size 1000x600 with 1 Axes>"
      ]
     },
     "metadata": {
      "image/png": {
       "height": 611,
       "width": 1011
      }
     },
     "output_type": "display_data"
    }
   ],
   "source": [
    "income_type_data = income_type_data.query('income_type not in [\"предприниматель\", \"безработный\", \"в декрете\", \"студент\"]')\n",
    "# получение среза данных\n",
    "fg = plt.figure(figsize=(10,6), constrained_layout=True)\n",
    "sns.barplot(x=income_type_data['income_type'], y=income_type_data['debt'], hue=income_type_data['total_income_category'], palette='viridis')\n",
    "plt.xlabel(None)\n",
    "plt.title('Доля клиентов с задолженностью по кредитам', fontsize=17)\n",
    "# построение столбчатой диаграммы"
   ]
  },
  {
   "cell_type": "markdown",
   "id": "1e09120d",
   "metadata": {
    "deletable": false,
    "id": "e8593def"
   },
   "source": [
    "**Вывод:** "
   ]
  },
  {
   "cell_type": "markdown",
   "id": "c8ac2742",
   "metadata": {},
   "source": [
    "Самыми надёжными заёмщиками являются **пенсионеры и госслужащие** на любом уровне доходов, в то время как сотрудники выплачивают свои кредиты хуже остальных."
   ]
  },
  {
   "cell_type": "markdown",
   "id": "633727d9",
   "metadata": {
    "deletable": false,
    "editable": false,
    "id": "99ecbd1f"
   },
   "source": [
    "#### 3.4 Как разные цели кредита влияют на его возврат в срок?"
   ]
  },
  {
   "cell_type": "code",
   "execution_count": 34,
   "id": "3df83503",
   "metadata": {
    "deletable": false,
    "id": "2b687290"
   },
   "outputs": [
    {
     "data": {
      "text/html": [
       "<div>\n",
       "<style scoped>\n",
       "    .dataframe tbody tr th:only-of-type {\n",
       "        vertical-align: middle;\n",
       "    }\n",
       "\n",
       "    .dataframe tbody tr th {\n",
       "        vertical-align: top;\n",
       "    }\n",
       "\n",
       "    .dataframe thead tr th {\n",
       "        text-align: left;\n",
       "    }\n",
       "\n",
       "    .dataframe thead tr:last-of-type th {\n",
       "        text-align: right;\n",
       "    }\n",
       "</style>\n",
       "<table border=\"1\" class=\"dataframe\">\n",
       "  <thead>\n",
       "    <tr>\n",
       "      <th></th>\n",
       "      <th>count</th>\n",
       "      <th>sum</th>\n",
       "      <th>mean</th>\n",
       "    </tr>\n",
       "    <tr>\n",
       "      <th></th>\n",
       "      <th>debt</th>\n",
       "      <th>debt</th>\n",
       "      <th>debt</th>\n",
       "    </tr>\n",
       "    <tr>\n",
       "      <th>purpose_category</th>\n",
       "      <th></th>\n",
       "      <th></th>\n",
       "      <th></th>\n",
       "    </tr>\n",
       "  </thead>\n",
       "  <tbody>\n",
       "    <tr>\n",
       "      <th>операции с автомобилем</th>\n",
       "      <td>4279</td>\n",
       "      <td>400</td>\n",
       "      <td>0.093</td>\n",
       "    </tr>\n",
       "    <tr>\n",
       "      <th>операции с недвижимостью</th>\n",
       "      <td>10751</td>\n",
       "      <td>780</td>\n",
       "      <td>0.073</td>\n",
       "    </tr>\n",
       "    <tr>\n",
       "      <th>получение образования</th>\n",
       "      <td>3988</td>\n",
       "      <td>369</td>\n",
       "      <td>0.093</td>\n",
       "    </tr>\n",
       "    <tr>\n",
       "      <th>проведение свадьбы</th>\n",
       "      <td>2313</td>\n",
       "      <td>183</td>\n",
       "      <td>0.079</td>\n",
       "    </tr>\n",
       "  </tbody>\n",
       "</table>\n",
       "</div>"
      ],
      "text/plain": [
       "                          count  sum   mean\n",
       "                           debt debt   debt\n",
       "purpose_category                           \n",
       "операции с автомобилем     4279  400  0.093\n",
       "операции с недвижимостью  10751  780  0.073\n",
       "получение образования      3988  369  0.093\n",
       "проведение свадьбы         2313  183  0.079"
      ]
     },
     "execution_count": 34,
     "metadata": {},
     "output_type": "execute_result"
    }
   ],
   "source": [
    "purpose_data = data.pivot_table(index='purpose_category', values='debt', aggfunc=['count', 'sum', 'mean'])\n",
    "# создание сводной таблицы методом pivot_table()\n",
    "purpose_data = purpose_data.round(3)\n",
    "# округление количественных переменных в таблице purpose_data\n",
    "purpose_data"
   ]
  },
  {
   "cell_type": "code",
   "execution_count": 35,
   "id": "9d7b4b4c",
   "metadata": {},
   "outputs": [
    {
     "data": {
      "text/plain": [
       "Text(0.5, 1.0, 'Доля клиентов с задолженностью по кредитам')"
      ]
     },
     "execution_count": 35,
     "metadata": {},
     "output_type": "execute_result"
    },
    {
     "data": {
      "image/png": "[encoded data removed]",
      "text/plain": [
       "<Figure size 900x500 with 1 Axes>"
      ]
     },
     "metadata": {
      "image/png": {
       "height": 511,
       "width": 911
      }
     },
     "output_type": "display_data"
    }
   ],
   "source": [
    "fg = plt.figure(figsize=(9,5), constrained_layout=True)\n",
    "sns.barplot(y=purpose_data.index, x=purpose_data['mean']['debt'], palette='viridis', orient='h')\n",
    "plt.ylabel(None)\n",
    "plt.title('Доля клиентов с задолженностью по кредитам', fontsize=16)\n",
    "# построение столбчатой диаграммы"
   ]
  },
  {
   "cell_type": "markdown",
   "id": "a0af076c",
   "metadata": {
    "deletable": false,
    "id": "b4bb2ce6"
   },
   "source": [
    "**Вывод:** "
   ]
  },
  {
   "cell_type": "markdown",
   "id": "4ab6d02a",
   "metadata": {},
   "source": [
    "У людей, которые берут кредит на получение образования или покупку автомобиля, есть больше задолженностей по кредитам, чем у клиентов, оформляющих кредит ради совершения **операций с недвижимостью**, а также **проведения свадьбы**. Предположительно, молодые клиенты банка, целью которых является получение образования, первоначально имеют меньше возможностей для выплат по кредитам в отличие от людей с трудовым опытом и стабильной зарплатой. В то же время покупкой коммерческой или жилой недвижимости чаще интересуются семьи, ответственно подходящие к погашению кредитов в срок."
   ]
  },
  {
   "cell_type": "markdown",
   "id": "1e068806",
   "metadata": {
    "deletable": false,
    "editable": false,
    "id": "09c3ac4c"
   },
   "source": [
    "#### 3.5 Приведите возможные причины появления пропусков в исходных данных."
   ]
  },
  {
   "cell_type": "markdown",
   "id": "6f2adf89",
   "metadata": {
    "deletable": false,
    "id": "9da2ceda"
   },
   "source": [
    "*Ответ:* "
   ]
  },
  {
   "cell_type": "markdown",
   "id": "4e5eb687",
   "metadata": {},
   "source": [
    "Возможные **причины** появления пропусков в данных:\n",
    "- технические, например, неудачно написанный код для загрузки данных с сервера;\n",
    "- личные цели клиентов банка, которые умышленно оставили пропуски при заполнении анкеты."
   ]
  },
  {
   "cell_type": "markdown",
   "id": "435e59b5",
   "metadata": {},
   "source": [
    "Ежемесячные доходы заёмщика и трудовой стаж - очень важные параметры, учитываемые при оценке его платёжеспособности и стабильности финансовых потоков. На практике многие банки имеют возможность запросить недостающие сведения из государственных баз данных, например: Пенсионного фонда, Федеральной налоговой службы, Росреестра и др."
   ]
  },
  {
   "cell_type": "markdown",
   "id": "fb17e618",
   "metadata": {
    "deletable": false,
    "editable": false,
    "id": "7b0487d6"
   },
   "source": [
    "#### 3.6 Объясните, почему заполнить пропуски медианным значением — лучшее решение для количественных переменных."
   ]
  },
  {
   "cell_type": "markdown",
   "id": "c1a4cd94",
   "metadata": {
    "deletable": false,
    "id": "7ecf2b8e"
   },
   "source": [
    "*Ответ:* "
   ]
  },
  {
   "cell_type": "markdown",
   "id": "fc614aff",
   "metadata": {},
   "source": [
    "Так как `days_employed` и `total_income` являются количественными переменными, то лучше всего для устранения пропусков подходят среднее арифметическое или медиана. С учётом того, что в данных присутствуют выбросы, корректнее использовать медиану. Сдеднее арифметическое больше подвержно влиянию выбросов, чем медианное значение."
   ]
  },
  {
   "cell_type": "markdown",
   "id": "b67c6283",
   "metadata": {
    "deletable": false,
    "editable": false,
    "id": "6db5255a"
   },
   "source": [
    "### Шаг 4: общий вывод."
   ]
  },
  {
   "cell_type": "markdown",
   "id": "21e8322e",
   "metadata": {
    "deletable": false,
    "id": "bad65432"
   },
   "source": [
    "Риск неуплаты кредита ниже у клиентов банка, которые **не имеют детей** на иждевении и соответственно могут выделить больше средств для погашения кредита. Заёмщики, находящиеся **в официальном браке**, также более ответственно подходят к планированию бюджета и чаще не имеют задолженностей по выплатам, в отличие от не женатых/не замужних людей. Немного должников и среди клиентов **в разводе (7.1%)**, а также **вдов/вдовцов (6.5%)**.\n",
    "\n",
    "Клиенты банка с ежемесячным доходом **от 200001 до 1000000 руб. (категория 'B')** реже становятся должниками по кредитам, чем заёмщики из категории 'C' c заработком от 50001 до 200000 руб. При этом *информации по остальным категориям дохода недостаточно* для оценки данной взаимосвязи. Стоит отметить, что **пенсионеры и госслужащие** выплачивают кредиты лучше компаньонов и сотрудников.  \n",
    "\n",
    "Доля должников, оформляющих кредит для совершения **операций с недвижимостью (7.3%) и проведения свадьбы (7.9%)**, меньше по сравнению с клиентами, которые берут кредит **на получнение образования (9.3%) и покупку автомобиля (9.3%)**. Покупкой недвижимости больше интересуются семьи, планирующие свои расходы заранее, в то время как молодые люди без стабильного заработка чаще заинтересованы в получении образования.  "
   ]
  },
  {
   "cell_type": "code",
   "execution_count": null,
   "id": "5a2ac6c8",
   "metadata": {},
   "outputs": [],
   "source": []
  }
 ],
 "metadata": {
  "ExecuteTimeLog": [
   {
    "duration": 516,
    "start_time": "2022-12-11T18:18:00.975Z"
   },
   {
    "duration": 25,
    "start_time": "2022-12-11T18:18:01.495Z"
   },
   {
    "duration": 48,
    "start_time": "2022-12-11T18:18:01.523Z"
   },
   {
    "duration": 15,
    "start_time": "2022-12-11T18:18:01.573Z"
   },
   {
    "duration": 44,
    "start_time": "2022-12-11T18:18:01.591Z"
   },
   {
    "duration": 4,
    "start_time": "2022-12-11T18:18:01.637Z"
   },
   {
    "duration": 21,
    "start_time": "2022-12-11T18:18:01.652Z"
   },
   {
    "duration": 9,
    "start_time": "2022-12-11T18:18:01.675Z"
   },
   {
    "duration": 10,
    "start_time": "2022-12-11T18:18:01.687Z"
   },
   {
    "duration": 9,
    "start_time": "2022-12-11T18:18:01.699Z"
   },
   {
    "duration": 65,
    "start_time": "2022-12-11T18:18:01.710Z"
   },
   {
    "duration": 10,
    "start_time": "2022-12-11T18:18:01.777Z"
   },
   {
    "duration": 20,
    "start_time": "2022-12-11T18:18:01.789Z"
   },
   {
    "duration": 14,
    "start_time": "2022-12-11T18:18:01.811Z"
   },
   {
    "duration": 40,
    "start_time": "2022-12-11T18:18:01.827Z"
   },
   {
    "duration": 20,
    "start_time": "2022-12-11T18:18:01.869Z"
   },
   {
    "duration": 5,
    "start_time": "2022-12-11T18:18:01.891Z"
   },
   {
    "duration": 18,
    "start_time": "2022-12-11T18:18:01.898Z"
   },
   {
    "duration": 36,
    "start_time": "2022-12-11T18:18:01.918Z"
   },
   {
    "duration": 10,
    "start_time": "2022-12-11T18:18:01.956Z"
   },
   {
    "duration": 14,
    "start_time": "2022-12-11T18:18:01.969Z"
   },
   {
    "duration": 7,
    "start_time": "2022-12-11T18:18:01.985Z"
   },
   {
    "duration": 17,
    "start_time": "2022-12-11T18:18:01.994Z"
   },
   {
    "duration": 8,
    "start_time": "2022-12-11T18:18:02.013Z"
   },
   {
    "duration": 26,
    "start_time": "2022-12-11T18:18:02.023Z"
   },
   {
    "duration": 526,
    "start_time": "2022-12-11T18:18:49.507Z"
   },
   {
    "duration": 33,
    "start_time": "2022-12-11T18:18:50.035Z"
   },
   {
    "duration": 18,
    "start_time": "2022-12-11T18:18:50.070Z"
   },
   {
    "duration": 11,
    "start_time": "2022-12-11T18:18:50.090Z"
   },
   {
    "duration": 67,
    "start_time": "2022-12-11T18:18:50.103Z"
   },
   {
    "duration": 4,
    "start_time": "2022-12-11T18:18:50.172Z"
   },
   {
    "duration": 15,
    "start_time": "2022-12-11T18:18:50.178Z"
   },
   {
    "duration": 23,
    "start_time": "2022-12-11T18:18:50.195Z"
   },
   {
    "duration": 11,
    "start_time": "2022-12-11T18:18:50.220Z"
   },
   {
    "duration": 31,
    "start_time": "2022-12-11T18:18:50.234Z"
   },
   {
    "duration": 41,
    "start_time": "2022-12-11T18:18:50.267Z"
   },
   {
    "duration": 11,
    "start_time": "2022-12-11T18:18:50.310Z"
   },
   {
    "duration": 30,
    "start_time": "2022-12-11T18:18:50.323Z"
   },
   {
    "duration": 22,
    "start_time": "2022-12-11T18:18:50.355Z"
   },
   {
    "duration": 25,
    "start_time": "2022-12-11T18:18:50.379Z"
   },
   {
    "duration": 20,
    "start_time": "2022-12-11T18:18:50.406Z"
   },
   {
    "duration": 33,
    "start_time": "2022-12-11T18:18:50.428Z"
   },
   {
    "duration": 16,
    "start_time": "2022-12-11T18:18:50.463Z"
   },
   {
    "duration": 8,
    "start_time": "2022-12-11T18:18:50.481Z"
   },
   {
    "duration": 5,
    "start_time": "2022-12-11T18:18:50.491Z"
   },
   {
    "duration": 12,
    "start_time": "2022-12-11T18:18:50.498Z"
   },
   {
    "duration": 6,
    "start_time": "2022-12-11T18:18:50.512Z"
   },
   {
    "duration": 32,
    "start_time": "2022-12-11T18:18:50.519Z"
   },
   {
    "duration": 12,
    "start_time": "2022-12-11T18:18:50.562Z"
   },
   {
    "duration": 7,
    "start_time": "2022-12-11T18:18:50.576Z"
   },
   {
    "duration": 44,
    "start_time": "2022-12-12T04:09:30.127Z"
   },
   {
    "duration": 634,
    "start_time": "2022-12-12T04:09:36.449Z"
   },
   {
    "duration": 20,
    "start_time": "2022-12-12T04:09:37.085Z"
   },
   {
    "duration": 13,
    "start_time": "2022-12-12T04:09:37.107Z"
   },
   {
    "duration": 9,
    "start_time": "2022-12-12T04:09:37.121Z"
   },
   {
    "duration": 33,
    "start_time": "2022-12-12T04:09:37.131Z"
   },
   {
    "duration": 3,
    "start_time": "2022-12-12T04:09:37.165Z"
   },
   {
    "duration": 9,
    "start_time": "2022-12-12T04:09:37.169Z"
   },
   {
    "duration": 4,
    "start_time": "2022-12-12T04:09:37.179Z"
   },
   {
    "duration": 9,
    "start_time": "2022-12-12T04:09:37.184Z"
   },
   {
    "duration": 28,
    "start_time": "2022-12-12T04:09:37.194Z"
   },
   {
    "duration": 32,
    "start_time": "2022-12-12T04:09:37.223Z"
   },
   {
    "duration": 8,
    "start_time": "2022-12-12T04:09:37.257Z"
   },
   {
    "duration": 7,
    "start_time": "2022-12-12T04:09:37.267Z"
   },
   {
    "duration": 11,
    "start_time": "2022-12-12T04:09:37.276Z"
   },
   {
    "duration": 36,
    "start_time": "2022-12-12T04:09:37.288Z"
   },
   {
    "duration": 15,
    "start_time": "2022-12-12T04:09:37.325Z"
   },
   {
    "duration": 4,
    "start_time": "2022-12-12T04:09:37.341Z"
   },
   {
    "duration": 13,
    "start_time": "2022-12-12T04:09:37.346Z"
   },
   {
    "duration": 5,
    "start_time": "2022-12-12T04:09:37.361Z"
   },
   {
    "duration": 4,
    "start_time": "2022-12-12T04:09:37.368Z"
   },
   {
    "duration": 12,
    "start_time": "2022-12-12T04:09:37.374Z"
   },
   {
    "duration": 8,
    "start_time": "2022-12-12T04:09:37.388Z"
   },
   {
    "duration": 24,
    "start_time": "2022-12-12T04:09:37.398Z"
   },
   {
    "duration": 7,
    "start_time": "2022-12-12T04:09:37.424Z"
   },
   {
    "duration": 8,
    "start_time": "2022-12-12T04:09:37.432Z"
   },
   {
    "duration": 6,
    "start_time": "2022-12-12T04:11:56.254Z"
   },
   {
    "duration": 9,
    "start_time": "2022-12-12T04:12:25.967Z"
   },
   {
    "duration": 7,
    "start_time": "2022-12-12T04:12:47.409Z"
   },
   {
    "duration": 13,
    "start_time": "2022-12-12T04:14:11.717Z"
   },
   {
    "duration": 45,
    "start_time": "2022-12-12T04:18:50.182Z"
   },
   {
    "duration": 60,
    "start_time": "2022-12-12T04:19:01.263Z"
   },
   {
    "duration": 8,
    "start_time": "2022-12-12T04:19:11.276Z"
   },
   {
    "duration": 19,
    "start_time": "2022-12-12T04:19:26.205Z"
   },
   {
    "duration": 16,
    "start_time": "2022-12-12T04:19:40.805Z"
   },
   {
    "duration": 495,
    "start_time": "2022-12-12T04:20:57.346Z"
   },
   {
    "duration": 24,
    "start_time": "2022-12-12T04:20:57.843Z"
   },
   {
    "duration": 18,
    "start_time": "2022-12-12T04:20:57.869Z"
   },
   {
    "duration": 10,
    "start_time": "2022-12-12T04:20:57.890Z"
   },
   {
    "duration": 50,
    "start_time": "2022-12-12T04:20:57.901Z"
   },
   {
    "duration": 3,
    "start_time": "2022-12-12T04:20:57.953Z"
   },
   {
    "duration": 11,
    "start_time": "2022-12-12T04:20:57.958Z"
   },
   {
    "duration": 5,
    "start_time": "2022-12-12T04:20:57.970Z"
   },
   {
    "duration": 9,
    "start_time": "2022-12-12T04:20:57.976Z"
   },
   {
    "duration": 8,
    "start_time": "2022-12-12T04:20:57.987Z"
   },
   {
    "duration": 64,
    "start_time": "2022-12-12T04:20:57.996Z"
   },
   {
    "duration": 11,
    "start_time": "2022-12-12T04:20:58.061Z"
   },
   {
    "duration": 6,
    "start_time": "2022-12-12T04:20:58.073Z"
   },
   {
    "duration": 15,
    "start_time": "2022-12-12T04:20:58.080Z"
   },
   {
    "duration": 30,
    "start_time": "2022-12-12T04:20:58.096Z"
   },
   {
    "duration": 18,
    "start_time": "2022-12-12T04:20:58.127Z"
   },
   {
    "duration": 4,
    "start_time": "2022-12-12T04:20:58.146Z"
   },
   {
    "duration": 19,
    "start_time": "2022-12-12T04:20:58.152Z"
   },
   {
    "duration": 7,
    "start_time": "2022-12-12T04:20:58.173Z"
   },
   {
    "duration": 8,
    "start_time": "2022-12-12T04:20:58.181Z"
   },
   {
    "duration": 34,
    "start_time": "2022-12-12T04:20:58.191Z"
   },
   {
    "duration": 17,
    "start_time": "2022-12-12T04:20:58.227Z"
   },
   {
    "duration": 9,
    "start_time": "2022-12-12T04:20:58.246Z"
   },
   {
    "duration": 27,
    "start_time": "2022-12-12T04:20:58.257Z"
   },
   {
    "duration": 2,
    "start_time": "2022-12-12T04:20:58.285Z"
   },
   {
    "duration": 8,
    "start_time": "2022-12-12T04:20:58.289Z"
   },
   {
    "duration": 6,
    "start_time": "2022-12-12T04:20:58.299Z"
   },
   {
    "duration": 20,
    "start_time": "2022-12-12T04:24:56.421Z"
   },
   {
    "duration": 25,
    "start_time": "2022-12-12T04:25:07.364Z"
   },
   {
    "duration": 26,
    "start_time": "2022-12-12T04:25:14.644Z"
   },
   {
    "duration": 1326,
    "start_time": "2022-12-12T04:29:25.928Z"
   },
   {
    "duration": 19,
    "start_time": "2022-12-12T04:29:27.256Z"
   },
   {
    "duration": 15,
    "start_time": "2022-12-12T04:29:27.276Z"
   },
   {
    "duration": 9,
    "start_time": "2022-12-12T04:29:27.292Z"
   },
   {
    "duration": 31,
    "start_time": "2022-12-12T04:29:27.321Z"
   },
   {
    "duration": 3,
    "start_time": "2022-12-12T04:29:27.353Z"
   },
   {
    "duration": 8,
    "start_time": "2022-12-12T04:29:27.358Z"
   },
   {
    "duration": 4,
    "start_time": "2022-12-12T04:29:27.368Z"
   },
   {
    "duration": 7,
    "start_time": "2022-12-12T04:29:27.373Z"
   },
   {
    "duration": 4,
    "start_time": "2022-12-12T04:29:27.382Z"
   },
   {
    "duration": 30,
    "start_time": "2022-12-12T04:29:27.421Z"
   },
   {
    "duration": 8,
    "start_time": "2022-12-12T04:29:27.453Z"
   },
   {
    "duration": 4,
    "start_time": "2022-12-12T04:29:27.463Z"
   },
   {
    "duration": 18,
    "start_time": "2022-12-12T04:29:27.469Z"
   },
   {
    "duration": 39,
    "start_time": "2022-12-12T04:29:27.488Z"
   },
   {
    "duration": 17,
    "start_time": "2022-12-12T04:29:27.528Z"
   },
   {
    "duration": 4,
    "start_time": "2022-12-12T04:29:27.547Z"
   },
   {
    "duration": 22,
    "start_time": "2022-12-12T04:29:27.553Z"
   },
   {
    "duration": 6,
    "start_time": "2022-12-12T04:29:27.577Z"
   },
   {
    "duration": 13,
    "start_time": "2022-12-12T04:29:27.585Z"
   },
   {
    "duration": 27,
    "start_time": "2022-12-12T04:29:27.599Z"
   },
   {
    "duration": 30,
    "start_time": "2022-12-12T04:29:27.628Z"
   },
   {
    "duration": 6,
    "start_time": "2022-12-12T04:29:27.660Z"
   },
   {
    "duration": 18,
    "start_time": "2022-12-12T04:29:27.668Z"
   },
   {
    "duration": 34,
    "start_time": "2022-12-12T04:29:27.688Z"
   },
   {
    "duration": 3,
    "start_time": "2022-12-12T04:29:27.723Z"
   },
   {
    "duration": 9,
    "start_time": "2022-12-12T04:29:27.727Z"
   },
   {
    "duration": 5,
    "start_time": "2022-12-12T04:29:27.739Z"
   },
   {
    "duration": 1133,
    "start_time": "2022-12-12T05:02:28.089Z"
   },
   {
    "duration": 18,
    "start_time": "2022-12-12T05:02:29.224Z"
   },
   {
    "duration": 14,
    "start_time": "2022-12-12T05:02:29.243Z"
   },
   {
    "duration": 8,
    "start_time": "2022-12-12T05:02:29.259Z"
   },
   {
    "duration": 30,
    "start_time": "2022-12-12T05:02:29.269Z"
   },
   {
    "duration": 21,
    "start_time": "2022-12-12T05:02:29.301Z"
   },
   {
    "duration": 10,
    "start_time": "2022-12-12T05:02:29.324Z"
   },
   {
    "duration": 5,
    "start_time": "2022-12-12T05:02:29.335Z"
   },
   {
    "duration": 11,
    "start_time": "2022-12-12T05:02:29.341Z"
   },
   {
    "duration": 5,
    "start_time": "2022-12-12T05:02:29.353Z"
   },
   {
    "duration": 35,
    "start_time": "2022-12-12T05:02:29.359Z"
   },
   {
    "duration": 30,
    "start_time": "2022-12-12T05:02:29.395Z"
   },
   {
    "duration": 3,
    "start_time": "2022-12-12T05:02:29.427Z"
   },
   {
    "duration": 22,
    "start_time": "2022-12-12T05:02:29.432Z"
   },
   {
    "duration": 20,
    "start_time": "2022-12-12T05:02:29.456Z"
   },
   {
    "duration": 16,
    "start_time": "2022-12-12T05:02:29.478Z"
   },
   {
    "duration": 18,
    "start_time": "2022-12-12T05:02:29.495Z"
   },
   {
    "duration": 13,
    "start_time": "2022-12-12T05:02:29.521Z"
   },
   {
    "duration": 7,
    "start_time": "2022-12-12T05:02:29.536Z"
   },
   {
    "duration": 3,
    "start_time": "2022-12-12T05:02:29.544Z"
   },
   {
    "duration": 41,
    "start_time": "2022-12-12T05:02:29.549Z"
   },
   {
    "duration": 20,
    "start_time": "2022-12-12T05:02:29.592Z"
   },
   {
    "duration": 6,
    "start_time": "2022-12-12T05:02:29.614Z"
   },
   {
    "duration": 21,
    "start_time": "2022-12-12T05:02:29.622Z"
   },
   {
    "duration": 25,
    "start_time": "2022-12-12T05:02:29.644Z"
   },
   {
    "duration": 102,
    "start_time": "2022-12-12T05:02:29.670Z"
   },
   {
    "duration": 0,
    "start_time": "2022-12-12T05:02:29.773Z"
   },
   {
    "duration": 0,
    "start_time": "2022-12-12T05:02:29.775Z"
   },
   {
    "duration": 0,
    "start_time": "2022-12-12T05:02:29.775Z"
   },
   {
    "duration": 13,
    "start_time": "2022-12-12T05:02:48.849Z"
   },
   {
    "duration": 28,
    "start_time": "2022-12-12T05:03:08.672Z"
   },
   {
    "duration": 14,
    "start_time": "2022-12-12T05:03:39.376Z"
   },
   {
    "duration": 20,
    "start_time": "2022-12-12T05:03:52.225Z"
   },
   {
    "duration": 101,
    "start_time": "2022-12-12T05:04:53.536Z"
   },
   {
    "duration": 106,
    "start_time": "2022-12-12T05:05:02.423Z"
   },
   {
    "duration": 109,
    "start_time": "2022-12-12T05:05:58.121Z"
   },
   {
    "duration": 1196,
    "start_time": "2022-12-12T05:06:35.793Z"
   },
   {
    "duration": 18,
    "start_time": "2022-12-12T05:06:36.990Z"
   },
   {
    "duration": 13,
    "start_time": "2022-12-12T05:06:37.009Z"
   },
   {
    "duration": 10,
    "start_time": "2022-12-12T05:06:37.025Z"
   },
   {
    "duration": 31,
    "start_time": "2022-12-12T05:06:37.036Z"
   },
   {
    "duration": 3,
    "start_time": "2022-12-12T05:06:37.069Z"
   },
   {
    "duration": 10,
    "start_time": "2022-12-12T05:06:37.073Z"
   },
   {
    "duration": 3,
    "start_time": "2022-12-12T05:06:37.085Z"
   },
   {
    "duration": 11,
    "start_time": "2022-12-12T05:06:37.089Z"
   },
   {
    "duration": 20,
    "start_time": "2022-12-12T05:06:37.102Z"
   },
   {
    "duration": 41,
    "start_time": "2022-12-12T05:06:37.123Z"
   },
   {
    "duration": 9,
    "start_time": "2022-12-12T05:06:37.165Z"
   },
   {
    "duration": 4,
    "start_time": "2022-12-12T05:06:37.175Z"
   },
   {
    "duration": 12,
    "start_time": "2022-12-12T05:06:37.181Z"
   },
   {
    "duration": 28,
    "start_time": "2022-12-12T05:06:37.194Z"
   },
   {
    "duration": 18,
    "start_time": "2022-12-12T05:06:37.224Z"
   },
   {
    "duration": 3,
    "start_time": "2022-12-12T05:06:37.244Z"
   },
   {
    "duration": 15,
    "start_time": "2022-12-12T05:06:37.249Z"
   },
   {
    "duration": 5,
    "start_time": "2022-12-12T05:06:37.266Z"
   },
   {
    "duration": 5,
    "start_time": "2022-12-12T05:06:37.272Z"
   },
   {
    "duration": 9,
    "start_time": "2022-12-12T05:06:37.278Z"
   },
   {
    "duration": 40,
    "start_time": "2022-12-12T05:06:37.288Z"
   },
   {
    "duration": 11,
    "start_time": "2022-12-12T05:06:37.330Z"
   },
   {
    "duration": 14,
    "start_time": "2022-12-12T05:06:37.343Z"
   },
   {
    "duration": 26,
    "start_time": "2022-12-12T05:06:37.359Z"
   },
   {
    "duration": 154,
    "start_time": "2022-12-12T05:06:37.387Z"
   },
   {
    "duration": 2,
    "start_time": "2022-12-12T05:06:37.543Z"
   },
   {
    "duration": 7,
    "start_time": "2022-12-12T05:06:37.547Z"
   },
   {
    "duration": 5,
    "start_time": "2022-12-12T05:06:37.556Z"
   },
   {
    "duration": 130,
    "start_time": "2022-12-12T05:07:43.142Z"
   },
   {
    "duration": 187,
    "start_time": "2022-12-12T05:08:52.873Z"
   },
   {
    "duration": 181,
    "start_time": "2022-12-12T05:11:31.273Z"
   },
   {
    "duration": 188,
    "start_time": "2022-12-12T05:13:19.476Z"
   },
   {
    "duration": 103,
    "start_time": "2022-12-12T05:13:46.965Z"
   },
   {
    "duration": 1144,
    "start_time": "2022-12-12T05:14:38.473Z"
   },
   {
    "duration": 18,
    "start_time": "2022-12-12T05:14:39.618Z"
   },
   {
    "duration": 14,
    "start_time": "2022-12-12T05:14:39.638Z"
   },
   {
    "duration": 9,
    "start_time": "2022-12-12T05:14:39.654Z"
   },
   {
    "duration": 59,
    "start_time": "2022-12-12T05:14:39.665Z"
   },
   {
    "duration": 4,
    "start_time": "2022-12-12T05:14:39.725Z"
   },
   {
    "duration": 12,
    "start_time": "2022-12-12T05:14:39.730Z"
   },
   {
    "duration": 4,
    "start_time": "2022-12-12T05:14:39.743Z"
   },
   {
    "duration": 7,
    "start_time": "2022-12-12T05:14:39.749Z"
   },
   {
    "duration": 4,
    "start_time": "2022-12-12T05:14:39.759Z"
   },
   {
    "duration": 57,
    "start_time": "2022-12-12T05:14:39.764Z"
   },
   {
    "duration": 9,
    "start_time": "2022-12-12T05:14:39.823Z"
   },
   {
    "duration": 5,
    "start_time": "2022-12-12T05:14:39.833Z"
   },
   {
    "duration": 11,
    "start_time": "2022-12-12T05:14:39.840Z"
   },
   {
    "duration": 17,
    "start_time": "2022-12-12T05:14:39.853Z"
   },
   {
    "duration": 16,
    "start_time": "2022-12-12T05:14:39.871Z"
   },
   {
    "duration": 4,
    "start_time": "2022-12-12T05:14:39.888Z"
   },
   {
    "duration": 34,
    "start_time": "2022-12-12T05:14:39.893Z"
   },
   {
    "duration": 9,
    "start_time": "2022-12-12T05:14:39.928Z"
   },
   {
    "duration": 5,
    "start_time": "2022-12-12T05:14:39.938Z"
   },
   {
    "duration": 9,
    "start_time": "2022-12-12T05:14:39.945Z"
   },
   {
    "duration": 18,
    "start_time": "2022-12-12T05:14:39.955Z"
   },
   {
    "duration": 6,
    "start_time": "2022-12-12T05:14:39.975Z"
   },
   {
    "duration": 21,
    "start_time": "2022-12-12T05:14:39.983Z"
   },
   {
    "duration": 40,
    "start_time": "2022-12-12T05:14:40.006Z"
   },
   {
    "duration": 534,
    "start_time": "2022-12-12T05:14:40.047Z"
   },
   {
    "duration": 2,
    "start_time": "2022-12-12T05:14:40.582Z"
   },
   {
    "duration": 7,
    "start_time": "2022-12-12T05:14:40.587Z"
   },
   {
    "duration": 5,
    "start_time": "2022-12-12T05:14:40.595Z"
   },
   {
    "duration": 190,
    "start_time": "2022-12-12T05:15:30.768Z"
   },
   {
    "duration": 191,
    "start_time": "2022-12-12T05:15:51.659Z"
   },
   {
    "duration": 211,
    "start_time": "2022-12-12T05:16:17.306Z"
   },
   {
    "duration": 204,
    "start_time": "2022-12-12T05:16:21.717Z"
   },
   {
    "duration": 200,
    "start_time": "2022-12-12T05:16:26.484Z"
   },
   {
    "duration": 194,
    "start_time": "2022-12-12T05:16:33.134Z"
   },
   {
    "duration": 241,
    "start_time": "2022-12-12T05:19:34.544Z"
   },
   {
    "duration": 224,
    "start_time": "2022-12-12T05:19:55.347Z"
   },
   {
    "duration": 30,
    "start_time": "2022-12-12T05:26:12.001Z"
   },
   {
    "duration": 253,
    "start_time": "2022-12-12T05:32:24.389Z"
   },
   {
    "duration": 137,
    "start_time": "2022-12-12T05:32:53.474Z"
   },
   {
    "duration": 423,
    "start_time": "2022-12-12T05:33:45.339Z"
   },
   {
    "duration": 445,
    "start_time": "2022-12-12T05:33:54.911Z"
   },
   {
    "duration": 210,
    "start_time": "2022-12-12T05:34:30.272Z"
   },
   {
    "duration": 421,
    "start_time": "2022-12-12T05:34:40.913Z"
   },
   {
    "duration": 193,
    "start_time": "2022-12-12T05:34:54.460Z"
   },
   {
    "duration": 199,
    "start_time": "2022-12-12T05:35:14.372Z"
   },
   {
    "duration": 375,
    "start_time": "2022-12-12T05:35:28.764Z"
   },
   {
    "duration": 410,
    "start_time": "2022-12-12T05:36:28.048Z"
   },
   {
    "duration": 470,
    "start_time": "2022-12-12T05:37:22.194Z"
   },
   {
    "duration": 1115,
    "start_time": "2022-12-12T05:37:38.972Z"
   },
   {
    "duration": 18,
    "start_time": "2022-12-12T05:37:40.089Z"
   },
   {
    "duration": 22,
    "start_time": "2022-12-12T05:37:40.108Z"
   },
   {
    "duration": 21,
    "start_time": "2022-12-12T05:37:40.132Z"
   },
   {
    "duration": 34,
    "start_time": "2022-12-12T05:37:40.155Z"
   },
   {
    "duration": 3,
    "start_time": "2022-12-12T05:37:40.191Z"
   },
   {
    "duration": 21,
    "start_time": "2022-12-12T05:37:40.195Z"
   },
   {
    "duration": 4,
    "start_time": "2022-12-12T05:37:40.218Z"
   },
   {
    "duration": 11,
    "start_time": "2022-12-12T05:37:40.223Z"
   },
   {
    "duration": 7,
    "start_time": "2022-12-12T05:37:40.234Z"
   },
   {
    "duration": 36,
    "start_time": "2022-12-12T05:37:40.243Z"
   },
   {
    "duration": 8,
    "start_time": "2022-12-12T05:37:40.281Z"
   },
   {
    "duration": 30,
    "start_time": "2022-12-12T05:37:40.290Z"
   },
   {
    "duration": 16,
    "start_time": "2022-12-12T05:37:40.323Z"
   },
   {
    "duration": 43,
    "start_time": "2022-12-12T05:37:40.341Z"
   },
   {
    "duration": 18,
    "start_time": "2022-12-12T05:37:40.385Z"
   },
   {
    "duration": 3,
    "start_time": "2022-12-12T05:37:40.405Z"
   },
   {
    "duration": 14,
    "start_time": "2022-12-12T05:37:40.410Z"
   },
   {
    "duration": 14,
    "start_time": "2022-12-12T05:37:40.426Z"
   },
   {
    "duration": 44,
    "start_time": "2022-12-12T05:37:40.441Z"
   },
   {
    "duration": 35,
    "start_time": "2022-12-12T05:37:40.486Z"
   },
   {
    "duration": 15,
    "start_time": "2022-12-12T05:37:40.523Z"
   },
   {
    "duration": 7,
    "start_time": "2022-12-12T05:37:40.539Z"
   },
   {
    "duration": 39,
    "start_time": "2022-12-12T05:37:40.547Z"
   },
   {
    "duration": 30,
    "start_time": "2022-12-12T05:37:40.588Z"
   },
   {
    "duration": 205,
    "start_time": "2022-12-12T05:37:40.620Z"
   },
   {
    "duration": 33,
    "start_time": "2022-12-12T05:37:40.827Z"
   },
   {
    "duration": 398,
    "start_time": "2022-12-12T05:37:40.861Z"
   },
   {
    "duration": 3,
    "start_time": "2022-12-12T05:37:41.261Z"
   },
   {
    "duration": 7,
    "start_time": "2022-12-12T05:37:41.266Z"
   },
   {
    "duration": 436,
    "start_time": "2022-12-12T05:40:16.753Z"
   },
   {
    "duration": 195,
    "start_time": "2022-12-12T05:40:54.520Z"
   },
   {
    "duration": 1184,
    "start_time": "2022-12-12T05:41:08.720Z"
   },
   {
    "duration": 19,
    "start_time": "2022-12-12T05:41:09.906Z"
   },
   {
    "duration": 18,
    "start_time": "2022-12-12T05:41:09.926Z"
   },
   {
    "duration": 13,
    "start_time": "2022-12-12T05:41:09.946Z"
   },
   {
    "duration": 33,
    "start_time": "2022-12-12T05:41:09.962Z"
   },
   {
    "duration": 4,
    "start_time": "2022-12-12T05:41:09.996Z"
   },
   {
    "duration": 21,
    "start_time": "2022-12-12T05:41:10.001Z"
   },
   {
    "duration": 9,
    "start_time": "2022-12-12T05:41:10.023Z"
   },
   {
    "duration": 14,
    "start_time": "2022-12-12T05:41:10.034Z"
   },
   {
    "duration": 11,
    "start_time": "2022-12-12T05:41:10.049Z"
   },
   {
    "duration": 38,
    "start_time": "2022-12-12T05:41:10.061Z"
   },
   {
    "duration": 8,
    "start_time": "2022-12-12T05:41:10.101Z"
   },
   {
    "duration": 10,
    "start_time": "2022-12-12T05:41:10.111Z"
   },
   {
    "duration": 11,
    "start_time": "2022-12-12T05:41:10.123Z"
   },
   {
    "duration": 20,
    "start_time": "2022-12-12T05:41:10.135Z"
   },
   {
    "duration": 14,
    "start_time": "2022-12-12T05:41:10.156Z"
   },
   {
    "duration": 3,
    "start_time": "2022-12-12T05:41:10.172Z"
   },
   {
    "duration": 11,
    "start_time": "2022-12-12T05:41:10.176Z"
   },
   {
    "duration": 10,
    "start_time": "2022-12-12T05:41:10.189Z"
   },
   {
    "duration": 22,
    "start_time": "2022-12-12T05:41:10.200Z"
   },
   {
    "duration": 23,
    "start_time": "2022-12-12T05:41:10.224Z"
   },
   {
    "duration": 23,
    "start_time": "2022-12-12T05:41:10.248Z"
   },
   {
    "duration": 6,
    "start_time": "2022-12-12T05:41:10.273Z"
   },
   {
    "duration": 21,
    "start_time": "2022-12-12T05:41:10.280Z"
   },
   {
    "duration": 34,
    "start_time": "2022-12-12T05:41:10.302Z"
   },
   {
    "duration": 217,
    "start_time": "2022-12-12T05:41:10.338Z"
   },
   {
    "duration": 31,
    "start_time": "2022-12-12T05:41:10.556Z"
   },
   {
    "duration": 470,
    "start_time": "2022-12-12T05:41:10.589Z"
   },
   {
    "duration": 2,
    "start_time": "2022-12-12T05:41:11.061Z"
   },
   {
    "duration": 19,
    "start_time": "2022-12-12T05:41:11.065Z"
   },
   {
    "duration": 125,
    "start_time": "2022-12-12T05:41:24.389Z"
   },
   {
    "duration": 197,
    "start_time": "2022-12-12T05:41:27.698Z"
   },
   {
    "duration": 122,
    "start_time": "2022-12-12T05:42:05.700Z"
   },
   {
    "duration": 452,
    "start_time": "2022-12-12T05:42:15.005Z"
   },
   {
    "duration": 134,
    "start_time": "2022-12-12T05:45:30.492Z"
   },
   {
    "duration": 385,
    "start_time": "2022-12-12T05:45:40.160Z"
   },
   {
    "duration": 1199,
    "start_time": "2022-12-12T05:46:02.787Z"
   },
   {
    "duration": 18,
    "start_time": "2022-12-12T05:46:03.988Z"
   },
   {
    "duration": 18,
    "start_time": "2022-12-12T05:46:04.007Z"
   },
   {
    "duration": 10,
    "start_time": "2022-12-12T05:46:04.028Z"
   },
   {
    "duration": 40,
    "start_time": "2022-12-12T05:46:04.040Z"
   },
   {
    "duration": 3,
    "start_time": "2022-12-12T05:46:04.082Z"
   },
   {
    "duration": 14,
    "start_time": "2022-12-12T05:46:04.087Z"
   },
   {
    "duration": 4,
    "start_time": "2022-12-12T05:46:04.102Z"
   },
   {
    "duration": 19,
    "start_time": "2022-12-12T05:46:04.108Z"
   },
   {
    "duration": 4,
    "start_time": "2022-12-12T05:46:04.129Z"
   },
   {
    "duration": 34,
    "start_time": "2022-12-12T05:46:04.135Z"
   },
   {
    "duration": 9,
    "start_time": "2022-12-12T05:46:04.170Z"
   },
   {
    "duration": 16,
    "start_time": "2022-12-12T05:46:04.181Z"
   },
   {
    "duration": 15,
    "start_time": "2022-12-12T05:46:04.198Z"
   },
   {
    "duration": 19,
    "start_time": "2022-12-12T05:46:04.220Z"
   },
   {
    "duration": 16,
    "start_time": "2022-12-12T05:46:04.240Z"
   },
   {
    "duration": 3,
    "start_time": "2022-12-12T05:46:04.257Z"
   },
   {
    "duration": 14,
    "start_time": "2022-12-12T05:46:04.261Z"
   },
   {
    "duration": 5,
    "start_time": "2022-12-12T05:46:04.276Z"
   },
   {
    "duration": 3,
    "start_time": "2022-12-12T05:46:04.283Z"
   },
   {
    "duration": 34,
    "start_time": "2022-12-12T05:46:04.287Z"
   },
   {
    "duration": 13,
    "start_time": "2022-12-12T05:46:04.323Z"
   },
   {
    "duration": 6,
    "start_time": "2022-12-12T05:46:04.337Z"
   },
   {
    "duration": 23,
    "start_time": "2022-12-12T05:46:04.345Z"
   },
   {
    "duration": 26,
    "start_time": "2022-12-12T05:46:04.369Z"
   },
   {
    "duration": 159,
    "start_time": "2022-12-12T05:46:04.396Z"
   },
   {
    "duration": 29,
    "start_time": "2022-12-12T05:46:04.556Z"
   },
   {
    "duration": 477,
    "start_time": "2022-12-12T05:46:04.588Z"
   },
   {
    "duration": 2,
    "start_time": "2022-12-12T05:46:05.066Z"
   },
   {
    "duration": 10,
    "start_time": "2022-12-12T05:46:05.070Z"
   },
   {
    "duration": 53,
    "start_time": "2022-12-18T19:07:53.896Z"
   },
   {
    "duration": 1453,
    "start_time": "2022-12-18T19:08:00.072Z"
   },
   {
    "duration": 22,
    "start_time": "2022-12-18T19:08:01.527Z"
   },
   {
    "duration": 26,
    "start_time": "2022-12-18T19:08:01.551Z"
   },
   {
    "duration": 16,
    "start_time": "2022-12-18T19:08:01.579Z"
   },
   {
    "duration": 47,
    "start_time": "2022-12-18T19:08:01.597Z"
   },
   {
    "duration": 3,
    "start_time": "2022-12-18T19:08:01.647Z"
   },
   {
    "duration": 46,
    "start_time": "2022-12-18T19:08:01.652Z"
   },
   {
    "duration": 41,
    "start_time": "2022-12-18T19:08:01.700Z"
   },
   {
    "duration": 25,
    "start_time": "2022-12-18T19:08:01.743Z"
   },
   {
    "duration": 12,
    "start_time": "2022-12-18T19:08:01.770Z"
   },
   {
    "duration": 54,
    "start_time": "2022-12-18T19:08:01.784Z"
   },
   {
    "duration": 9,
    "start_time": "2022-12-18T19:08:01.840Z"
   },
   {
    "duration": 7,
    "start_time": "2022-12-18T19:08:01.850Z"
   },
   {
    "duration": 23,
    "start_time": "2022-12-18T19:08:01.859Z"
   },
   {
    "duration": 34,
    "start_time": "2022-12-18T19:08:01.884Z"
   },
   {
    "duration": 24,
    "start_time": "2022-12-18T19:08:01.919Z"
   },
   {
    "duration": 5,
    "start_time": "2022-12-18T19:08:01.945Z"
   },
   {
    "duration": 21,
    "start_time": "2022-12-18T19:08:01.952Z"
   },
   {
    "duration": 23,
    "start_time": "2022-12-18T19:08:01.974Z"
   },
   {
    "duration": 17,
    "start_time": "2022-12-18T19:08:01.999Z"
   },
   {
    "duration": 36,
    "start_time": "2022-12-18T19:08:02.017Z"
   },
   {
    "duration": 20,
    "start_time": "2022-12-18T19:08:02.055Z"
   },
   {
    "duration": 16,
    "start_time": "2022-12-18T19:08:02.077Z"
   },
   {
    "duration": 19,
    "start_time": "2022-12-18T19:08:02.094Z"
   },
   {
    "duration": 43,
    "start_time": "2022-12-18T19:08:02.114Z"
   },
   {
    "duration": 267,
    "start_time": "2022-12-18T19:08:02.159Z"
   },
   {
    "duration": 0,
    "start_time": "2022-12-18T19:08:02.429Z"
   },
   {
    "duration": 0,
    "start_time": "2022-12-18T19:08:02.430Z"
   },
   {
    "duration": 0,
    "start_time": "2022-12-18T19:08:02.432Z"
   },
   {
    "duration": 0,
    "start_time": "2022-12-18T19:08:02.434Z"
   },
   {
    "duration": 148,
    "start_time": "2022-12-18T19:08:32.863Z"
   },
   {
    "duration": 149,
    "start_time": "2022-12-18T19:09:15.782Z"
   },
   {
    "duration": 142,
    "start_time": "2022-12-18T19:09:25.592Z"
   },
   {
    "duration": 1185,
    "start_time": "2022-12-18T19:09:41.186Z"
   },
   {
    "duration": 27,
    "start_time": "2022-12-18T19:09:42.373Z"
   },
   {
    "duration": 59,
    "start_time": "2022-12-18T19:09:42.403Z"
   },
   {
    "duration": 44,
    "start_time": "2022-12-18T19:09:42.464Z"
   },
   {
    "duration": 66,
    "start_time": "2022-12-18T19:09:42.510Z"
   },
   {
    "duration": 4,
    "start_time": "2022-12-18T19:09:42.579Z"
   },
   {
    "duration": 30,
    "start_time": "2022-12-18T19:09:42.586Z"
   },
   {
    "duration": 19,
    "start_time": "2022-12-18T19:09:42.618Z"
   },
   {
    "duration": 18,
    "start_time": "2022-12-18T19:09:42.639Z"
   },
   {
    "duration": 20,
    "start_time": "2022-12-18T19:09:42.660Z"
   },
   {
    "duration": 46,
    "start_time": "2022-12-18T19:09:42.682Z"
   },
   {
    "duration": 10,
    "start_time": "2022-12-18T19:09:42.730Z"
   },
   {
    "duration": 20,
    "start_time": "2022-12-18T19:09:42.741Z"
   },
   {
    "duration": 24,
    "start_time": "2022-12-18T19:09:42.763Z"
   },
   {
    "duration": 24,
    "start_time": "2022-12-18T19:09:42.789Z"
   },
   {
    "duration": 26,
    "start_time": "2022-12-18T19:09:42.815Z"
   },
   {
    "duration": 4,
    "start_time": "2022-12-18T19:09:42.843Z"
   },
   {
    "duration": 25,
    "start_time": "2022-12-18T19:09:42.848Z"
   },
   {
    "duration": 15,
    "start_time": "2022-12-18T19:09:42.875Z"
   },
   {
    "duration": 9,
    "start_time": "2022-12-18T19:09:42.892Z"
   },
   {
    "duration": 23,
    "start_time": "2022-12-18T19:09:42.902Z"
   },
   {
    "duration": 20,
    "start_time": "2022-12-18T19:09:42.927Z"
   },
   {
    "duration": 10,
    "start_time": "2022-12-18T19:09:42.949Z"
   },
   {
    "duration": 58,
    "start_time": "2022-12-18T19:09:42.961Z"
   },
   {
    "duration": 42,
    "start_time": "2022-12-18T19:09:43.021Z"
   },
   {
    "duration": 197,
    "start_time": "2022-12-18T19:09:43.064Z"
   },
   {
    "duration": 32,
    "start_time": "2022-12-18T19:09:43.263Z"
   },
   {
    "duration": 497,
    "start_time": "2022-12-18T19:09:43.298Z"
   },
   {
    "duration": 3,
    "start_time": "2022-12-18T19:09:43.797Z"
   },
   {
    "duration": 33,
    "start_time": "2022-12-18T19:09:43.802Z"
   },
   {
    "duration": 580,
    "start_time": "2022-12-18T19:10:18.581Z"
   },
   {
    "duration": 1142,
    "start_time": "2022-12-18T19:16:35.608Z"
   },
   {
    "duration": 19,
    "start_time": "2022-12-18T19:16:36.752Z"
   },
   {
    "duration": 14,
    "start_time": "2022-12-18T19:16:36.772Z"
   },
   {
    "duration": 9,
    "start_time": "2022-12-18T19:16:36.788Z"
   },
   {
    "duration": 32,
    "start_time": "2022-12-18T19:16:36.798Z"
   },
   {
    "duration": 3,
    "start_time": "2022-12-18T19:16:36.853Z"
   },
   {
    "duration": 13,
    "start_time": "2022-12-18T19:16:36.858Z"
   },
   {
    "duration": 4,
    "start_time": "2022-12-18T19:16:36.873Z"
   },
   {
    "duration": 7,
    "start_time": "2022-12-18T19:16:36.878Z"
   },
   {
    "duration": 4,
    "start_time": "2022-12-18T19:16:36.888Z"
   },
   {
    "duration": 33,
    "start_time": "2022-12-18T19:16:36.893Z"
   },
   {
    "duration": 33,
    "start_time": "2022-12-18T19:16:36.928Z"
   },
   {
    "duration": 4,
    "start_time": "2022-12-18T19:16:36.963Z"
   },
   {
    "duration": 13,
    "start_time": "2022-12-18T19:16:36.968Z"
   },
   {
    "duration": 20,
    "start_time": "2022-12-18T19:16:36.982Z"
   },
   {
    "duration": 17,
    "start_time": "2022-12-18T19:16:37.004Z"
   },
   {
    "duration": 4,
    "start_time": "2022-12-18T19:16:37.051Z"
   },
   {
    "duration": 17,
    "start_time": "2022-12-18T19:16:37.057Z"
   },
   {
    "duration": 6,
    "start_time": "2022-12-18T19:16:37.075Z"
   },
   {
    "duration": 4,
    "start_time": "2022-12-18T19:16:37.082Z"
   },
   {
    "duration": 14,
    "start_time": "2022-12-18T19:16:37.087Z"
   },
   {
    "duration": 14,
    "start_time": "2022-12-18T19:16:37.103Z"
   },
   {
    "duration": 6,
    "start_time": "2022-12-18T19:16:37.119Z"
   },
   {
    "duration": 42,
    "start_time": "2022-12-18T19:16:37.127Z"
   },
   {
    "duration": 29,
    "start_time": "2022-12-18T19:16:37.170Z"
   },
   {
    "duration": 167,
    "start_time": "2022-12-18T19:16:37.201Z"
   },
   {
    "duration": 31,
    "start_time": "2022-12-18T19:16:37.370Z"
   },
   {
    "duration": 469,
    "start_time": "2022-12-18T19:16:37.404Z"
   },
   {
    "duration": 3,
    "start_time": "2022-12-18T19:16:37.875Z"
   },
   {
    "duration": 6,
    "start_time": "2022-12-18T19:16:37.879Z"
   },
   {
    "duration": 28,
    "start_time": "2022-12-18T19:24:10.907Z"
   },
   {
    "duration": 30,
    "start_time": "2022-12-18T19:32:03.257Z"
   },
   {
    "duration": 1376,
    "start_time": "2022-12-18T21:41:33.936Z"
   },
   {
    "duration": 30,
    "start_time": "2022-12-18T21:41:35.314Z"
   },
   {
    "duration": 23,
    "start_time": "2022-12-18T21:41:35.352Z"
   },
   {
    "duration": 15,
    "start_time": "2022-12-18T21:41:35.377Z"
   },
   {
    "duration": 81,
    "start_time": "2022-12-18T21:41:35.394Z"
   },
   {
    "duration": 5,
    "start_time": "2022-12-18T21:41:35.476Z"
   },
   {
    "duration": 14,
    "start_time": "2022-12-18T21:41:35.483Z"
   },
   {
    "duration": 6,
    "start_time": "2022-12-18T21:41:35.499Z"
   },
   {
    "duration": 33,
    "start_time": "2022-12-18T21:41:35.507Z"
   },
   {
    "duration": 20,
    "start_time": "2022-12-18T21:41:35.544Z"
   },
   {
    "duration": 61,
    "start_time": "2022-12-18T21:41:35.567Z"
   },
   {
    "duration": 35,
    "start_time": "2022-12-18T21:41:35.632Z"
   },
   {
    "duration": 23,
    "start_time": "2022-12-18T21:41:35.669Z"
   },
   {
    "duration": 31,
    "start_time": "2022-12-18T21:41:35.694Z"
   },
   {
    "duration": 55,
    "start_time": "2022-12-18T21:41:35.727Z"
   },
   {
    "duration": 24,
    "start_time": "2022-12-18T21:41:35.784Z"
   },
   {
    "duration": 11,
    "start_time": "2022-12-18T21:41:35.810Z"
   },
   {
    "duration": 45,
    "start_time": "2022-12-18T21:41:35.823Z"
   },
   {
    "duration": 38,
    "start_time": "2022-12-18T21:41:35.870Z"
   },
   {
    "duration": 7,
    "start_time": "2022-12-18T21:41:35.911Z"
   },
   {
    "duration": 27,
    "start_time": "2022-12-18T21:41:35.920Z"
   },
   {
    "duration": 37,
    "start_time": "2022-12-18T21:41:35.950Z"
   },
   {
    "duration": 12,
    "start_time": "2022-12-18T21:41:35.989Z"
   },
   {
    "duration": 47,
    "start_time": "2022-12-18T21:41:36.003Z"
   },
   {
    "duration": 28,
    "start_time": "2022-12-18T21:41:36.053Z"
   },
   {
    "duration": 1211,
    "start_time": "2022-12-18T21:41:36.082Z"
   },
   {
    "duration": 0,
    "start_time": "2022-12-18T21:41:37.296Z"
   },
   {
    "duration": 0,
    "start_time": "2022-12-18T21:41:37.297Z"
   },
   {
    "duration": 0,
    "start_time": "2022-12-18T21:41:37.298Z"
   },
   {
    "duration": 0,
    "start_time": "2022-12-18T21:41:37.299Z"
   },
   {
    "duration": 1247,
    "start_time": "2022-12-18T21:42:10.819Z"
   },
   {
    "duration": 22,
    "start_time": "2022-12-18T21:42:12.069Z"
   },
   {
    "duration": 25,
    "start_time": "2022-12-18T21:42:12.093Z"
   },
   {
    "duration": 44,
    "start_time": "2022-12-18T21:42:12.121Z"
   },
   {
    "duration": 55,
    "start_time": "2022-12-18T21:42:12.169Z"
   },
   {
    "duration": 25,
    "start_time": "2022-12-18T21:42:12.227Z"
   },
   {
    "duration": 12,
    "start_time": "2022-12-18T21:42:12.255Z"
   },
   {
    "duration": 7,
    "start_time": "2022-12-18T21:42:12.269Z"
   },
   {
    "duration": 17,
    "start_time": "2022-12-18T21:42:12.278Z"
   },
   {
    "duration": 7,
    "start_time": "2022-12-18T21:42:12.298Z"
   },
   {
    "duration": 96,
    "start_time": "2022-12-18T21:42:12.306Z"
   },
   {
    "duration": 21,
    "start_time": "2022-12-18T21:42:12.404Z"
   },
   {
    "duration": 27,
    "start_time": "2022-12-18T21:42:12.428Z"
   },
   {
    "duration": 40,
    "start_time": "2022-12-18T21:42:12.460Z"
   },
   {
    "duration": 46,
    "start_time": "2022-12-18T21:42:12.503Z"
   },
   {
    "duration": 29,
    "start_time": "2022-12-18T21:42:12.551Z"
   },
   {
    "duration": 6,
    "start_time": "2022-12-18T21:42:12.582Z"
   },
   {
    "duration": 38,
    "start_time": "2022-12-18T21:42:12.590Z"
   },
   {
    "duration": 30,
    "start_time": "2022-12-18T21:42:12.631Z"
   },
   {
    "duration": 12,
    "start_time": "2022-12-18T21:42:12.663Z"
   },
   {
    "duration": 19,
    "start_time": "2022-12-18T21:42:12.678Z"
   },
   {
    "duration": 27,
    "start_time": "2022-12-18T21:42:12.699Z"
   },
   {
    "duration": 24,
    "start_time": "2022-12-18T21:42:12.731Z"
   },
   {
    "duration": 25,
    "start_time": "2022-12-18T21:42:12.757Z"
   },
   {
    "duration": 45,
    "start_time": "2022-12-18T21:42:12.785Z"
   },
   {
    "duration": 1262,
    "start_time": "2022-12-18T21:42:12.832Z"
   },
   {
    "duration": 0,
    "start_time": "2022-12-18T21:42:14.096Z"
   },
   {
    "duration": 0,
    "start_time": "2022-12-18T21:42:14.097Z"
   },
   {
    "duration": 0,
    "start_time": "2022-12-18T21:42:14.098Z"
   },
   {
    "duration": 0,
    "start_time": "2022-12-18T21:42:14.101Z"
   },
   {
    "duration": 1169,
    "start_time": "2022-12-18T21:43:09.887Z"
   },
   {
    "duration": 21,
    "start_time": "2022-12-18T21:43:11.058Z"
   },
   {
    "duration": 16,
    "start_time": "2022-12-18T21:43:11.080Z"
   },
   {
    "duration": 9,
    "start_time": "2022-12-18T21:43:11.099Z"
   },
   {
    "duration": 65,
    "start_time": "2022-12-18T21:43:11.110Z"
   },
   {
    "duration": 4,
    "start_time": "2022-12-18T21:43:11.178Z"
   },
   {
    "duration": 9,
    "start_time": "2022-12-18T21:43:11.184Z"
   },
   {
    "duration": 11,
    "start_time": "2022-12-18T21:43:11.194Z"
   },
   {
    "duration": 7,
    "start_time": "2022-12-18T21:43:11.208Z"
   },
   {
    "duration": 39,
    "start_time": "2022-12-18T21:43:11.217Z"
   },
   {
    "duration": 49,
    "start_time": "2022-12-18T21:43:11.258Z"
   },
   {
    "duration": 14,
    "start_time": "2022-12-18T21:43:11.310Z"
   },
   {
    "duration": 5,
    "start_time": "2022-12-18T21:43:11.351Z"
   },
   {
    "duration": 18,
    "start_time": "2022-12-18T21:43:11.359Z"
   },
   {
    "duration": 22,
    "start_time": "2022-12-18T21:43:11.379Z"
   },
   {
    "duration": 56,
    "start_time": "2022-12-18T21:43:11.402Z"
   },
   {
    "duration": 3,
    "start_time": "2022-12-18T21:43:11.460Z"
   },
   {
    "duration": 12,
    "start_time": "2022-12-18T21:43:11.465Z"
   },
   {
    "duration": 6,
    "start_time": "2022-12-18T21:43:11.479Z"
   },
   {
    "duration": 7,
    "start_time": "2022-12-18T21:43:11.487Z"
   },
   {
    "duration": 17,
    "start_time": "2022-12-18T21:43:11.495Z"
   },
   {
    "duration": 49,
    "start_time": "2022-12-18T21:43:11.514Z"
   },
   {
    "duration": 10,
    "start_time": "2022-12-18T21:43:11.565Z"
   },
   {
    "duration": 23,
    "start_time": "2022-12-18T21:43:11.577Z"
   },
   {
    "duration": 75,
    "start_time": "2022-12-18T21:43:11.602Z"
   },
   {
    "duration": 204,
    "start_time": "2022-12-18T21:43:11.679Z"
   },
   {
    "duration": 31,
    "start_time": "2022-12-18T21:43:11.885Z"
   },
   {
    "duration": 345,
    "start_time": "2022-12-18T21:43:11.920Z"
   },
   {
    "duration": 33,
    "start_time": "2022-12-18T21:43:12.267Z"
   },
   {
    "duration": 60,
    "start_time": "2022-12-18T21:43:12.303Z"
   },
   {
    "duration": 134,
    "start_time": "2022-12-18T21:45:32.124Z"
   },
   {
    "duration": 456,
    "start_time": "2022-12-18T21:46:05.139Z"
   },
   {
    "duration": 53,
    "start_time": "2022-12-19T16:14:25.000Z"
   },
   {
    "duration": 1546,
    "start_time": "2022-12-19T16:14:38.431Z"
   },
   {
    "duration": 18,
    "start_time": "2022-12-19T16:14:39.979Z"
   },
   {
    "duration": 15,
    "start_time": "2022-12-19T16:14:39.998Z"
   },
   {
    "duration": 17,
    "start_time": "2022-12-19T16:14:40.015Z"
   },
   {
    "duration": 43,
    "start_time": "2022-12-19T16:14:40.033Z"
   },
   {
    "duration": 4,
    "start_time": "2022-12-19T16:14:40.077Z"
   },
   {
    "duration": 24,
    "start_time": "2022-12-19T16:14:40.082Z"
   },
   {
    "duration": 18,
    "start_time": "2022-12-19T16:14:40.108Z"
   },
   {
    "duration": 24,
    "start_time": "2022-12-19T16:14:40.127Z"
   },
   {
    "duration": 12,
    "start_time": "2022-12-19T16:14:40.153Z"
   },
   {
    "duration": 45,
    "start_time": "2022-12-19T16:14:40.167Z"
   },
   {
    "duration": 8,
    "start_time": "2022-12-19T16:14:40.214Z"
   },
   {
    "duration": 11,
    "start_time": "2022-12-19T16:14:40.224Z"
   },
   {
    "duration": 21,
    "start_time": "2022-12-19T16:14:40.236Z"
   },
   {
    "duration": 24,
    "start_time": "2022-12-19T16:14:40.259Z"
   },
   {
    "duration": 15,
    "start_time": "2022-12-19T16:14:40.284Z"
   },
   {
    "duration": 3,
    "start_time": "2022-12-19T16:14:40.300Z"
   },
   {
    "duration": 23,
    "start_time": "2022-12-19T16:14:40.304Z"
   },
   {
    "duration": 18,
    "start_time": "2022-12-19T16:14:40.329Z"
   },
   {
    "duration": 17,
    "start_time": "2022-12-19T16:14:40.348Z"
   },
   {
    "duration": 42,
    "start_time": "2022-12-19T16:14:40.366Z"
   },
   {
    "duration": 13,
    "start_time": "2022-12-19T16:14:40.410Z"
   },
   {
    "duration": 7,
    "start_time": "2022-12-19T16:14:40.424Z"
   },
   {
    "duration": 28,
    "start_time": "2022-12-19T16:14:40.432Z"
   },
   {
    "duration": 35,
    "start_time": "2022-12-19T16:14:40.461Z"
   },
   {
    "duration": 165,
    "start_time": "2022-12-19T16:14:40.498Z"
   },
   {
    "duration": 36,
    "start_time": "2022-12-19T16:14:40.665Z"
   },
   {
    "duration": 418,
    "start_time": "2022-12-19T16:14:40.704Z"
   },
   {
    "duration": 26,
    "start_time": "2022-12-19T16:14:41.123Z"
   },
   {
    "duration": 106,
    "start_time": "2022-12-19T16:14:41.151Z"
   },
   {
    "duration": 38,
    "start_time": "2022-12-19T16:14:41.258Z"
   },
   {
    "duration": 40,
    "start_time": "2022-12-19T16:21:25.823Z"
   },
   {
    "duration": 90,
    "start_time": "2022-12-19T16:21:30.516Z"
   },
   {
    "duration": 51,
    "start_time": "2022-12-20T12:26:13.124Z"
   },
   {
    "duration": 1611,
    "start_time": "2022-12-20T12:26:20.793Z"
   },
   {
    "duration": 21,
    "start_time": "2022-12-20T12:26:22.407Z"
   },
   {
    "duration": 19,
    "start_time": "2022-12-20T12:26:22.429Z"
   },
   {
    "duration": 9,
    "start_time": "2022-12-20T12:26:22.450Z"
   },
   {
    "duration": 44,
    "start_time": "2022-12-20T12:26:22.461Z"
   },
   {
    "duration": 4,
    "start_time": "2022-12-20T12:26:22.507Z"
   },
   {
    "duration": 12,
    "start_time": "2022-12-20T12:26:22.513Z"
   },
   {
    "duration": 5,
    "start_time": "2022-12-20T12:26:22.527Z"
   },
   {
    "duration": 9,
    "start_time": "2022-12-20T12:26:22.533Z"
   },
   {
    "duration": 4,
    "start_time": "2022-12-20T12:26:22.545Z"
   },
   {
    "duration": 59,
    "start_time": "2022-12-20T12:26:22.551Z"
   },
   {
    "duration": 10,
    "start_time": "2022-12-20T12:26:22.612Z"
   },
   {
    "duration": 5,
    "start_time": "2022-12-20T12:26:22.624Z"
   },
   {
    "duration": 18,
    "start_time": "2022-12-20T12:26:22.631Z"
   },
   {
    "duration": 36,
    "start_time": "2022-12-20T12:26:22.651Z"
   },
   {
    "duration": 18,
    "start_time": "2022-12-20T12:26:22.689Z"
   },
   {
    "duration": 4,
    "start_time": "2022-12-20T12:26:22.708Z"
   },
   {
    "duration": 12,
    "start_time": "2022-12-20T12:26:22.714Z"
   },
   {
    "duration": 10,
    "start_time": "2022-12-20T12:26:22.728Z"
   },
   {
    "duration": 3,
    "start_time": "2022-12-20T12:26:22.740Z"
   },
   {
    "duration": 39,
    "start_time": "2022-12-20T12:26:22.744Z"
   },
   {
    "duration": 15,
    "start_time": "2022-12-20T12:26:22.784Z"
   },
   {
    "duration": 12,
    "start_time": "2022-12-20T12:26:22.801Z"
   },
   {
    "duration": 17,
    "start_time": "2022-12-20T12:26:22.815Z"
   },
   {
    "duration": 51,
    "start_time": "2022-12-20T12:26:22.833Z"
   },
   {
    "duration": 175,
    "start_time": "2022-12-20T12:26:22.886Z"
   },
   {
    "duration": 39,
    "start_time": "2022-12-20T12:26:23.063Z"
   },
   {
    "duration": 417,
    "start_time": "2022-12-20T12:26:23.105Z"
   },
   {
    "duration": 29,
    "start_time": "2022-12-20T12:26:23.524Z"
   },
   {
    "duration": 124,
    "start_time": "2022-12-20T12:26:23.555Z"
   },
   {
    "duration": 31,
    "start_time": "2022-12-20T12:26:23.681Z"
   },
   {
    "duration": 30,
    "start_time": "2022-12-20T12:28:44.598Z"
   },
   {
    "duration": 53,
    "start_time": "2022-12-20T12:29:01.740Z"
   },
   {
    "duration": 34,
    "start_time": "2022-12-20T12:30:53.050Z"
   },
   {
    "duration": 36,
    "start_time": "2022-12-20T12:31:01.003Z"
   },
   {
    "duration": 31,
    "start_time": "2022-12-20T12:31:17.653Z"
   },
   {
    "duration": 34,
    "start_time": "2022-12-20T12:31:21.912Z"
   },
   {
    "duration": 19,
    "start_time": "2022-12-20T12:39:18.283Z"
   },
   {
    "duration": 144,
    "start_time": "2022-12-20T12:40:55.889Z"
   },
   {
    "duration": 111,
    "start_time": "2022-12-20T12:42:15.006Z"
   },
   {
    "duration": 113,
    "start_time": "2022-12-20T12:43:19.483Z"
   },
   {
    "duration": 105,
    "start_time": "2022-12-20T12:43:50.296Z"
   },
   {
    "duration": 460,
    "start_time": "2022-12-20T12:45:39.657Z"
   },
   {
    "duration": 1266,
    "start_time": "2022-12-20T12:45:52.765Z"
   },
   {
    "duration": 21,
    "start_time": "2022-12-20T12:45:54.033Z"
   },
   {
    "duration": 14,
    "start_time": "2022-12-20T12:45:54.056Z"
   },
   {
    "duration": 10,
    "start_time": "2022-12-20T12:45:54.078Z"
   },
   {
    "duration": 35,
    "start_time": "2022-12-20T12:45:54.089Z"
   },
   {
    "duration": 3,
    "start_time": "2022-12-20T12:45:54.126Z"
   },
   {
    "duration": 11,
    "start_time": "2022-12-20T12:45:54.131Z"
   },
   {
    "duration": 4,
    "start_time": "2022-12-20T12:45:54.144Z"
   },
   {
    "duration": 30,
    "start_time": "2022-12-20T12:45:54.149Z"
   },
   {
    "duration": 6,
    "start_time": "2022-12-20T12:45:54.181Z"
   },
   {
    "duration": 33,
    "start_time": "2022-12-20T12:45:54.189Z"
   },
   {
    "duration": 9,
    "start_time": "2022-12-20T12:45:54.224Z"
   },
   {
    "duration": 5,
    "start_time": "2022-12-20T12:45:54.235Z"
   },
   {
    "duration": 37,
    "start_time": "2022-12-20T12:45:54.241Z"
   },
   {
    "duration": 20,
    "start_time": "2022-12-20T12:45:54.279Z"
   },
   {
    "duration": 17,
    "start_time": "2022-12-20T12:45:54.301Z"
   },
   {
    "duration": 4,
    "start_time": "2022-12-20T12:45:54.320Z"
   },
   {
    "duration": 19,
    "start_time": "2022-12-20T12:45:54.325Z"
   },
   {
    "duration": 35,
    "start_time": "2022-12-20T12:45:54.346Z"
   },
   {
    "duration": 25,
    "start_time": "2022-12-20T12:45:54.383Z"
   },
   {
    "duration": 38,
    "start_time": "2022-12-20T12:45:54.410Z"
   },
   {
    "duration": 28,
    "start_time": "2022-12-20T12:45:54.450Z"
   },
   {
    "duration": 20,
    "start_time": "2022-12-20T12:45:54.480Z"
   },
   {
    "duration": 31,
    "start_time": "2022-12-20T12:45:54.502Z"
   },
   {
    "duration": 49,
    "start_time": "2022-12-20T12:45:54.535Z"
   },
   {
    "duration": 196,
    "start_time": "2022-12-20T12:45:54.586Z"
   },
   {
    "duration": 32,
    "start_time": "2022-12-20T12:45:54.784Z"
   },
   {
    "duration": 569,
    "start_time": "2022-12-20T12:45:54.819Z"
   },
   {
    "duration": 31,
    "start_time": "2022-12-20T12:45:55.390Z"
   },
   {
    "duration": 166,
    "start_time": "2022-12-20T12:45:55.423Z"
   },
   {
    "duration": 12,
    "start_time": "2022-12-20T12:45:55.591Z"
   },
   {
    "duration": 78,
    "start_time": "2022-12-20T12:45:55.605Z"
   },
   {
    "duration": 509,
    "start_time": "2022-12-20T12:45:55.685Z"
   },
   {
    "duration": 10,
    "start_time": "2022-12-20T12:52:42.506Z"
   },
   {
    "duration": 25,
    "start_time": "2022-12-20T12:52:49.858Z"
   },
   {
    "duration": 9,
    "start_time": "2022-12-20T12:53:29.039Z"
   },
   {
    "duration": 22,
    "start_time": "2022-12-20T12:53:30.885Z"
   },
   {
    "duration": 35,
    "start_time": "2022-12-20T12:57:17.198Z"
   },
   {
    "duration": 9,
    "start_time": "2022-12-20T12:58:38.958Z"
   },
   {
    "duration": 14,
    "start_time": "2022-12-20T12:58:42.125Z"
   },
   {
    "duration": 33,
    "start_time": "2022-12-20T12:58:46.527Z"
   },
   {
    "duration": 1286,
    "start_time": "2022-12-20T13:54:54.751Z"
   },
   {
    "duration": 21,
    "start_time": "2022-12-20T13:54:56.039Z"
   },
   {
    "duration": 21,
    "start_time": "2022-12-20T13:54:56.061Z"
   },
   {
    "duration": 20,
    "start_time": "2022-12-20T13:54:56.084Z"
   },
   {
    "duration": 44,
    "start_time": "2022-12-20T13:54:56.105Z"
   },
   {
    "duration": 4,
    "start_time": "2022-12-20T13:54:56.151Z"
   },
   {
    "duration": 30,
    "start_time": "2022-12-20T13:54:56.157Z"
   },
   {
    "duration": 15,
    "start_time": "2022-12-20T13:54:56.189Z"
   },
   {
    "duration": 23,
    "start_time": "2022-12-20T13:54:56.206Z"
   },
   {
    "duration": 16,
    "start_time": "2022-12-20T13:54:56.232Z"
   },
   {
    "duration": 47,
    "start_time": "2022-12-20T13:54:56.250Z"
   },
   {
    "duration": 10,
    "start_time": "2022-12-20T13:54:56.299Z"
   },
   {
    "duration": 23,
    "start_time": "2022-12-20T13:54:56.311Z"
   },
   {
    "duration": 25,
    "start_time": "2022-12-20T13:54:56.336Z"
   },
   {
    "duration": 30,
    "start_time": "2022-12-20T13:54:56.362Z"
   },
   {
    "duration": 19,
    "start_time": "2022-12-20T13:54:56.394Z"
   },
   {
    "duration": 5,
    "start_time": "2022-12-20T13:54:56.415Z"
   },
   {
    "duration": 37,
    "start_time": "2022-12-20T13:54:56.421Z"
   },
   {
    "duration": 23,
    "start_time": "2022-12-20T13:54:56.460Z"
   },
   {
    "duration": 18,
    "start_time": "2022-12-20T13:54:56.484Z"
   },
   {
    "duration": 33,
    "start_time": "2022-12-20T13:54:56.504Z"
   },
   {
    "duration": 21,
    "start_time": "2022-12-20T13:54:56.539Z"
   },
   {
    "duration": 17,
    "start_time": "2022-12-20T13:54:56.562Z"
   },
   {
    "duration": 24,
    "start_time": "2022-12-20T13:54:56.581Z"
   },
   {
    "duration": 49,
    "start_time": "2022-12-20T13:54:56.607Z"
   },
   {
    "duration": 196,
    "start_time": "2022-12-20T13:54:56.658Z"
   },
   {
    "duration": 41,
    "start_time": "2022-12-20T13:54:56.856Z"
   },
   {
    "duration": 500,
    "start_time": "2022-12-20T13:54:56.901Z"
   },
   {
    "duration": 34,
    "start_time": "2022-12-20T13:54:57.403Z"
   },
   {
    "duration": 176,
    "start_time": "2022-12-20T13:54:57.439Z"
   },
   {
    "duration": 14,
    "start_time": "2022-12-20T13:54:57.617Z"
   },
   {
    "duration": 22,
    "start_time": "2022-12-20T13:54:57.633Z"
   },
   {
    "duration": 25,
    "start_time": "2022-12-20T13:54:57.656Z"
   },
   {
    "duration": 56,
    "start_time": "2022-12-20T13:54:57.682Z"
   },
   {
    "duration": 32,
    "start_time": "2022-12-20T13:54:57.741Z"
   },
   {
    "duration": 531,
    "start_time": "2022-12-20T13:54:57.775Z"
   },
   {
    "duration": 556,
    "start_time": "2022-12-20T13:59:39.955Z"
   },
   {
    "duration": 551,
    "start_time": "2022-12-20T14:00:01.932Z"
   },
   {
    "duration": 575,
    "start_time": "2022-12-20T14:00:14.057Z"
   },
   {
    "duration": 485,
    "start_time": "2022-12-20T14:00:28.695Z"
   },
   {
    "duration": 8,
    "start_time": "2022-12-20T14:04:27.195Z"
   },
   {
    "duration": 16,
    "start_time": "2022-12-20T14:04:38.014Z"
   },
   {
    "duration": 110,
    "start_time": "2022-12-20T14:05:16.760Z"
   },
   {
    "duration": 9,
    "start_time": "2022-12-20T14:05:26.093Z"
   },
   {
    "duration": 17,
    "start_time": "2022-12-20T14:05:28.295Z"
   },
   {
    "duration": 11,
    "start_time": "2022-12-20T14:05:46.412Z"
   },
   {
    "duration": 9,
    "start_time": "2022-12-20T14:06:20.106Z"
   },
   {
    "duration": 99,
    "start_time": "2022-12-20T14:06:21.753Z"
   },
   {
    "duration": 10,
    "start_time": "2022-12-20T14:06:23.955Z"
   },
   {
    "duration": 290,
    "start_time": "2022-12-20T14:09:16.162Z"
   },
   {
    "duration": 42,
    "start_time": "2022-12-20T14:10:11.256Z"
   },
   {
    "duration": 240,
    "start_time": "2022-12-20T14:10:31.144Z"
   },
   {
    "duration": 8,
    "start_time": "2022-12-20T14:11:10.012Z"
   },
   {
    "duration": 17,
    "start_time": "2022-12-20T14:11:12.198Z"
   },
   {
    "duration": 8,
    "start_time": "2022-12-20T14:11:16.865Z"
   },
   {
    "duration": 260,
    "start_time": "2022-12-20T14:11:21.482Z"
   },
   {
    "duration": 8,
    "start_time": "2022-12-20T14:11:55.670Z"
   },
   {
    "duration": 16,
    "start_time": "2022-12-20T14:11:57.547Z"
   },
   {
    "duration": 9,
    "start_time": "2022-12-20T14:12:00.310Z"
   },
   {
    "duration": 278,
    "start_time": "2022-12-20T14:12:03.390Z"
   },
   {
    "duration": 329,
    "start_time": "2022-12-20T14:13:18.021Z"
   },
   {
    "duration": 260,
    "start_time": "2022-12-20T14:13:47.918Z"
   },
   {
    "duration": 48,
    "start_time": "2022-12-20T14:14:22.552Z"
   },
   {
    "duration": 261,
    "start_time": "2022-12-20T14:14:27.573Z"
   },
   {
    "duration": 360,
    "start_time": "2022-12-20T14:16:31.997Z"
   },
   {
    "duration": 327,
    "start_time": "2022-12-20T14:16:55.927Z"
   },
   {
    "duration": 323,
    "start_time": "2022-12-20T14:20:01.157Z"
   },
   {
    "duration": 15,
    "start_time": "2022-12-20T14:20:58.729Z"
   },
   {
    "duration": 9,
    "start_time": "2022-12-20T14:21:02.189Z"
   },
   {
    "duration": 289,
    "start_time": "2022-12-20T14:28:05.259Z"
   },
   {
    "duration": 308,
    "start_time": "2022-12-20T14:28:17.050Z"
   },
   {
    "duration": 245,
    "start_time": "2022-12-20T14:29:27.443Z"
   },
   {
    "duration": 175,
    "start_time": "2022-12-20T14:29:31.869Z"
   },
   {
    "duration": 147,
    "start_time": "2022-12-20T14:29:39.031Z"
   },
   {
    "duration": 1277,
    "start_time": "2022-12-20T14:30:34.263Z"
   },
   {
    "duration": 21,
    "start_time": "2022-12-20T14:30:35.543Z"
   },
   {
    "duration": 15,
    "start_time": "2022-12-20T14:30:35.565Z"
   },
   {
    "duration": 9,
    "start_time": "2022-12-20T14:30:35.583Z"
   },
   {
    "duration": 36,
    "start_time": "2022-12-20T14:30:35.593Z"
   },
   {
    "duration": 3,
    "start_time": "2022-12-20T14:30:35.631Z"
   },
   {
    "duration": 13,
    "start_time": "2022-12-20T14:30:35.636Z"
   },
   {
    "duration": 4,
    "start_time": "2022-12-20T14:30:35.650Z"
   },
   {
    "duration": 7,
    "start_time": "2022-12-20T14:30:35.678Z"
   },
   {
    "duration": 4,
    "start_time": "2022-12-20T14:30:35.688Z"
   },
   {
    "duration": 34,
    "start_time": "2022-12-20T14:30:35.694Z"
   },
   {
    "duration": 8,
    "start_time": "2022-12-20T14:30:35.730Z"
   },
   {
    "duration": 6,
    "start_time": "2022-12-20T14:30:35.740Z"
   },
   {
    "duration": 37,
    "start_time": "2022-12-20T14:30:35.748Z"
   },
   {
    "duration": 20,
    "start_time": "2022-12-20T14:30:35.787Z"
   },
   {
    "duration": 17,
    "start_time": "2022-12-20T14:30:35.808Z"
   },
   {
    "duration": 4,
    "start_time": "2022-12-20T14:30:35.828Z"
   },
   {
    "duration": 22,
    "start_time": "2022-12-20T14:30:35.834Z"
   },
   {
    "duration": 22,
    "start_time": "2022-12-20T14:30:35.858Z"
   },
   {
    "duration": 4,
    "start_time": "2022-12-20T14:30:35.882Z"
   },
   {
    "duration": 21,
    "start_time": "2022-12-20T14:30:35.888Z"
   },
   {
    "duration": 20,
    "start_time": "2022-12-20T14:30:35.912Z"
   },
   {
    "duration": 6,
    "start_time": "2022-12-20T14:30:35.934Z"
   },
   {
    "duration": 40,
    "start_time": "2022-12-20T14:30:35.942Z"
   },
   {
    "duration": 30,
    "start_time": "2022-12-20T14:30:35.984Z"
   },
   {
    "duration": 215,
    "start_time": "2022-12-20T14:30:36.016Z"
   },
   {
    "duration": 48,
    "start_time": "2022-12-20T14:30:36.233Z"
   },
   {
    "duration": 503,
    "start_time": "2022-12-20T14:30:36.286Z"
   },
   {
    "duration": 31,
    "start_time": "2022-12-20T14:30:36.791Z"
   },
   {
    "duration": 167,
    "start_time": "2022-12-20T14:30:36.824Z"
   },
   {
    "duration": 14,
    "start_time": "2022-12-20T14:30:36.993Z"
   },
   {
    "duration": 14,
    "start_time": "2022-12-20T14:30:37.009Z"
   },
   {
    "duration": 18,
    "start_time": "2022-12-20T14:30:37.025Z"
   },
   {
    "duration": 60,
    "start_time": "2022-12-20T14:30:37.045Z"
   },
   {
    "duration": 450,
    "start_time": "2022-12-20T14:30:37.107Z"
   },
   {
    "duration": 19,
    "start_time": "2022-12-20T14:30:37.559Z"
   },
   {
    "duration": 15,
    "start_time": "2022-12-20T14:30:37.580Z"
   },
   {
    "duration": 11,
    "start_time": "2022-12-20T14:30:37.597Z"
   },
   {
    "duration": 354,
    "start_time": "2022-12-20T14:30:37.610Z"
   },
   {
    "duration": 35,
    "start_time": "2022-12-20T14:30:37.967Z"
   },
   {
    "duration": 513,
    "start_time": "2022-12-20T14:30:38.004Z"
   },
   {
    "duration": 51,
    "start_time": "2022-12-20T16:05:11.078Z"
   },
   {
    "duration": 1405,
    "start_time": "2022-12-20T16:05:17.657Z"
   },
   {
    "duration": 21,
    "start_time": "2022-12-20T16:05:19.064Z"
   },
   {
    "duration": 17,
    "start_time": "2022-12-20T16:05:19.087Z"
   },
   {
    "duration": 15,
    "start_time": "2022-12-20T16:05:19.106Z"
   },
   {
    "duration": 42,
    "start_time": "2022-12-20T16:05:19.122Z"
   },
   {
    "duration": 4,
    "start_time": "2022-12-20T16:05:19.165Z"
   },
   {
    "duration": 11,
    "start_time": "2022-12-20T16:05:19.170Z"
   },
   {
    "duration": 24,
    "start_time": "2022-12-20T16:05:19.183Z"
   },
   {
    "duration": 8,
    "start_time": "2022-12-20T16:05:19.209Z"
   },
   {
    "duration": 4,
    "start_time": "2022-12-20T16:05:19.219Z"
   },
   {
    "duration": 33,
    "start_time": "2022-12-20T16:05:19.225Z"
   },
   {
    "duration": 8,
    "start_time": "2022-12-20T16:05:19.260Z"
   },
   {
    "duration": 4,
    "start_time": "2022-12-20T16:05:19.270Z"
   },
   {
    "duration": 39,
    "start_time": "2022-12-20T16:05:19.275Z"
   },
   {
    "duration": 20,
    "start_time": "2022-12-20T16:05:19.316Z"
   },
   {
    "duration": 16,
    "start_time": "2022-12-20T16:05:19.337Z"
   },
   {
    "duration": 3,
    "start_time": "2022-12-20T16:05:19.355Z"
   },
   {
    "duration": 13,
    "start_time": "2022-12-20T16:05:19.359Z"
   },
   {
    "duration": 12,
    "start_time": "2022-12-20T16:05:19.373Z"
   },
   {
    "duration": 21,
    "start_time": "2022-12-20T16:05:19.386Z"
   },
   {
    "duration": 14,
    "start_time": "2022-12-20T16:05:19.408Z"
   },
   {
    "duration": 13,
    "start_time": "2022-12-20T16:05:19.424Z"
   },
   {
    "duration": 6,
    "start_time": "2022-12-20T16:05:19.438Z"
   },
   {
    "duration": 18,
    "start_time": "2022-12-20T16:05:19.445Z"
   },
   {
    "duration": 50,
    "start_time": "2022-12-20T16:05:19.464Z"
   },
   {
    "duration": 209,
    "start_time": "2022-12-20T16:05:19.516Z"
   },
   {
    "duration": 29,
    "start_time": "2022-12-20T16:05:19.727Z"
   },
   {
    "duration": 558,
    "start_time": "2022-12-20T16:05:19.759Z"
   },
   {
    "duration": 30,
    "start_time": "2022-12-20T16:05:20.319Z"
   },
   {
    "duration": 155,
    "start_time": "2022-12-20T16:05:20.351Z"
   },
   {
    "duration": 13,
    "start_time": "2022-12-20T16:05:20.508Z"
   },
   {
    "duration": 11,
    "start_time": "2022-12-20T16:05:20.522Z"
   },
   {
    "duration": 15,
    "start_time": "2022-12-20T16:05:20.534Z"
   },
   {
    "duration": 32,
    "start_time": "2022-12-20T16:05:20.551Z"
   },
   {
    "duration": 481,
    "start_time": "2022-12-20T16:05:20.604Z"
   },
   {
    "duration": 21,
    "start_time": "2022-12-20T16:05:21.086Z"
   },
   {
    "duration": 16,
    "start_time": "2022-12-20T16:05:21.109Z"
   },
   {
    "duration": 8,
    "start_time": "2022-12-20T16:05:21.127Z"
   },
   {
    "duration": 340,
    "start_time": "2022-12-20T16:05:21.137Z"
   },
   {
    "duration": 31,
    "start_time": "2022-12-20T16:05:21.479Z"
   },
   {
    "duration": 496,
    "start_time": "2022-12-20T16:05:21.511Z"
   },
   {
    "duration": 241,
    "start_time": "2022-12-20T16:05:35.673Z"
   },
   {
    "duration": 178,
    "start_time": "2022-12-20T16:07:13.848Z"
   },
   {
    "duration": 260,
    "start_time": "2022-12-20T16:07:41.279Z"
   },
   {
    "duration": 144,
    "start_time": "2022-12-20T16:22:23.448Z"
   },
   {
    "duration": 158,
    "start_time": "2022-12-20T16:22:33.404Z"
   },
   {
    "duration": 144,
    "start_time": "2022-12-20T16:22:55.193Z"
   },
   {
    "duration": 133,
    "start_time": "2022-12-20T16:22:58.641Z"
   },
   {
    "duration": 175,
    "start_time": "2022-12-20T16:30:45.945Z"
   },
   {
    "duration": 173,
    "start_time": "2022-12-20T16:30:50.052Z"
   },
   {
    "duration": 174,
    "start_time": "2022-12-20T16:30:55.366Z"
   },
   {
    "duration": 165,
    "start_time": "2022-12-20T16:31:04.158Z"
   },
   {
    "duration": 175,
    "start_time": "2022-12-20T16:31:08.320Z"
   },
   {
    "duration": 172,
    "start_time": "2022-12-20T16:31:11.379Z"
   },
   {
    "duration": 168,
    "start_time": "2022-12-20T16:32:11.875Z"
   },
   {
    "duration": 1246,
    "start_time": "2022-12-20T16:34:13.438Z"
   },
   {
    "duration": 26,
    "start_time": "2022-12-20T16:34:14.687Z"
   },
   {
    "duration": 25,
    "start_time": "2022-12-20T16:34:14.715Z"
   },
   {
    "duration": 14,
    "start_time": "2022-12-20T16:34:14.743Z"
   },
   {
    "duration": 51,
    "start_time": "2022-12-20T16:34:14.759Z"
   },
   {
    "duration": 5,
    "start_time": "2022-12-20T16:34:14.814Z"
   },
   {
    "duration": 16,
    "start_time": "2022-12-20T16:34:14.820Z"
   },
   {
    "duration": 8,
    "start_time": "2022-12-20T16:34:14.837Z"
   },
   {
    "duration": 7,
    "start_time": "2022-12-20T16:34:14.846Z"
   },
   {
    "duration": 4,
    "start_time": "2022-12-20T16:34:14.856Z"
   },
   {
    "duration": 51,
    "start_time": "2022-12-20T16:34:14.861Z"
   },
   {
    "duration": 10,
    "start_time": "2022-12-20T16:34:14.913Z"
   },
   {
    "duration": 6,
    "start_time": "2022-12-20T16:34:14.925Z"
   },
   {
    "duration": 21,
    "start_time": "2022-12-20T16:34:14.933Z"
   },
   {
    "duration": 23,
    "start_time": "2022-12-20T16:34:14.955Z"
   },
   {
    "duration": 29,
    "start_time": "2022-12-20T16:34:14.980Z"
   },
   {
    "duration": 4,
    "start_time": "2022-12-20T16:34:15.010Z"
   },
   {
    "duration": 22,
    "start_time": "2022-12-20T16:34:15.016Z"
   },
   {
    "duration": 46,
    "start_time": "2022-12-20T16:34:15.039Z"
   },
   {
    "duration": 16,
    "start_time": "2022-12-20T16:34:15.087Z"
   },
   {
    "duration": 35,
    "start_time": "2022-12-20T16:34:15.104Z"
   },
   {
    "duration": 22,
    "start_time": "2022-12-20T16:34:15.141Z"
   },
   {
    "duration": 13,
    "start_time": "2022-12-20T16:34:15.165Z"
   },
   {
    "duration": 35,
    "start_time": "2022-12-20T16:34:15.179Z"
   },
   {
    "duration": 39,
    "start_time": "2022-12-20T16:34:15.216Z"
   },
   {
    "duration": 201,
    "start_time": "2022-12-20T16:34:15.257Z"
   },
   {
    "duration": 45,
    "start_time": "2022-12-20T16:34:15.460Z"
   },
   {
    "duration": 500,
    "start_time": "2022-12-20T16:34:15.509Z"
   },
   {
    "duration": 33,
    "start_time": "2022-12-20T16:34:16.011Z"
   },
   {
    "duration": 170,
    "start_time": "2022-12-20T16:34:16.045Z"
   },
   {
    "duration": 15,
    "start_time": "2022-12-20T16:34:16.217Z"
   },
   {
    "duration": 10,
    "start_time": "2022-12-20T16:34:16.234Z"
   },
   {
    "duration": 13,
    "start_time": "2022-12-20T16:34:16.246Z"
   },
   {
    "duration": 58,
    "start_time": "2022-12-20T16:34:16.261Z"
   },
   {
    "duration": 463,
    "start_time": "2022-12-20T16:34:16.321Z"
   },
   {
    "duration": 21,
    "start_time": "2022-12-20T16:34:16.786Z"
   },
   {
    "duration": 17,
    "start_time": "2022-12-20T16:34:16.808Z"
   },
   {
    "duration": 11,
    "start_time": "2022-12-20T16:34:16.826Z"
   },
   {
    "duration": 379,
    "start_time": "2022-12-20T16:34:16.838Z"
   },
   {
    "duration": 34,
    "start_time": "2022-12-20T16:34:17.220Z"
   },
   {
    "duration": 578,
    "start_time": "2022-12-20T16:34:17.257Z"
   },
   {
    "duration": 356,
    "start_time": "2022-12-20T16:35:23.454Z"
   },
   {
    "duration": 308,
    "start_time": "2022-12-20T16:35:43.413Z"
   },
   {
    "duration": 470,
    "start_time": "2022-12-20T16:38:18.445Z"
   },
   {
    "duration": 100,
    "start_time": "2022-12-20T16:39:01.291Z"
   },
   {
    "duration": 309,
    "start_time": "2022-12-20T16:39:11.589Z"
   },
   {
    "duration": 304,
    "start_time": "2022-12-20T16:39:19.684Z"
   },
   {
    "duration": 1345,
    "start_time": "2022-12-20T16:41:29.745Z"
   },
   {
    "duration": 19,
    "start_time": "2022-12-20T16:41:31.093Z"
   },
   {
    "duration": 33,
    "start_time": "2022-12-20T16:41:31.114Z"
   },
   {
    "duration": 27,
    "start_time": "2022-12-20T16:41:31.149Z"
   },
   {
    "duration": 45,
    "start_time": "2022-12-20T16:41:31.177Z"
   },
   {
    "duration": 3,
    "start_time": "2022-12-20T16:41:31.224Z"
   },
   {
    "duration": 14,
    "start_time": "2022-12-20T16:41:31.229Z"
   },
   {
    "duration": 9,
    "start_time": "2022-12-20T16:41:31.245Z"
   },
   {
    "duration": 12,
    "start_time": "2022-12-20T16:41:31.255Z"
   },
   {
    "duration": 5,
    "start_time": "2022-12-20T16:41:31.270Z"
   },
   {
    "duration": 52,
    "start_time": "2022-12-20T16:41:31.277Z"
   },
   {
    "duration": 10,
    "start_time": "2022-12-20T16:41:31.330Z"
   },
   {
    "duration": 6,
    "start_time": "2022-12-20T16:41:31.341Z"
   },
   {
    "duration": 13,
    "start_time": "2022-12-20T16:41:31.349Z"
   },
   {
    "duration": 19,
    "start_time": "2022-12-20T16:41:31.363Z"
   },
   {
    "duration": 36,
    "start_time": "2022-12-20T16:41:31.383Z"
   },
   {
    "duration": 4,
    "start_time": "2022-12-20T16:41:31.420Z"
   },
   {
    "duration": 12,
    "start_time": "2022-12-20T16:41:31.425Z"
   },
   {
    "duration": 7,
    "start_time": "2022-12-20T16:41:31.439Z"
   },
   {
    "duration": 4,
    "start_time": "2022-12-20T16:41:31.447Z"
   },
   {
    "duration": 16,
    "start_time": "2022-12-20T16:41:31.453Z"
   },
   {
    "duration": 35,
    "start_time": "2022-12-20T16:41:31.471Z"
   },
   {
    "duration": 7,
    "start_time": "2022-12-20T16:41:31.507Z"
   },
   {
    "duration": 20,
    "start_time": "2022-12-20T16:41:31.515Z"
   },
   {
    "duration": 30,
    "start_time": "2022-12-20T16:41:31.536Z"
   },
   {
    "duration": 219,
    "start_time": "2022-12-20T16:41:31.568Z"
   },
   {
    "duration": 38,
    "start_time": "2022-12-20T16:41:31.789Z"
   },
   {
    "duration": 507,
    "start_time": "2022-12-20T16:41:31.830Z"
   },
   {
    "duration": 35,
    "start_time": "2022-12-20T16:41:32.339Z"
   },
   {
    "duration": 164,
    "start_time": "2022-12-20T16:41:32.375Z"
   },
   {
    "duration": 14,
    "start_time": "2022-12-20T16:41:32.541Z"
   },
   {
    "duration": 30,
    "start_time": "2022-12-20T16:41:32.556Z"
   },
   {
    "duration": 36,
    "start_time": "2022-12-20T16:41:32.588Z"
   },
   {
    "duration": 45,
    "start_time": "2022-12-20T16:41:32.626Z"
   },
   {
    "duration": 503,
    "start_time": "2022-12-20T16:41:32.673Z"
   },
   {
    "duration": 8,
    "start_time": "2022-12-20T16:41:33.178Z"
   },
   {
    "duration": 36,
    "start_time": "2022-12-20T16:41:33.187Z"
   },
   {
    "duration": 1213,
    "start_time": "2022-12-20T16:41:33.224Z"
   },
   {
    "duration": 0,
    "start_time": "2022-12-20T16:41:34.439Z"
   },
   {
    "duration": 0,
    "start_time": "2022-12-20T16:41:34.439Z"
   },
   {
    "duration": 0,
    "start_time": "2022-12-20T16:41:34.441Z"
   },
   {
    "duration": 1260,
    "start_time": "2022-12-20T16:42:21.373Z"
   },
   {
    "duration": 19,
    "start_time": "2022-12-20T16:42:22.635Z"
   },
   {
    "duration": 26,
    "start_time": "2022-12-20T16:42:22.655Z"
   },
   {
    "duration": 17,
    "start_time": "2022-12-20T16:42:22.684Z"
   },
   {
    "duration": 38,
    "start_time": "2022-12-20T16:42:22.702Z"
   },
   {
    "duration": 4,
    "start_time": "2022-12-20T16:42:22.741Z"
   },
   {
    "duration": 16,
    "start_time": "2022-12-20T16:42:22.747Z"
   },
   {
    "duration": 9,
    "start_time": "2022-12-20T16:42:22.765Z"
   },
   {
    "duration": 42,
    "start_time": "2022-12-20T16:42:22.776Z"
   },
   {
    "duration": 7,
    "start_time": "2022-12-20T16:42:22.822Z"
   },
   {
    "duration": 38,
    "start_time": "2022-12-20T16:42:22.830Z"
   },
   {
    "duration": 9,
    "start_time": "2022-12-20T16:42:22.870Z"
   },
   {
    "duration": 6,
    "start_time": "2022-12-20T16:42:22.881Z"
   },
   {
    "duration": 15,
    "start_time": "2022-12-20T16:42:22.889Z"
   },
   {
    "duration": 22,
    "start_time": "2022-12-20T16:42:22.906Z"
   },
   {
    "duration": 16,
    "start_time": "2022-12-20T16:42:22.929Z"
   },
   {
    "duration": 2,
    "start_time": "2022-12-20T16:42:22.947Z"
   },
   {
    "duration": 13,
    "start_time": "2022-12-20T16:42:22.951Z"
   },
   {
    "duration": 7,
    "start_time": "2022-12-20T16:42:22.965Z"
   },
   {
    "duration": 8,
    "start_time": "2022-12-20T16:42:22.974Z"
   },
   {
    "duration": 25,
    "start_time": "2022-12-20T16:42:22.984Z"
   },
   {
    "duration": 14,
    "start_time": "2022-12-20T16:42:23.010Z"
   },
   {
    "duration": 6,
    "start_time": "2022-12-20T16:42:23.026Z"
   },
   {
    "duration": 19,
    "start_time": "2022-12-20T16:42:23.033Z"
   },
   {
    "duration": 29,
    "start_time": "2022-12-20T16:42:23.054Z"
   },
   {
    "duration": 213,
    "start_time": "2022-12-20T16:42:23.104Z"
   },
   {
    "duration": 34,
    "start_time": "2022-12-20T16:42:23.319Z"
   },
   {
    "duration": 556,
    "start_time": "2022-12-20T16:42:23.355Z"
   },
   {
    "duration": 29,
    "start_time": "2022-12-20T16:42:23.913Z"
   },
   {
    "duration": 158,
    "start_time": "2022-12-20T16:42:23.943Z"
   },
   {
    "duration": 13,
    "start_time": "2022-12-20T16:42:24.104Z"
   },
   {
    "duration": 16,
    "start_time": "2022-12-20T16:42:24.119Z"
   },
   {
    "duration": 17,
    "start_time": "2022-12-20T16:42:24.137Z"
   },
   {
    "duration": 48,
    "start_time": "2022-12-20T16:42:24.156Z"
   },
   {
    "duration": 481,
    "start_time": "2022-12-20T16:42:24.206Z"
   },
   {
    "duration": 20,
    "start_time": "2022-12-20T16:42:24.689Z"
   },
   {
    "duration": 47,
    "start_time": "2022-12-20T16:42:24.711Z"
   },
   {
    "duration": 20,
    "start_time": "2022-12-20T16:42:24.760Z"
   },
   {
    "duration": 365,
    "start_time": "2022-12-20T16:42:24.781Z"
   },
   {
    "duration": 33,
    "start_time": "2022-12-20T16:42:25.147Z"
   },
   {
    "duration": 543,
    "start_time": "2022-12-20T16:42:25.182Z"
   },
   {
    "duration": 1190,
    "start_time": "2022-12-20T16:44:40.029Z"
   },
   {
    "duration": 19,
    "start_time": "2022-12-20T16:44:41.221Z"
   },
   {
    "duration": 15,
    "start_time": "2022-12-20T16:44:41.242Z"
   },
   {
    "duration": 9,
    "start_time": "2022-12-20T16:44:41.259Z"
   },
   {
    "duration": 60,
    "start_time": "2022-12-20T16:44:41.269Z"
   },
   {
    "duration": 4,
    "start_time": "2022-12-20T16:44:41.330Z"
   },
   {
    "duration": 12,
    "start_time": "2022-12-20T16:44:41.335Z"
   },
   {
    "duration": 4,
    "start_time": "2022-12-20T16:44:41.349Z"
   },
   {
    "duration": 9,
    "start_time": "2022-12-20T16:44:41.355Z"
   },
   {
    "duration": 5,
    "start_time": "2022-12-20T16:44:41.366Z"
   },
   {
    "duration": 59,
    "start_time": "2022-12-20T16:44:41.372Z"
   },
   {
    "duration": 10,
    "start_time": "2022-12-20T16:44:41.432Z"
   },
   {
    "duration": 3,
    "start_time": "2022-12-20T16:44:41.444Z"
   },
   {
    "duration": 12,
    "start_time": "2022-12-20T16:44:41.449Z"
   },
   {
    "duration": 23,
    "start_time": "2022-12-20T16:44:41.463Z"
   },
   {
    "duration": 32,
    "start_time": "2022-12-20T16:44:41.488Z"
   },
   {
    "duration": 4,
    "start_time": "2022-12-20T16:44:41.521Z"
   },
   {
    "duration": 19,
    "start_time": "2022-12-20T16:44:41.527Z"
   },
   {
    "duration": 6,
    "start_time": "2022-12-20T16:44:41.547Z"
   },
   {
    "duration": 5,
    "start_time": "2022-12-20T16:44:41.555Z"
   },
   {
    "duration": 12,
    "start_time": "2022-12-20T16:44:41.561Z"
   },
   {
    "duration": 36,
    "start_time": "2022-12-20T16:44:41.575Z"
   },
   {
    "duration": 7,
    "start_time": "2022-12-20T16:44:41.612Z"
   },
   {
    "duration": 19,
    "start_time": "2022-12-20T16:44:41.620Z"
   },
   {
    "duration": 29,
    "start_time": "2022-12-20T16:44:41.641Z"
   },
   {
    "duration": 212,
    "start_time": "2022-12-20T16:44:41.672Z"
   },
   {
    "duration": 42,
    "start_time": "2022-12-20T16:44:41.886Z"
   },
   {
    "duration": 508,
    "start_time": "2022-12-20T16:44:41.931Z"
   },
   {
    "duration": 31,
    "start_time": "2022-12-20T16:44:42.441Z"
   },
   {
    "duration": 164,
    "start_time": "2022-12-20T16:44:42.474Z"
   },
   {
    "duration": 14,
    "start_time": "2022-12-20T16:44:42.640Z"
   },
   {
    "duration": 14,
    "start_time": "2022-12-20T16:44:42.656Z"
   },
   {
    "duration": 33,
    "start_time": "2022-12-20T16:44:42.671Z"
   },
   {
    "duration": 32,
    "start_time": "2022-12-20T16:44:42.706Z"
   },
   {
    "duration": 448,
    "start_time": "2022-12-20T16:44:42.739Z"
   },
   {
    "duration": 22,
    "start_time": "2022-12-20T16:44:43.189Z"
   },
   {
    "duration": 15,
    "start_time": "2022-12-20T16:44:43.213Z"
   },
   {
    "duration": 10,
    "start_time": "2022-12-20T16:44:43.230Z"
   },
   {
    "duration": 352,
    "start_time": "2022-12-20T16:44:43.241Z"
   },
   {
    "duration": 34,
    "start_time": "2022-12-20T16:44:43.595Z"
   },
   {
    "duration": 478,
    "start_time": "2022-12-20T16:44:43.630Z"
   },
   {
    "duration": 44,
    "start_time": "2022-12-21T10:12:51.067Z"
   },
   {
    "duration": 1553,
    "start_time": "2022-12-21T10:12:59.243Z"
   },
   {
    "duration": 18,
    "start_time": "2022-12-21T10:13:00.798Z"
   },
   {
    "duration": 23,
    "start_time": "2022-12-21T10:13:00.818Z"
   },
   {
    "duration": 9,
    "start_time": "2022-12-21T10:13:00.842Z"
   },
   {
    "duration": 44,
    "start_time": "2022-12-21T10:13:00.853Z"
   },
   {
    "duration": 3,
    "start_time": "2022-12-21T10:13:00.898Z"
   },
   {
    "duration": 15,
    "start_time": "2022-12-21T10:13:00.903Z"
   },
   {
    "duration": 11,
    "start_time": "2022-12-21T10:13:00.919Z"
   },
   {
    "duration": 10,
    "start_time": "2022-12-21T10:13:00.931Z"
   },
   {
    "duration": 12,
    "start_time": "2022-12-21T10:13:00.943Z"
   },
   {
    "duration": 51,
    "start_time": "2022-12-21T10:13:00.956Z"
   },
   {
    "duration": 23,
    "start_time": "2022-12-21T10:13:01.009Z"
   },
   {
    "duration": 36,
    "start_time": "2022-12-21T10:13:01.033Z"
   },
   {
    "duration": 48,
    "start_time": "2022-12-21T10:13:01.072Z"
   },
   {
    "duration": 50,
    "start_time": "2022-12-21T10:13:01.122Z"
   },
   {
    "duration": 15,
    "start_time": "2022-12-21T10:13:01.174Z"
   },
   {
    "duration": 4,
    "start_time": "2022-12-21T10:13:01.190Z"
   },
   {
    "duration": 14,
    "start_time": "2022-12-21T10:13:01.196Z"
   },
   {
    "duration": 8,
    "start_time": "2022-12-21T10:13:01.212Z"
   },
   {
    "duration": 12,
    "start_time": "2022-12-21T10:13:01.221Z"
   },
   {
    "duration": 31,
    "start_time": "2022-12-21T10:13:01.234Z"
   },
   {
    "duration": 26,
    "start_time": "2022-12-21T10:13:01.266Z"
   },
   {
    "duration": 13,
    "start_time": "2022-12-21T10:13:01.293Z"
   },
   {
    "duration": 31,
    "start_time": "2022-12-21T10:13:01.307Z"
   },
   {
    "duration": 25,
    "start_time": "2022-12-21T10:13:01.340Z"
   },
   {
    "duration": 160,
    "start_time": "2022-12-21T10:13:01.366Z"
   },
   {
    "duration": 27,
    "start_time": "2022-12-21T10:13:01.527Z"
   },
   {
    "duration": 535,
    "start_time": "2022-12-21T10:13:01.556Z"
   },
   {
    "duration": 28,
    "start_time": "2022-12-21T10:13:02.096Z"
   },
   {
    "duration": 153,
    "start_time": "2022-12-21T10:13:02.126Z"
   },
   {
    "duration": 18,
    "start_time": "2022-12-21T10:13:02.281Z"
   },
   {
    "duration": 21,
    "start_time": "2022-12-21T10:13:02.300Z"
   },
   {
    "duration": 18,
    "start_time": "2022-12-21T10:13:02.322Z"
   },
   {
    "duration": 45,
    "start_time": "2022-12-21T10:13:02.342Z"
   },
   {
    "duration": 496,
    "start_time": "2022-12-21T10:13:02.388Z"
   },
   {
    "duration": 11,
    "start_time": "2022-12-21T10:13:02.886Z"
   },
   {
    "duration": 13,
    "start_time": "2022-12-21T10:13:02.898Z"
   },
   {
    "duration": 9,
    "start_time": "2022-12-21T10:13:02.912Z"
   },
   {
    "duration": 335,
    "start_time": "2022-12-21T10:13:02.923Z"
   },
   {
    "duration": 21,
    "start_time": "2022-12-21T10:13:03.260Z"
   },
   {
    "duration": 6,
    "start_time": "2022-12-21T10:13:03.284Z"
   },
   {
    "duration": 29,
    "start_time": "2022-12-21T10:13:03.291Z"
   },
   {
    "duration": 488,
    "start_time": "2022-12-21T10:13:03.322Z"
   },
   {
    "duration": 26,
    "start_time": "2022-12-21T10:17:07.367Z"
   },
   {
    "duration": 102,
    "start_time": "2022-12-21T10:21:01.615Z"
   },
   {
    "duration": 4,
    "start_time": "2022-12-21T10:21:43.026Z"
   },
   {
    "duration": 22,
    "start_time": "2022-12-21T10:45:34.052Z"
   },
   {
    "duration": 435,
    "start_time": "2022-12-21T10:45:45.862Z"
   },
   {
    "duration": 16,
    "start_time": "2022-12-21T10:48:48.006Z"
   },
   {
    "duration": 13,
    "start_time": "2022-12-21T10:49:30.332Z"
   },
   {
    "duration": 16,
    "start_time": "2022-12-21T10:50:35.106Z"
   },
   {
    "duration": 13,
    "start_time": "2022-12-21T10:51:10.102Z"
   },
   {
    "duration": 37,
    "start_time": "2022-12-21T10:55:10.993Z"
   },
   {
    "duration": 47,
    "start_time": "2022-12-21T10:55:40.490Z"
   },
   {
    "duration": 52,
    "start_time": "2022-12-21T10:55:58.342Z"
   },
   {
    "duration": 61,
    "start_time": "2022-12-21T10:56:11.714Z"
   },
   {
    "duration": 74,
    "start_time": "2022-12-21T10:56:17.464Z"
   },
   {
    "duration": 41,
    "start_time": "2022-12-21T10:56:24.268Z"
   },
   {
    "duration": 44,
    "start_time": "2022-12-21T10:56:34.748Z"
   },
   {
    "duration": 1313,
    "start_time": "2022-12-21T10:56:47.021Z"
   },
   {
    "duration": 21,
    "start_time": "2022-12-21T10:56:48.336Z"
   },
   {
    "duration": 23,
    "start_time": "2022-12-21T10:56:48.359Z"
   },
   {
    "duration": 32,
    "start_time": "2022-12-21T10:56:48.384Z"
   },
   {
    "duration": 45,
    "start_time": "2022-12-21T10:56:48.418Z"
   },
   {
    "duration": 3,
    "start_time": "2022-12-21T10:56:48.464Z"
   },
   {
    "duration": 13,
    "start_time": "2022-12-21T10:56:48.468Z"
   },
   {
    "duration": 6,
    "start_time": "2022-12-21T10:56:48.482Z"
   },
   {
    "duration": 13,
    "start_time": "2022-12-21T10:56:48.490Z"
   },
   {
    "duration": 10,
    "start_time": "2022-12-21T10:56:48.508Z"
   },
   {
    "duration": 42,
    "start_time": "2022-12-21T10:56:48.520Z"
   },
   {
    "duration": 11,
    "start_time": "2022-12-21T10:56:48.564Z"
   },
   {
    "duration": 9,
    "start_time": "2022-12-21T10:56:48.577Z"
   },
   {
    "duration": 24,
    "start_time": "2022-12-21T10:56:48.598Z"
   },
   {
    "duration": 26,
    "start_time": "2022-12-21T10:56:48.623Z"
   },
   {
    "duration": 18,
    "start_time": "2022-12-21T10:56:48.650Z"
   },
   {
    "duration": 3,
    "start_time": "2022-12-21T10:56:48.670Z"
   },
   {
    "duration": 17,
    "start_time": "2022-12-21T10:56:48.675Z"
   },
   {
    "duration": 20,
    "start_time": "2022-12-21T10:56:48.694Z"
   },
   {
    "duration": 6,
    "start_time": "2022-12-21T10:56:48.716Z"
   },
   {
    "duration": 14,
    "start_time": "2022-12-21T10:56:48.724Z"
   },
   {
    "duration": 14,
    "start_time": "2022-12-21T10:56:48.739Z"
   },
   {
    "duration": 6,
    "start_time": "2022-12-21T10:56:48.754Z"
   },
   {
    "duration": 19,
    "start_time": "2022-12-21T10:56:48.762Z"
   },
   {
    "duration": 54,
    "start_time": "2022-12-21T10:56:48.782Z"
   },
   {
    "duration": 200,
    "start_time": "2022-12-21T10:56:48.838Z"
   },
   {
    "duration": 30,
    "start_time": "2022-12-21T10:56:49.039Z"
   },
   {
    "duration": 565,
    "start_time": "2022-12-21T10:56:49.073Z"
   },
   {
    "duration": 29,
    "start_time": "2022-12-21T10:56:49.639Z"
   },
   {
    "duration": 186,
    "start_time": "2022-12-21T10:56:49.670Z"
   },
   {
    "duration": 13,
    "start_time": "2022-12-21T10:56:49.857Z"
   },
   {
    "duration": 26,
    "start_time": "2022-12-21T10:56:49.871Z"
   },
   {
    "duration": 36,
    "start_time": "2022-12-21T10:56:49.900Z"
   },
   {
    "duration": 52,
    "start_time": "2022-12-21T10:56:49.938Z"
   },
   {
    "duration": 495,
    "start_time": "2022-12-21T10:56:49.991Z"
   },
   {
    "duration": 18,
    "start_time": "2022-12-21T10:56:50.488Z"
   },
   {
    "duration": 21,
    "start_time": "2022-12-21T10:56:50.509Z"
   },
   {
    "duration": 13,
    "start_time": "2022-12-21T10:56:50.532Z"
   },
   {
    "duration": 362,
    "start_time": "2022-12-21T10:56:50.547Z"
   },
   {
    "duration": 51,
    "start_time": "2022-12-21T10:56:50.911Z"
   },
   {
    "duration": 0,
    "start_time": "2022-12-21T10:56:50.963Z"
   },
   {
    "duration": 0,
    "start_time": "2022-12-21T10:56:50.964Z"
   },
   {
    "duration": 0,
    "start_time": "2022-12-21T10:56:50.965Z"
   },
   {
    "duration": 0,
    "start_time": "2022-12-21T10:56:50.966Z"
   },
   {
    "duration": 15,
    "start_time": "2022-12-21T10:57:14.789Z"
   },
   {
    "duration": 94,
    "start_time": "2022-12-21T11:01:08.241Z"
   },
   {
    "duration": 12,
    "start_time": "2022-12-21T11:01:13.279Z"
   },
   {
    "duration": 11,
    "start_time": "2022-12-21T11:01:15.465Z"
   },
   {
    "duration": 15,
    "start_time": "2022-12-21T11:01:34.878Z"
   },
   {
    "duration": 4,
    "start_time": "2022-12-21T11:01:47.352Z"
   },
   {
    "duration": 6,
    "start_time": "2022-12-21T11:03:48.840Z"
   },
   {
    "duration": 6,
    "start_time": "2022-12-21T11:04:20.701Z"
   },
   {
    "duration": 11,
    "start_time": "2022-12-21T11:04:42.204Z"
   },
   {
    "duration": 226,
    "start_time": "2022-12-21T11:06:48.710Z"
   },
   {
    "duration": 575,
    "start_time": "2022-12-21T11:09:13.586Z"
   },
   {
    "duration": 607,
    "start_time": "2022-12-21T11:10:04.553Z"
   },
   {
    "duration": 1173,
    "start_time": "2022-12-21T11:10:23.037Z"
   },
   {
    "duration": 18,
    "start_time": "2022-12-21T11:10:24.212Z"
   },
   {
    "duration": 28,
    "start_time": "2022-12-21T11:10:24.232Z"
   },
   {
    "duration": 30,
    "start_time": "2022-12-21T11:10:24.263Z"
   },
   {
    "duration": 39,
    "start_time": "2022-12-21T11:10:24.294Z"
   },
   {
    "duration": 3,
    "start_time": "2022-12-21T11:10:24.334Z"
   },
   {
    "duration": 38,
    "start_time": "2022-12-21T11:10:24.339Z"
   },
   {
    "duration": 39,
    "start_time": "2022-12-21T11:10:24.379Z"
   },
   {
    "duration": 50,
    "start_time": "2022-12-21T11:10:24.420Z"
   },
   {
    "duration": 9,
    "start_time": "2022-12-21T11:10:24.473Z"
   },
   {
    "duration": 48,
    "start_time": "2022-12-21T11:10:24.483Z"
   },
   {
    "duration": 9,
    "start_time": "2022-12-21T11:10:24.533Z"
   },
   {
    "duration": 8,
    "start_time": "2022-12-21T11:10:24.544Z"
   },
   {
    "duration": 26,
    "start_time": "2022-12-21T11:10:24.553Z"
   },
   {
    "duration": 21,
    "start_time": "2022-12-21T11:10:24.581Z"
   },
   {
    "duration": 17,
    "start_time": "2022-12-21T11:10:24.604Z"
   },
   {
    "duration": 4,
    "start_time": "2022-12-21T11:10:24.623Z"
   },
   {
    "duration": 24,
    "start_time": "2022-12-21T11:10:24.629Z"
   },
   {
    "duration": 20,
    "start_time": "2022-12-21T11:10:24.655Z"
   },
   {
    "duration": 9,
    "start_time": "2022-12-21T11:10:24.679Z"
   },
   {
    "duration": 18,
    "start_time": "2022-12-21T11:10:24.691Z"
   },
   {
    "duration": 24,
    "start_time": "2022-12-21T11:10:24.711Z"
   },
   {
    "duration": 12,
    "start_time": "2022-12-21T11:10:24.737Z"
   },
   {
    "duration": 25,
    "start_time": "2022-12-21T11:10:24.750Z"
   },
   {
    "duration": 39,
    "start_time": "2022-12-21T11:10:24.777Z"
   },
   {
    "duration": 196,
    "start_time": "2022-12-21T11:10:24.818Z"
   },
   {
    "duration": 33,
    "start_time": "2022-12-21T11:10:25.016Z"
   },
   {
    "duration": 528,
    "start_time": "2022-12-21T11:10:25.052Z"
   },
   {
    "duration": 38,
    "start_time": "2022-12-21T11:10:25.582Z"
   },
   {
    "duration": 157,
    "start_time": "2022-12-21T11:10:25.622Z"
   },
   {
    "duration": 21,
    "start_time": "2022-12-21T11:10:25.780Z"
   },
   {
    "duration": 14,
    "start_time": "2022-12-21T11:10:25.803Z"
   },
   {
    "duration": 17,
    "start_time": "2022-12-21T11:10:25.818Z"
   },
   {
    "duration": 28,
    "start_time": "2022-12-21T11:10:25.836Z"
   },
   {
    "duration": 493,
    "start_time": "2022-12-21T11:10:25.866Z"
   },
   {
    "duration": 7,
    "start_time": "2022-12-21T11:10:26.361Z"
   },
   {
    "duration": 14,
    "start_time": "2022-12-21T11:10:26.369Z"
   },
   {
    "duration": 7,
    "start_time": "2022-12-21T11:10:26.398Z"
   },
   {
    "duration": 335,
    "start_time": "2022-12-21T11:10:26.407Z"
   },
   {
    "duration": 13,
    "start_time": "2022-12-21T11:10:26.744Z"
   },
   {
    "duration": 11,
    "start_time": "2022-12-21T11:10:26.759Z"
   },
   {
    "duration": 14,
    "start_time": "2022-12-21T11:10:26.771Z"
   },
   {
    "duration": 576,
    "start_time": "2022-12-21T11:10:26.787Z"
   },
   {
    "duration": 34,
    "start_time": "2022-12-21T11:10:27.364Z"
   },
   {
    "duration": 499,
    "start_time": "2022-12-21T11:10:27.399Z"
   },
   {
    "duration": 96,
    "start_time": "2022-12-21T11:11:15.340Z"
   },
   {
    "duration": 545,
    "start_time": "2022-12-21T11:11:21.479Z"
   },
   {
    "duration": 1260,
    "start_time": "2022-12-21T11:13:05.663Z"
   },
   {
    "duration": 20,
    "start_time": "2022-12-21T11:13:06.927Z"
   },
   {
    "duration": 16,
    "start_time": "2022-12-21T11:13:06.948Z"
   },
   {
    "duration": 10,
    "start_time": "2022-12-21T11:13:06.966Z"
   },
   {
    "duration": 34,
    "start_time": "2022-12-21T11:13:06.997Z"
   },
   {
    "duration": 4,
    "start_time": "2022-12-21T11:13:07.033Z"
   },
   {
    "duration": 10,
    "start_time": "2022-12-21T11:13:07.039Z"
   },
   {
    "duration": 12,
    "start_time": "2022-12-21T11:13:07.051Z"
   },
   {
    "duration": 16,
    "start_time": "2022-12-21T11:13:07.064Z"
   },
   {
    "duration": 15,
    "start_time": "2022-12-21T11:13:07.083Z"
   },
   {
    "duration": 36,
    "start_time": "2022-12-21T11:13:07.099Z"
   },
   {
    "duration": 10,
    "start_time": "2022-12-21T11:13:07.136Z"
   },
   {
    "duration": 9,
    "start_time": "2022-12-21T11:13:07.147Z"
   },
   {
    "duration": 17,
    "start_time": "2022-12-21T11:13:07.158Z"
   },
   {
    "duration": 35,
    "start_time": "2022-12-21T11:13:07.176Z"
   },
   {
    "duration": 16,
    "start_time": "2022-12-21T11:13:07.213Z"
   },
   {
    "duration": 4,
    "start_time": "2022-12-21T11:13:07.230Z"
   },
   {
    "duration": 17,
    "start_time": "2022-12-21T11:13:07.236Z"
   },
   {
    "duration": 11,
    "start_time": "2022-12-21T11:13:07.255Z"
   },
   {
    "duration": 11,
    "start_time": "2022-12-21T11:13:07.268Z"
   },
   {
    "duration": 31,
    "start_time": "2022-12-21T11:13:07.281Z"
   },
   {
    "duration": 26,
    "start_time": "2022-12-21T11:13:07.314Z"
   },
   {
    "duration": 8,
    "start_time": "2022-12-21T11:13:07.341Z"
   },
   {
    "duration": 21,
    "start_time": "2022-12-21T11:13:07.351Z"
   },
   {
    "duration": 43,
    "start_time": "2022-12-21T11:13:07.373Z"
   },
   {
    "duration": 187,
    "start_time": "2022-12-21T11:13:07.418Z"
   },
   {
    "duration": 29,
    "start_time": "2022-12-21T11:13:07.606Z"
   },
   {
    "duration": 494,
    "start_time": "2022-12-21T11:13:07.638Z"
   },
   {
    "duration": 38,
    "start_time": "2022-12-21T11:13:08.134Z"
   },
   {
    "duration": 175,
    "start_time": "2022-12-21T11:13:08.174Z"
   },
   {
    "duration": 19,
    "start_time": "2022-12-21T11:13:08.351Z"
   },
   {
    "duration": 30,
    "start_time": "2022-12-21T11:13:08.371Z"
   },
   {
    "duration": 23,
    "start_time": "2022-12-21T11:13:08.402Z"
   },
   {
    "duration": 34,
    "start_time": "2022-12-21T11:13:08.427Z"
   },
   {
    "duration": 537,
    "start_time": "2022-12-21T11:13:08.463Z"
   },
   {
    "duration": 9,
    "start_time": "2022-12-21T11:13:09.002Z"
   },
   {
    "duration": 32,
    "start_time": "2022-12-21T11:13:09.012Z"
   },
   {
    "duration": 9,
    "start_time": "2022-12-21T11:13:09.046Z"
   },
   {
    "duration": 382,
    "start_time": "2022-12-21T11:13:09.056Z"
   },
   {
    "duration": 17,
    "start_time": "2022-12-21T11:13:09.440Z"
   },
   {
    "duration": 11,
    "start_time": "2022-12-21T11:13:09.459Z"
   },
   {
    "duration": 85,
    "start_time": "2022-12-21T11:13:09.472Z"
   },
   {
    "duration": 690,
    "start_time": "2022-12-21T11:13:09.558Z"
   },
   {
    "duration": 30,
    "start_time": "2022-12-21T11:13:10.249Z"
   },
   {
    "duration": 565,
    "start_time": "2022-12-21T11:13:10.281Z"
   },
   {
    "duration": 603,
    "start_time": "2022-12-21T11:17:11.306Z"
   },
   {
    "duration": 589,
    "start_time": "2022-12-21T11:17:47.445Z"
   },
   {
    "duration": 550,
    "start_time": "2022-12-21T11:18:38.892Z"
   },
   {
    "duration": 499,
    "start_time": "2022-12-21T11:18:48.327Z"
   },
   {
    "duration": 489,
    "start_time": "2022-12-21T11:19:05.925Z"
   },
   {
    "duration": 1238,
    "start_time": "2022-12-21T11:24:44.864Z"
   },
   {
    "duration": 18,
    "start_time": "2022-12-21T11:24:46.104Z"
   },
   {
    "duration": 22,
    "start_time": "2022-12-21T11:24:46.124Z"
   },
   {
    "duration": 13,
    "start_time": "2022-12-21T11:24:46.148Z"
   },
   {
    "duration": 44,
    "start_time": "2022-12-21T11:24:46.163Z"
   },
   {
    "duration": 3,
    "start_time": "2022-12-21T11:24:46.209Z"
   },
   {
    "duration": 13,
    "start_time": "2022-12-21T11:24:46.214Z"
   },
   {
    "duration": 16,
    "start_time": "2022-12-21T11:24:46.229Z"
   },
   {
    "duration": 22,
    "start_time": "2022-12-21T11:24:46.246Z"
   },
   {
    "duration": 13,
    "start_time": "2022-12-21T11:24:46.271Z"
   },
   {
    "duration": 57,
    "start_time": "2022-12-21T11:24:46.286Z"
   },
   {
    "duration": 10,
    "start_time": "2022-12-21T11:24:46.344Z"
   },
   {
    "duration": 12,
    "start_time": "2022-12-21T11:24:46.355Z"
   },
   {
    "duration": 19,
    "start_time": "2022-12-21T11:24:46.369Z"
   },
   {
    "duration": 25,
    "start_time": "2022-12-21T11:24:46.389Z"
   },
   {
    "duration": 16,
    "start_time": "2022-12-21T11:24:46.416Z"
   },
   {
    "duration": 3,
    "start_time": "2022-12-21T11:24:46.433Z"
   },
   {
    "duration": 32,
    "start_time": "2022-12-21T11:24:46.438Z"
   },
   {
    "duration": 18,
    "start_time": "2022-12-21T11:24:46.471Z"
   },
   {
    "duration": 13,
    "start_time": "2022-12-21T11:24:46.490Z"
   },
   {
    "duration": 31,
    "start_time": "2022-12-21T11:24:46.504Z"
   },
   {
    "duration": 32,
    "start_time": "2022-12-21T11:24:46.536Z"
   },
   {
    "duration": 12,
    "start_time": "2022-12-21T11:24:46.570Z"
   },
   {
    "duration": 29,
    "start_time": "2022-12-21T11:24:46.584Z"
   },
   {
    "duration": 27,
    "start_time": "2022-12-21T11:24:46.615Z"
   },
   {
    "duration": 163,
    "start_time": "2022-12-21T11:24:46.643Z"
   },
   {
    "duration": 29,
    "start_time": "2022-12-21T11:24:46.807Z"
   },
   {
    "duration": 468,
    "start_time": "2022-12-21T11:24:46.838Z"
   },
   {
    "duration": 29,
    "start_time": "2022-12-21T11:24:47.308Z"
   },
   {
    "duration": 148,
    "start_time": "2022-12-21T11:24:47.338Z"
   },
   {
    "duration": 14,
    "start_time": "2022-12-21T11:24:47.487Z"
   },
   {
    "duration": 17,
    "start_time": "2022-12-21T11:24:47.502Z"
   },
   {
    "duration": 31,
    "start_time": "2022-12-21T11:24:47.520Z"
   },
   {
    "duration": 39,
    "start_time": "2022-12-21T11:24:47.552Z"
   },
   {
    "duration": 462,
    "start_time": "2022-12-21T11:24:47.592Z"
   },
   {
    "duration": 7,
    "start_time": "2022-12-21T11:24:48.056Z"
   },
   {
    "duration": 27,
    "start_time": "2022-12-21T11:24:48.064Z"
   },
   {
    "duration": 25,
    "start_time": "2022-12-21T11:24:48.096Z"
   },
   {
    "duration": 352,
    "start_time": "2022-12-21T11:24:48.122Z"
   },
   {
    "duration": 15,
    "start_time": "2022-12-21T11:24:48.475Z"
   },
   {
    "duration": 14,
    "start_time": "2022-12-21T11:24:48.491Z"
   },
   {
    "duration": 672,
    "start_time": "2022-12-21T11:24:48.506Z"
   },
   {
    "duration": 40,
    "start_time": "2022-12-21T11:24:49.180Z"
   },
   {
    "duration": 480,
    "start_time": "2022-12-21T11:24:49.222Z"
   },
   {
    "duration": 1171,
    "start_time": "2022-12-21T11:27:32.068Z"
   },
   {
    "duration": 18,
    "start_time": "2022-12-21T11:27:33.241Z"
   },
   {
    "duration": 16,
    "start_time": "2022-12-21T11:27:33.261Z"
   },
   {
    "duration": 21,
    "start_time": "2022-12-21T11:27:33.279Z"
   },
   {
    "duration": 32,
    "start_time": "2022-12-21T11:27:33.302Z"
   },
   {
    "duration": 4,
    "start_time": "2022-12-21T11:27:33.336Z"
   },
   {
    "duration": 10,
    "start_time": "2022-12-21T11:27:33.342Z"
   },
   {
    "duration": 6,
    "start_time": "2022-12-21T11:27:33.354Z"
   },
   {
    "duration": 14,
    "start_time": "2022-12-21T11:27:33.362Z"
   },
   {
    "duration": 6,
    "start_time": "2022-12-21T11:27:33.399Z"
   },
   {
    "duration": 37,
    "start_time": "2022-12-21T11:27:33.407Z"
   },
   {
    "duration": 10,
    "start_time": "2022-12-21T11:27:33.445Z"
   },
   {
    "duration": 4,
    "start_time": "2022-12-21T11:27:33.456Z"
   },
   {
    "duration": 16,
    "start_time": "2022-12-21T11:27:33.462Z"
   },
   {
    "duration": 37,
    "start_time": "2022-12-21T11:27:33.479Z"
   },
   {
    "duration": 16,
    "start_time": "2022-12-21T11:27:33.517Z"
   },
   {
    "duration": 3,
    "start_time": "2022-12-21T11:27:33.535Z"
   },
   {
    "duration": 12,
    "start_time": "2022-12-21T11:27:33.540Z"
   },
   {
    "duration": 9,
    "start_time": "2022-12-21T11:27:33.553Z"
   },
   {
    "duration": 4,
    "start_time": "2022-12-21T11:27:33.564Z"
   },
   {
    "duration": 8,
    "start_time": "2022-12-21T11:27:33.597Z"
   },
   {
    "duration": 16,
    "start_time": "2022-12-21T11:27:33.606Z"
   },
   {
    "duration": 6,
    "start_time": "2022-12-21T11:27:33.623Z"
   },
   {
    "duration": 19,
    "start_time": "2022-12-21T11:27:33.630Z"
   },
   {
    "duration": 27,
    "start_time": "2022-12-21T11:27:33.650Z"
   },
   {
    "duration": 181,
    "start_time": "2022-12-21T11:27:33.697Z"
   },
   {
    "duration": 39,
    "start_time": "2022-12-21T11:27:33.879Z"
   },
   {
    "duration": 465,
    "start_time": "2022-12-21T11:27:33.921Z"
   },
   {
    "duration": 35,
    "start_time": "2022-12-21T11:27:34.388Z"
   },
   {
    "duration": 153,
    "start_time": "2022-12-21T11:27:34.424Z"
   },
   {
    "duration": 20,
    "start_time": "2022-12-21T11:27:34.579Z"
   },
   {
    "duration": 10,
    "start_time": "2022-12-21T11:27:34.601Z"
   },
   {
    "duration": 15,
    "start_time": "2022-12-21T11:27:34.612Z"
   },
   {
    "duration": 46,
    "start_time": "2022-12-21T11:27:34.629Z"
   },
   {
    "duration": 491,
    "start_time": "2022-12-21T11:27:34.677Z"
   },
   {
    "duration": 8,
    "start_time": "2022-12-21T11:27:35.170Z"
   },
   {
    "duration": 36,
    "start_time": "2022-12-21T11:27:35.180Z"
   },
   {
    "duration": 15,
    "start_time": "2022-12-21T11:27:35.218Z"
   },
   {
    "duration": 355,
    "start_time": "2022-12-21T11:27:35.235Z"
   },
   {
    "duration": 15,
    "start_time": "2022-12-21T11:27:35.592Z"
   },
   {
    "duration": 6,
    "start_time": "2022-12-21T11:27:35.609Z"
   },
   {
    "duration": 621,
    "start_time": "2022-12-21T11:27:35.617Z"
   },
   {
    "duration": 29,
    "start_time": "2022-12-21T11:27:36.240Z"
   },
   {
    "duration": 513,
    "start_time": "2022-12-21T11:27:36.270Z"
   },
   {
    "duration": 464,
    "start_time": "2022-12-21T11:29:18.577Z"
   },
   {
    "duration": 1149,
    "start_time": "2022-12-21T11:29:50.252Z"
   },
   {
    "duration": 20,
    "start_time": "2022-12-21T11:29:51.403Z"
   },
   {
    "duration": 15,
    "start_time": "2022-12-21T11:29:51.424Z"
   },
   {
    "duration": 10,
    "start_time": "2022-12-21T11:29:51.441Z"
   },
   {
    "duration": 58,
    "start_time": "2022-12-21T11:29:51.453Z"
   },
   {
    "duration": 3,
    "start_time": "2022-12-21T11:29:51.513Z"
   },
   {
    "duration": 13,
    "start_time": "2022-12-21T11:29:51.518Z"
   },
   {
    "duration": 6,
    "start_time": "2022-12-21T11:29:51.532Z"
   },
   {
    "duration": 8,
    "start_time": "2022-12-21T11:29:51.540Z"
   },
   {
    "duration": 5,
    "start_time": "2022-12-21T11:29:51.550Z"
   },
   {
    "duration": 49,
    "start_time": "2022-12-21T11:29:51.556Z"
   },
   {
    "duration": 9,
    "start_time": "2022-12-21T11:29:51.607Z"
   },
   {
    "duration": 3,
    "start_time": "2022-12-21T11:29:51.618Z"
   },
   {
    "duration": 14,
    "start_time": "2022-12-21T11:29:51.623Z"
   },
   {
    "duration": 18,
    "start_time": "2022-12-21T11:29:51.638Z"
   },
   {
    "duration": 41,
    "start_time": "2022-12-21T11:29:51.658Z"
   },
   {
    "duration": 4,
    "start_time": "2022-12-21T11:29:51.701Z"
   },
   {
    "duration": 19,
    "start_time": "2022-12-21T11:29:51.707Z"
   },
   {
    "duration": 5,
    "start_time": "2022-12-21T11:29:51.728Z"
   },
   {
    "duration": 10,
    "start_time": "2022-12-21T11:29:51.734Z"
   },
   {
    "duration": 19,
    "start_time": "2022-12-21T11:29:51.745Z"
   },
   {
    "duration": 23,
    "start_time": "2022-12-21T11:29:51.765Z"
   },
   {
    "duration": 12,
    "start_time": "2022-12-21T11:29:51.789Z"
   },
   {
    "duration": 21,
    "start_time": "2022-12-21T11:29:51.803Z"
   },
   {
    "duration": 29,
    "start_time": "2022-12-21T11:29:51.826Z"
   },
   {
    "duration": 214,
    "start_time": "2022-12-21T11:29:51.857Z"
   },
   {
    "duration": 36,
    "start_time": "2022-12-21T11:29:52.072Z"
   },
   {
    "duration": 496,
    "start_time": "2022-12-21T11:29:52.112Z"
   },
   {
    "duration": 33,
    "start_time": "2022-12-21T11:29:52.609Z"
   },
   {
    "duration": 162,
    "start_time": "2022-12-21T11:29:52.643Z"
   },
   {
    "duration": 13,
    "start_time": "2022-12-21T11:29:52.807Z"
   },
   {
    "duration": 10,
    "start_time": "2022-12-21T11:29:52.822Z"
   },
   {
    "duration": 14,
    "start_time": "2022-12-21T11:29:52.833Z"
   },
   {
    "duration": 67,
    "start_time": "2022-12-21T11:29:52.848Z"
   },
   {
    "duration": 428,
    "start_time": "2022-12-21T11:29:52.918Z"
   },
   {
    "duration": 7,
    "start_time": "2022-12-21T11:29:53.348Z"
   },
   {
    "duration": 15,
    "start_time": "2022-12-21T11:29:53.357Z"
   },
   {
    "duration": 25,
    "start_time": "2022-12-21T11:29:53.374Z"
   },
   {
    "duration": 373,
    "start_time": "2022-12-21T11:29:53.401Z"
   },
   {
    "duration": 16,
    "start_time": "2022-12-21T11:29:53.776Z"
   },
   {
    "duration": 7,
    "start_time": "2022-12-21T11:29:53.793Z"
   },
   {
    "duration": 558,
    "start_time": "2022-12-21T11:29:53.802Z"
   },
   {
    "duration": 38,
    "start_time": "2022-12-21T11:29:54.362Z"
   },
   {
    "duration": 532,
    "start_time": "2022-12-21T11:29:54.402Z"
   },
   {
    "duration": 602,
    "start_time": "2022-12-21T11:30:17.386Z"
   },
   {
    "duration": 641,
    "start_time": "2022-12-21T11:30:32.548Z"
   },
   {
    "duration": 1289,
    "start_time": "2022-12-21T11:31:09.474Z"
   },
   {
    "duration": 18,
    "start_time": "2022-12-21T11:31:10.766Z"
   },
   {
    "duration": 28,
    "start_time": "2022-12-21T11:31:10.786Z"
   },
   {
    "duration": 28,
    "start_time": "2022-12-21T11:31:10.816Z"
   },
   {
    "duration": 74,
    "start_time": "2022-12-21T11:31:10.846Z"
   },
   {
    "duration": 4,
    "start_time": "2022-12-21T11:31:10.921Z"
   },
   {
    "duration": 40,
    "start_time": "2022-12-21T11:31:10.926Z"
   },
   {
    "duration": 21,
    "start_time": "2022-12-21T11:31:10.968Z"
   },
   {
    "duration": 18,
    "start_time": "2022-12-21T11:31:10.990Z"
   },
   {
    "duration": 25,
    "start_time": "2022-12-21T11:31:11.011Z"
   },
   {
    "duration": 43,
    "start_time": "2022-12-21T11:31:11.038Z"
   },
   {
    "duration": 10,
    "start_time": "2022-12-21T11:31:11.082Z"
   },
   {
    "duration": 28,
    "start_time": "2022-12-21T11:31:11.093Z"
   },
   {
    "duration": 43,
    "start_time": "2022-12-21T11:31:11.123Z"
   },
   {
    "duration": 39,
    "start_time": "2022-12-21T11:31:11.167Z"
   },
   {
    "duration": 35,
    "start_time": "2022-12-21T11:31:11.208Z"
   },
   {
    "duration": 5,
    "start_time": "2022-12-21T11:31:11.245Z"
   },
   {
    "duration": 34,
    "start_time": "2022-12-21T11:31:11.251Z"
   },
   {
    "duration": 27,
    "start_time": "2022-12-21T11:31:11.287Z"
   },
   {
    "duration": 21,
    "start_time": "2022-12-21T11:31:11.315Z"
   },
   {
    "duration": 41,
    "start_time": "2022-12-21T11:31:11.338Z"
   },
   {
    "duration": 40,
    "start_time": "2022-12-21T11:31:11.380Z"
   },
   {
    "duration": 18,
    "start_time": "2022-12-21T11:31:11.421Z"
   },
   {
    "duration": 46,
    "start_time": "2022-12-21T11:31:11.441Z"
   },
   {
    "duration": 46,
    "start_time": "2022-12-21T11:31:11.488Z"
   },
   {
    "duration": 191,
    "start_time": "2022-12-21T11:31:11.535Z"
   },
   {
    "duration": 31,
    "start_time": "2022-12-21T11:31:11.727Z"
   },
   {
    "duration": 536,
    "start_time": "2022-12-21T11:31:11.762Z"
   },
   {
    "duration": 32,
    "start_time": "2022-12-21T11:31:12.300Z"
   },
   {
    "duration": 165,
    "start_time": "2022-12-21T11:31:12.334Z"
   },
   {
    "duration": 14,
    "start_time": "2022-12-21T11:31:12.501Z"
   },
   {
    "duration": 10,
    "start_time": "2022-12-21T11:31:12.516Z"
   },
   {
    "duration": 16,
    "start_time": "2022-12-21T11:31:12.528Z"
   },
   {
    "duration": 53,
    "start_time": "2022-12-21T11:31:12.546Z"
   },
   {
    "duration": 450,
    "start_time": "2022-12-21T11:31:12.600Z"
   },
   {
    "duration": 8,
    "start_time": "2022-12-21T11:31:13.052Z"
   },
   {
    "duration": 106,
    "start_time": "2022-12-21T11:31:13.061Z"
   },
   {
    "duration": 59,
    "start_time": "2022-12-21T11:31:13.169Z"
   },
   {
    "duration": 448,
    "start_time": "2022-12-21T11:31:13.230Z"
   },
   {
    "duration": 16,
    "start_time": "2022-12-21T11:31:13.680Z"
   },
   {
    "duration": 55,
    "start_time": "2022-12-21T11:31:13.698Z"
   },
   {
    "duration": 651,
    "start_time": "2022-12-21T11:31:13.755Z"
   },
   {
    "duration": 31,
    "start_time": "2022-12-21T11:31:14.408Z"
   },
   {
    "duration": 522,
    "start_time": "2022-12-21T11:31:14.441Z"
   },
   {
    "duration": 1246,
    "start_time": "2022-12-21T11:33:10.691Z"
   },
   {
    "duration": 23,
    "start_time": "2022-12-21T11:33:11.939Z"
   },
   {
    "duration": 18,
    "start_time": "2022-12-21T11:33:11.963Z"
   },
   {
    "duration": 18,
    "start_time": "2022-12-21T11:33:11.983Z"
   },
   {
    "duration": 33,
    "start_time": "2022-12-21T11:33:12.002Z"
   },
   {
    "duration": 4,
    "start_time": "2022-12-21T11:33:12.037Z"
   },
   {
    "duration": 30,
    "start_time": "2022-12-21T11:33:12.043Z"
   },
   {
    "duration": 5,
    "start_time": "2022-12-21T11:33:12.075Z"
   },
   {
    "duration": 21,
    "start_time": "2022-12-21T11:33:12.081Z"
   },
   {
    "duration": 5,
    "start_time": "2022-12-21T11:33:12.104Z"
   },
   {
    "duration": 42,
    "start_time": "2022-12-21T11:33:12.111Z"
   },
   {
    "duration": 10,
    "start_time": "2022-12-21T11:33:12.157Z"
   },
   {
    "duration": 28,
    "start_time": "2022-12-21T11:33:12.169Z"
   },
   {
    "duration": 12,
    "start_time": "2022-12-21T11:33:12.199Z"
   },
   {
    "duration": 22,
    "start_time": "2022-12-21T11:33:12.213Z"
   },
   {
    "duration": 16,
    "start_time": "2022-12-21T11:33:12.236Z"
   },
   {
    "duration": 3,
    "start_time": "2022-12-21T11:33:12.254Z"
   },
   {
    "duration": 13,
    "start_time": "2022-12-21T11:33:12.258Z"
   },
   {
    "duration": 25,
    "start_time": "2022-12-21T11:33:12.273Z"
   },
   {
    "duration": 4,
    "start_time": "2022-12-21T11:33:12.300Z"
   },
   {
    "duration": 12,
    "start_time": "2022-12-21T11:33:12.305Z"
   },
   {
    "duration": 17,
    "start_time": "2022-12-21T11:33:12.319Z"
   },
   {
    "duration": 7,
    "start_time": "2022-12-21T11:33:12.337Z"
   },
   {
    "duration": 23,
    "start_time": "2022-12-21T11:33:12.345Z"
   },
   {
    "duration": 52,
    "start_time": "2022-12-21T11:33:12.370Z"
   },
   {
    "duration": 174,
    "start_time": "2022-12-21T11:33:12.423Z"
   },
   {
    "duration": 42,
    "start_time": "2022-12-21T11:33:12.598Z"
   },
   {
    "duration": 461,
    "start_time": "2022-12-21T11:33:12.642Z"
   },
   {
    "duration": 29,
    "start_time": "2022-12-21T11:33:13.105Z"
   },
   {
    "duration": 146,
    "start_time": "2022-12-21T11:33:13.136Z"
   },
   {
    "duration": 14,
    "start_time": "2022-12-21T11:33:13.284Z"
   },
   {
    "duration": 10,
    "start_time": "2022-12-21T11:33:13.299Z"
   },
   {
    "duration": 12,
    "start_time": "2022-12-21T11:33:13.310Z"
   },
   {
    "duration": 31,
    "start_time": "2022-12-21T11:33:13.323Z"
   },
   {
    "duration": 498,
    "start_time": "2022-12-21T11:33:13.355Z"
   },
   {
    "duration": 8,
    "start_time": "2022-12-21T11:33:13.857Z"
   },
   {
    "duration": 31,
    "start_time": "2022-12-21T11:33:13.866Z"
   },
   {
    "duration": 8,
    "start_time": "2022-12-21T11:33:13.899Z"
   },
   {
    "duration": 350,
    "start_time": "2022-12-21T11:33:13.908Z"
   },
   {
    "duration": 22,
    "start_time": "2022-12-21T11:33:14.260Z"
   },
   {
    "duration": 8,
    "start_time": "2022-12-21T11:33:14.284Z"
   },
   {
    "duration": 610,
    "start_time": "2022-12-21T11:33:14.294Z"
   },
   {
    "duration": 32,
    "start_time": "2022-12-21T11:33:14.905Z"
   },
   {
    "duration": 487,
    "start_time": "2022-12-21T11:33:14.938Z"
   },
   {
    "duration": 600,
    "start_time": "2022-12-21T11:34:45.465Z"
   },
   {
    "duration": 520,
    "start_time": "2022-12-21T11:34:57.990Z"
   },
   {
    "duration": 1200,
    "start_time": "2022-12-21T11:35:28.567Z"
   },
   {
    "duration": 18,
    "start_time": "2022-12-21T11:35:29.769Z"
   },
   {
    "duration": 14,
    "start_time": "2022-12-21T11:35:29.788Z"
   },
   {
    "duration": 11,
    "start_time": "2022-12-21T11:35:29.803Z"
   },
   {
    "duration": 31,
    "start_time": "2022-12-21T11:35:29.816Z"
   },
   {
    "duration": 4,
    "start_time": "2022-12-21T11:35:29.848Z"
   },
   {
    "duration": 17,
    "start_time": "2022-12-21T11:35:29.854Z"
   },
   {
    "duration": 24,
    "start_time": "2022-12-21T11:35:29.873Z"
   },
   {
    "duration": 6,
    "start_time": "2022-12-21T11:35:29.899Z"
   },
   {
    "duration": 6,
    "start_time": "2022-12-21T11:35:29.907Z"
   },
   {
    "duration": 44,
    "start_time": "2022-12-21T11:35:29.914Z"
   },
   {
    "duration": 13,
    "start_time": "2022-12-21T11:35:29.959Z"
   },
   {
    "duration": 26,
    "start_time": "2022-12-21T11:35:29.974Z"
   },
   {
    "duration": 20,
    "start_time": "2022-12-21T11:35:30.001Z"
   },
   {
    "duration": 35,
    "start_time": "2022-12-21T11:35:30.023Z"
   },
   {
    "duration": 15,
    "start_time": "2022-12-21T11:35:30.061Z"
   },
   {
    "duration": 8,
    "start_time": "2022-12-21T11:35:30.078Z"
   },
   {
    "duration": 154,
    "start_time": "2022-12-21T11:35:30.087Z"
   },
   {
    "duration": 34,
    "start_time": "2022-12-21T11:35:30.243Z"
   },
   {
    "duration": 12,
    "start_time": "2022-12-21T11:35:30.279Z"
   },
   {
    "duration": 30,
    "start_time": "2022-12-21T11:35:30.293Z"
   },
   {
    "duration": 52,
    "start_time": "2022-12-21T11:35:30.325Z"
   },
   {
    "duration": 23,
    "start_time": "2022-12-21T11:35:30.379Z"
   },
   {
    "duration": 39,
    "start_time": "2022-12-21T11:35:30.403Z"
   },
   {
    "duration": 37,
    "start_time": "2022-12-21T11:35:30.444Z"
   },
   {
    "duration": 202,
    "start_time": "2022-12-21T11:35:30.484Z"
   },
   {
    "duration": 33,
    "start_time": "2022-12-21T11:35:30.688Z"
   },
   {
    "duration": 495,
    "start_time": "2022-12-21T11:35:30.725Z"
   },
   {
    "duration": 26,
    "start_time": "2022-12-21T11:35:31.222Z"
   },
   {
    "duration": 154,
    "start_time": "2022-12-21T11:35:31.250Z"
   },
   {
    "duration": 15,
    "start_time": "2022-12-21T11:35:31.406Z"
   },
   {
    "duration": 56,
    "start_time": "2022-12-21T11:35:31.422Z"
   },
   {
    "duration": 48,
    "start_time": "2022-12-21T11:35:31.479Z"
   },
   {
    "duration": 92,
    "start_time": "2022-12-21T11:35:31.529Z"
   },
   {
    "duration": 451,
    "start_time": "2022-12-21T11:35:31.622Z"
   },
   {
    "duration": 9,
    "start_time": "2022-12-21T11:35:32.074Z"
   },
   {
    "duration": 32,
    "start_time": "2022-12-21T11:35:32.085Z"
   },
   {
    "duration": 57,
    "start_time": "2022-12-21T11:35:32.118Z"
   },
   {
    "duration": 390,
    "start_time": "2022-12-21T11:35:32.177Z"
   },
   {
    "duration": 18,
    "start_time": "2022-12-21T11:35:32.568Z"
   },
   {
    "duration": 15,
    "start_time": "2022-12-21T11:35:32.587Z"
   },
   {
    "duration": 554,
    "start_time": "2022-12-21T11:35:32.603Z"
   },
   {
    "duration": 55,
    "start_time": "2022-12-21T11:35:33.159Z"
   },
   {
    "duration": 526,
    "start_time": "2022-12-21T11:35:33.217Z"
   },
   {
    "duration": 191,
    "start_time": "2022-12-21T12:12:13.160Z"
   },
   {
    "duration": 579,
    "start_time": "2022-12-21T12:12:28.862Z"
   },
   {
    "duration": 152,
    "start_time": "2022-12-21T12:15:53.794Z"
   },
   {
    "duration": 150,
    "start_time": "2022-12-21T12:16:06.096Z"
   },
   {
    "duration": 144,
    "start_time": "2022-12-21T12:16:16.087Z"
   },
   {
    "duration": 130,
    "start_time": "2022-12-21T12:17:38.243Z"
   },
   {
    "duration": 49,
    "start_time": "2022-12-21T22:44:15.250Z"
   },
   {
    "duration": 1594,
    "start_time": "2022-12-21T22:45:38.117Z"
   },
   {
    "duration": 21,
    "start_time": "2022-12-21T22:45:39.713Z"
   },
   {
    "duration": 17,
    "start_time": "2022-12-21T22:45:39.736Z"
   },
   {
    "duration": 10,
    "start_time": "2022-12-21T22:45:39.756Z"
   },
   {
    "duration": 53,
    "start_time": "2022-12-21T22:45:39.767Z"
   },
   {
    "duration": 4,
    "start_time": "2022-12-21T22:45:39.822Z"
   },
   {
    "duration": 10,
    "start_time": "2022-12-21T22:45:39.827Z"
   },
   {
    "duration": 5,
    "start_time": "2022-12-21T22:45:39.839Z"
   },
   {
    "duration": 11,
    "start_time": "2022-12-21T22:45:39.846Z"
   },
   {
    "duration": 5,
    "start_time": "2022-12-21T22:45:39.860Z"
   },
   {
    "duration": 65,
    "start_time": "2022-12-21T22:45:39.866Z"
   },
   {
    "duration": 11,
    "start_time": "2022-12-21T22:45:39.933Z"
   },
   {
    "duration": 8,
    "start_time": "2022-12-21T22:45:39.947Z"
   },
   {
    "duration": 41,
    "start_time": "2022-12-21T22:45:39.957Z"
   },
   {
    "duration": 21,
    "start_time": "2022-12-21T22:45:40.000Z"
   },
   {
    "duration": 19,
    "start_time": "2022-12-21T22:45:40.023Z"
   },
   {
    "duration": 4,
    "start_time": "2022-12-21T22:45:40.043Z"
   },
   {
    "duration": 29,
    "start_time": "2022-12-21T22:45:40.049Z"
   },
   {
    "duration": 18,
    "start_time": "2022-12-21T22:45:40.080Z"
   },
   {
    "duration": 3,
    "start_time": "2022-12-21T22:45:40.099Z"
   },
   {
    "duration": 12,
    "start_time": "2022-12-21T22:45:40.104Z"
   },
   {
    "duration": 17,
    "start_time": "2022-12-21T22:45:40.117Z"
   },
   {
    "duration": 6,
    "start_time": "2022-12-21T22:45:40.136Z"
   },
   {
    "duration": 74,
    "start_time": "2022-12-21T22:45:40.144Z"
   },
   {
    "duration": 213,
    "start_time": "2022-12-21T22:45:40.220Z"
   },
   {
    "duration": 35,
    "start_time": "2022-12-21T22:45:40.435Z"
   },
   {
    "duration": 572,
    "start_time": "2022-12-21T22:45:40.472Z"
   },
   {
    "duration": 33,
    "start_time": "2022-12-21T22:45:41.047Z"
   },
   {
    "duration": 162,
    "start_time": "2022-12-21T22:45:41.096Z"
   },
   {
    "duration": 6,
    "start_time": "2022-12-21T22:45:41.260Z"
   },
   {
    "duration": 9,
    "start_time": "2022-12-21T22:45:41.268Z"
   },
   {
    "duration": 31,
    "start_time": "2022-12-21T22:45:41.279Z"
   },
   {
    "duration": 36,
    "start_time": "2022-12-21T22:45:41.313Z"
   },
   {
    "duration": 527,
    "start_time": "2022-12-21T22:45:41.352Z"
   },
   {
    "duration": 15,
    "start_time": "2022-12-21T22:45:41.881Z"
   },
   {
    "duration": 18,
    "start_time": "2022-12-21T22:45:41.898Z"
   },
   {
    "duration": 13,
    "start_time": "2022-12-21T22:45:41.918Z"
   },
   {
    "duration": 376,
    "start_time": "2022-12-21T22:45:41.934Z"
   },
   {
    "duration": 17,
    "start_time": "2022-12-21T22:45:42.312Z"
   },
   {
    "duration": 7,
    "start_time": "2022-12-21T22:45:42.331Z"
   },
   {
    "duration": 640,
    "start_time": "2022-12-21T22:45:42.340Z"
   },
   {
    "duration": 48,
    "start_time": "2022-12-21T22:45:42.981Z"
   },
   {
    "duration": 491,
    "start_time": "2022-12-21T22:45:43.031Z"
   },
   {
    "duration": 1684,
    "start_time": "2023-01-20T16:32:22.771Z"
   },
   {
    "duration": 30,
    "start_time": "2023-01-20T16:32:24.457Z"
   },
   {
    "duration": 21,
    "start_time": "2023-01-20T16:32:24.488Z"
   },
   {
    "duration": 23,
    "start_time": "2023-01-20T16:32:24.513Z"
   },
   {
    "duration": 66,
    "start_time": "2023-01-20T16:32:24.539Z"
   },
   {
    "duration": 4,
    "start_time": "2023-01-20T16:32:24.607Z"
   },
   {
    "duration": 28,
    "start_time": "2023-01-20T16:32:24.613Z"
   },
   {
    "duration": 14,
    "start_time": "2023-01-20T16:32:24.643Z"
   },
   {
    "duration": 16,
    "start_time": "2023-01-20T16:32:24.659Z"
   },
   {
    "duration": 7,
    "start_time": "2023-01-20T16:32:24.683Z"
   },
   {
    "duration": 72,
    "start_time": "2023-01-20T16:32:24.692Z"
   },
   {
    "duration": 13,
    "start_time": "2023-01-20T16:32:24.766Z"
   },
   {
    "duration": 11,
    "start_time": "2023-01-20T16:32:24.783Z"
   },
   {
    "duration": 27,
    "start_time": "2023-01-20T16:32:24.796Z"
   },
   {
    "duration": 33,
    "start_time": "2023-01-20T16:32:24.825Z"
   },
   {
    "duration": 26,
    "start_time": "2023-01-20T16:32:24.860Z"
   },
   {
    "duration": 6,
    "start_time": "2023-01-20T16:32:24.888Z"
   },
   {
    "duration": 28,
    "start_time": "2023-01-20T16:32:24.896Z"
   },
   {
    "duration": 16,
    "start_time": "2023-01-20T16:32:24.927Z"
   },
   {
    "duration": 21,
    "start_time": "2023-01-20T16:32:24.945Z"
   },
   {
    "duration": 40,
    "start_time": "2023-01-20T16:32:24.968Z"
   },
   {
    "duration": 27,
    "start_time": "2023-01-20T16:32:25.010Z"
   },
   {
    "duration": 9,
    "start_time": "2023-01-20T16:32:25.038Z"
   },
   {
    "duration": 52,
    "start_time": "2023-01-20T16:32:25.048Z"
   },
   {
    "duration": 216,
    "start_time": "2023-01-20T16:32:25.102Z"
   },
   {
    "duration": 39,
    "start_time": "2023-01-20T16:32:25.321Z"
   },
   {
    "duration": 568,
    "start_time": "2023-01-20T16:32:25.362Z"
   },
   {
    "duration": 38,
    "start_time": "2023-01-20T16:32:25.933Z"
   },
   {
    "duration": 478,
    "start_time": "2023-01-20T16:32:25.983Z"
   },
   {
    "duration": 33,
    "start_time": "2023-01-20T16:32:26.463Z"
   },
   {
    "duration": 6,
    "start_time": "2023-01-20T16:32:26.498Z"
   },
   {
    "duration": 832,
    "start_time": "2023-01-20T16:32:26.506Z"
   },
   {
    "duration": 45,
    "start_time": "2023-01-20T16:32:27.340Z"
   },
   {
    "duration": 527,
    "start_time": "2023-01-20T16:32:27.387Z"
   },
   {
    "duration": 1383,
    "start_time": "2023-01-20T16:49:07.711Z"
   },
   {
    "duration": 22,
    "start_time": "2023-01-20T16:49:09.096Z"
   },
   {
    "duration": 33,
    "start_time": "2023-01-20T16:49:09.121Z"
   },
   {
    "duration": 34,
    "start_time": "2023-01-20T16:49:09.156Z"
   },
   {
    "duration": 71,
    "start_time": "2023-01-20T16:49:09.194Z"
   },
   {
    "duration": 4,
    "start_time": "2023-01-20T16:49:09.267Z"
   },
   {
    "duration": 45,
    "start_time": "2023-01-20T16:49:09.273Z"
   },
   {
    "duration": 37,
    "start_time": "2023-01-20T16:49:09.320Z"
   },
   {
    "duration": 33,
    "start_time": "2023-01-20T16:49:09.360Z"
   },
   {
    "duration": 36,
    "start_time": "2023-01-20T16:49:09.396Z"
   },
   {
    "duration": 87,
    "start_time": "2023-01-20T16:49:09.435Z"
   },
   {
    "duration": 14,
    "start_time": "2023-01-20T16:49:09.524Z"
   },
   {
    "duration": 25,
    "start_time": "2023-01-20T16:49:09.539Z"
   },
   {
    "duration": 45,
    "start_time": "2023-01-20T16:49:09.569Z"
   },
   {
    "duration": 57,
    "start_time": "2023-01-20T16:49:09.615Z"
   },
   {
    "duration": 37,
    "start_time": "2023-01-20T16:49:09.675Z"
   },
   {
    "duration": 16,
    "start_time": "2023-01-20T16:49:09.714Z"
   },
   {
    "duration": 59,
    "start_time": "2023-01-20T16:49:09.733Z"
   },
   {
    "duration": 40,
    "start_time": "2023-01-20T16:49:09.795Z"
   },
   {
    "duration": 36,
    "start_time": "2023-01-20T16:49:09.837Z"
   },
   {
    "duration": 31,
    "start_time": "2023-01-20T16:49:09.876Z"
   },
   {
    "duration": 59,
    "start_time": "2023-01-20T16:49:09.910Z"
   },
   {
    "duration": 24,
    "start_time": "2023-01-20T16:49:09.972Z"
   },
   {
    "duration": 118,
    "start_time": "2023-01-20T16:49:09.998Z"
   },
   {
    "duration": 259,
    "start_time": "2023-01-20T16:49:10.118Z"
   },
   {
    "duration": 40,
    "start_time": "2023-01-20T16:49:10.379Z"
   },
   {
    "duration": 605,
    "start_time": "2023-01-20T16:49:10.420Z"
   },
   {
    "duration": 45,
    "start_time": "2023-01-20T16:49:11.027Z"
   },
   {
    "duration": 58,
    "start_time": "2023-01-20T16:49:11.086Z"
   },
   {
    "duration": 525,
    "start_time": "2023-01-20T16:49:11.146Z"
   },
   {
    "duration": 71,
    "start_time": "2023-01-20T16:49:11.689Z"
   },
   {
    "duration": 0,
    "start_time": "2023-01-20T16:49:11.762Z"
   },
   {
    "duration": 0,
    "start_time": "2023-01-20T16:49:11.763Z"
   },
   {
    "duration": 0,
    "start_time": "2023-01-20T16:49:11.765Z"
   },
   {
    "duration": 0,
    "start_time": "2023-01-20T16:49:11.766Z"
   },
   {
    "duration": 1562,
    "start_time": "2023-01-20T16:49:28.821Z"
   },
   {
    "duration": 29,
    "start_time": "2023-01-20T16:49:30.385Z"
   },
   {
    "duration": 25,
    "start_time": "2023-01-20T16:49:30.417Z"
   },
   {
    "duration": 49,
    "start_time": "2023-01-20T16:49:30.445Z"
   },
   {
    "duration": 42,
    "start_time": "2023-01-20T16:49:30.496Z"
   },
   {
    "duration": 5,
    "start_time": "2023-01-20T16:49:30.541Z"
   },
   {
    "duration": 46,
    "start_time": "2023-01-20T16:49:30.548Z"
   },
   {
    "duration": 26,
    "start_time": "2023-01-20T16:49:30.596Z"
   },
   {
    "duration": 27,
    "start_time": "2023-01-20T16:49:30.625Z"
   },
   {
    "duration": 17,
    "start_time": "2023-01-20T16:49:30.656Z"
   },
   {
    "duration": 81,
    "start_time": "2023-01-20T16:49:30.675Z"
   },
   {
    "duration": 17,
    "start_time": "2023-01-20T16:49:30.759Z"
   },
   {
    "duration": 10,
    "start_time": "2023-01-20T16:49:30.778Z"
   },
   {
    "duration": 27,
    "start_time": "2023-01-20T16:49:30.792Z"
   },
   {
    "duration": 29,
    "start_time": "2023-01-20T16:49:30.822Z"
   },
   {
    "duration": 43,
    "start_time": "2023-01-20T16:49:30.854Z"
   },
   {
    "duration": 6,
    "start_time": "2023-01-20T16:49:30.899Z"
   },
   {
    "duration": 28,
    "start_time": "2023-01-20T16:49:30.907Z"
   },
   {
    "duration": 8,
    "start_time": "2023-01-20T16:49:30.938Z"
   },
   {
    "duration": 27,
    "start_time": "2023-01-20T16:49:30.949Z"
   },
   {
    "duration": 49,
    "start_time": "2023-01-20T16:49:30.986Z"
   },
   {
    "duration": 42,
    "start_time": "2023-01-20T16:49:31.037Z"
   },
   {
    "duration": 14,
    "start_time": "2023-01-20T16:49:31.081Z"
   },
   {
    "duration": 50,
    "start_time": "2023-01-20T16:49:31.097Z"
   },
   {
    "duration": 311,
    "start_time": "2023-01-20T16:49:31.149Z"
   },
   {
    "duration": 64,
    "start_time": "2023-01-20T16:49:31.463Z"
   },
   {
    "duration": 663,
    "start_time": "2023-01-20T16:49:31.529Z"
   },
   {
    "duration": 42,
    "start_time": "2023-01-20T16:49:32.197Z"
   },
   {
    "duration": 76,
    "start_time": "2023-01-20T16:49:32.241Z"
   },
   {
    "duration": 465,
    "start_time": "2023-01-20T16:49:32.319Z"
   },
   {
    "duration": 26,
    "start_time": "2023-01-20T16:49:32.788Z"
   },
   {
    "duration": 16,
    "start_time": "2023-01-20T16:49:32.816Z"
   },
   {
    "duration": 847,
    "start_time": "2023-01-20T16:49:32.834Z"
   },
   {
    "duration": 45,
    "start_time": "2023-01-20T16:49:33.685Z"
   },
   {
    "duration": 757,
    "start_time": "2023-01-20T16:49:33.733Z"
   },
   {
    "duration": 48,
    "start_time": "2023-01-23T12:16:31.382Z"
   },
   {
    "duration": 1673,
    "start_time": "2023-01-23T12:16:39.302Z"
   },
   {
    "duration": 19,
    "start_time": "2023-01-23T12:16:40.976Z"
   },
   {
    "duration": 16,
    "start_time": "2023-01-23T12:16:40.998Z"
   },
   {
    "duration": 10,
    "start_time": "2023-01-23T12:16:41.016Z"
   },
   {
    "duration": 35,
    "start_time": "2023-01-23T12:16:41.027Z"
   },
   {
    "duration": 29,
    "start_time": "2023-01-23T12:16:41.064Z"
   },
   {
    "duration": 10,
    "start_time": "2023-01-23T12:16:41.094Z"
   },
   {
    "duration": 4,
    "start_time": "2023-01-23T12:16:41.106Z"
   },
   {
    "duration": 12,
    "start_time": "2023-01-23T12:16:41.111Z"
   },
   {
    "duration": 5,
    "start_time": "2023-01-23T12:16:41.125Z"
   },
   {
    "duration": 61,
    "start_time": "2023-01-23T12:16:41.131Z"
   },
   {
    "duration": 11,
    "start_time": "2023-01-23T12:16:41.194Z"
   },
   {
    "duration": 7,
    "start_time": "2023-01-23T12:16:41.207Z"
   },
   {
    "duration": 15,
    "start_time": "2023-01-23T12:16:41.215Z"
   },
   {
    "duration": 21,
    "start_time": "2023-01-23T12:16:41.232Z"
   },
   {
    "duration": 43,
    "start_time": "2023-01-23T12:16:41.255Z"
   },
   {
    "duration": 4,
    "start_time": "2023-01-23T12:16:41.300Z"
   },
   {
    "duration": 13,
    "start_time": "2023-01-23T12:16:41.306Z"
   },
   {
    "duration": 6,
    "start_time": "2023-01-23T12:16:41.321Z"
   },
   {
    "duration": 3,
    "start_time": "2023-01-23T12:16:41.329Z"
   },
   {
    "duration": 9,
    "start_time": "2023-01-23T12:16:41.334Z"
   },
   {
    "duration": 14,
    "start_time": "2023-01-23T12:16:41.345Z"
   },
   {
    "duration": 36,
    "start_time": "2023-01-23T12:16:41.361Z"
   },
   {
    "duration": 34,
    "start_time": "2023-01-23T12:16:41.399Z"
   },
   {
    "duration": 209,
    "start_time": "2023-01-23T12:16:41.435Z"
   },
   {
    "duration": 45,
    "start_time": "2023-01-23T12:16:41.646Z"
   },
   {
    "duration": 517,
    "start_time": "2023-01-23T12:16:41.693Z"
   },
   {
    "duration": 29,
    "start_time": "2023-01-23T12:16:42.213Z"
   },
   {
    "duration": 49,
    "start_time": "2023-01-23T12:16:42.244Z"
   },
   {
    "duration": 438,
    "start_time": "2023-01-23T12:16:42.295Z"
   },
   {
    "duration": 20,
    "start_time": "2023-01-23T12:16:42.735Z"
   },
   {
    "duration": 7,
    "start_time": "2023-01-23T12:16:42.756Z"
   },
   {
    "duration": 588,
    "start_time": "2023-01-23T12:16:42.764Z"
   },
   {
    "duration": 41,
    "start_time": "2023-01-23T12:16:43.354Z"
   },
   {
    "duration": 511,
    "start_time": "2023-01-23T12:16:43.397Z"
   },
   {
    "duration": 430,
    "start_time": "2023-01-23T12:18:09.903Z"
   },
   {
    "duration": 444,
    "start_time": "2023-01-23T12:18:22.886Z"
   },
   {
    "duration": 436,
    "start_time": "2023-01-23T12:18:53.046Z"
   },
   {
    "duration": 518,
    "start_time": "2023-01-23T12:18:59.338Z"
   },
   {
    "duration": 411,
    "start_time": "2023-01-23T12:19:16.942Z"
   },
   {
    "duration": 410,
    "start_time": "2023-01-23T12:20:10.442Z"
   }
  ],
  "colab": {
   "name": "dpp_template_part2.ipynb",
   "provenance": []
  },
  "kernelspec": {
   "display_name": "Python 3 (ipykernel)",
   "language": "python",
   "name": "python3"
  },
  "language_info": {
   "codemirror_mode": {
    "name": "ipython",
    "version": 3
   },
   "file_extension": ".py",
   "mimetype": "text/x-python",
   "name": "python",
   "nbconvert_exporter": "python",
   "pygments_lexer": "ipython3",
   "version": "3.10.9"
  },
  "toc": {
   "base_numbering": 1,
   "nav_menu": {},
   "number_sections": true,
   "sideBar": true,
   "skip_h1_title": true,
   "title_cell": "Table of Contents",
   "title_sidebar": "Contents",
   "toc_cell": false,
   "toc_position": {},
   "toc_section_display": true,
   "toc_window_display": false
  }
 },
 "nbformat": 4,
 "nbformat_minor": 5
}
